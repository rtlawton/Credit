{
 "cells": [
  {
   "cell_type": "markdown",
   "id": "81009a96",
   "metadata": {},
   "source": [
    "# CREDIT CARD APPROVAL FROM CUSTOMER APPLICATION/ CREDIT HISTORY\n",
    "(Kaggle)<br><br>\n",
    "**Objective** is to build a model to predict credit card approval on the basis of information about the customer. The data is unlabelled, but we are provided with a file of credit histories to construct labels. Historically linear logistic regression has been used to build this kind of model. Is it possible to build a more sophisticated model while maintaining transparency of decision?"
   ]
  },
  {
   "cell_type": "markdown",
   "id": "e04a7375",
   "metadata": {},
   "source": [
    "**Contents:**<a id='s0'></a>\n",
    "1. [Build data labels](#s1)\n",
    "2. [Exploratory data analysis](#s2)\n",
    "3. [Feature engineering](#s3)\n",
    "4. [Feature selection](#s4)\n",
    "5. [Model building](#s5)\n",
    "6. [Evaluation](#s6)\n",
    "7. [Conclusions](#s7)"
   ]
  },
  {
   "cell_type": "code",
   "execution_count": 1,
   "id": "ae8e10ab",
   "metadata": {},
   "outputs": [],
   "source": [
    "import pandas as pd\n",
    "import numpy as np\n",
    "import seaborn as sns\n",
    "import matplotlib.pyplot as plt\n",
    "%matplotlib inline"
   ]
  },
  {
   "cell_type": "code",
   "execution_count": 2,
   "id": "dbc2fec3",
   "metadata": {},
   "outputs": [],
   "source": [
    "cust = pd.read_csv(\"application_record.csv\")\n",
    "cred = pd.read_csv(\"credit_record.csv\")"
   ]
  },
  {
   "cell_type": "markdown",
   "id": "3f6213de",
   "metadata": {},
   "source": [
    "## 1. Build data labels<a id='s1'></a>\n",
    "The credit_record dataset provides historic monthly STATUS flag for account holders.\n",
    "\n",
    "* C = payments up to date\n",
    "* 0 = up to 1 month in arrears\n",
    "* 1 = up to 2 months in arrears (etc. 2,3,4,5)\n",
    "* X = No debt<br><br>\n",
    "ID is link to individual in credit application<br><br>\n",
    "MONTHS_BALANCE indicates age of the data: -60 is 5 years ago and 0 is current"
   ]
  },
  {
   "cell_type": "code",
   "execution_count": 3,
   "id": "ff24773d",
   "metadata": {},
   "outputs": [
    {
     "name": "stdout",
     "output_type": "stream",
     "text": [
      "<class 'pandas.core.frame.DataFrame'>\n",
      "RangeIndex: 1048575 entries, 0 to 1048574\n",
      "Data columns (total 3 columns):\n",
      " #   Column          Non-Null Count    Dtype \n",
      "---  ------          --------------    ----- \n",
      " 0   ID              1048575 non-null  int64 \n",
      " 1   MONTHS_BALANCE  1048575 non-null  int64 \n",
      " 2   STATUS          1048575 non-null  object\n",
      "dtypes: int64(2), object(1)\n",
      "memory usage: 24.0+ MB\n"
     ]
    }
   ],
   "source": [
    "cred.info()"
   ]
  },
  {
   "cell_type": "code",
   "execution_count": 4,
   "id": "2c443aa9",
   "metadata": {},
   "outputs": [
    {
     "data": {
      "text/plain": [
       "45985"
      ]
     },
     "execution_count": 4,
     "metadata": {},
     "output_type": "execute_result"
    }
   ],
   "source": [
    "cred['ID'].nunique()"
   ]
  },
  {
   "cell_type": "code",
   "execution_count": 5,
   "id": "e9f26d13",
   "metadata": {},
   "outputs": [
    {
     "data": {
      "text/plain": [
       "C    442031\n",
       "0    383120\n",
       "X    209230\n",
       "1     11090\n",
       "5      1693\n",
       "2       868\n",
       "3       320\n",
       "4       223\n",
       "Name: STATUS, dtype: int64"
      ]
     },
     "execution_count": 5,
     "metadata": {},
     "output_type": "execute_result"
    }
   ],
   "source": [
    "cred['STATUS'].value_counts()"
   ]
  },
  {
   "cell_type": "code",
   "execution_count": 6,
   "id": "77e8db28",
   "metadata": {},
   "outputs": [
    {
     "data": {
      "text/plain": [
       "(-60, 0)"
      ]
     },
     "execution_count": 6,
     "metadata": {},
     "output_type": "execute_result"
    }
   ],
   "source": [
    "(cred['MONTHS_BALANCE'].min(),cred['MONTHS_BALANCE'].max())"
   ]
  },
  {
   "cell_type": "markdown",
   "id": "648e592d",
   "metadata": {},
   "source": [
    "**RISK SCORING PROPOSAL:**\n",
    "1. Remove 'X' records (no debt) because this is irrelevant to credit risk.\n",
    "2. Score each month as per STATUS flag: 0..4\n",
    "3. Score 'C' (payments up to date) as -1 (reduced credit risk)\n",
    "4. Attenuate score by 1% per month (linear) because recent data should be more relevant.<br>\n",
    "Scoring function will be:"
   ]
  },
  {
   "cell_type": "code",
   "execution_count": 7,
   "id": "0b8fb020",
   "metadata": {},
   "outputs": [],
   "source": [
    "def apply_score(row):\n",
    "    statusList = ['C', '0', '1', '2', '3', '4', '5']\n",
    "    attenuation = 0.01\n",
    "    return (statusList.index(row['STATUS']) - 1)*(1+row['MONTHS_BALANCE']*attenuation)"
   ]
  },
  {
   "cell_type": "markdown",
   "id": "f76b61ab",
   "metadata": {},
   "source": [
    "Remove STATUS 'X' rows from data (which make no contribution), apply scoring function and sum by ID"
   ]
  },
  {
   "cell_type": "code",
   "execution_count": 8,
   "id": "e331d531",
   "metadata": {},
   "outputs": [
    {
     "data": {
      "text/plain": [
       "<AxesSubplot:xlabel='score', ylabel='Count'>"
      ]
     },
     "execution_count": 8,
     "metadata": {},
     "output_type": "execute_result"
    },
    {
     "data": {
      "image/png": "[encoded data removed]",
      "text/plain": [
       "<Figure size 432x288 with 1 Axes>"
      ]
     },
     "metadata": {
      "needs_background": "light"
     },
     "output_type": "display_data"
    }
   ],
   "source": [
    "cred = cred[cred['STATUS'] != 'X']\n",
    "cred['score'] = cred.apply(lambda row: apply_score(row), axis=1)\n",
    "profile = cred.groupby('ID').sum('score')['score'].sort_values()\n",
    "sns.histplot(data=profile)"
   ]
  },
  {
   "cell_type": "code",
   "execution_count": 9,
   "id": "f40392a3",
   "metadata": {},
   "outputs": [
    {
     "name": "stdout",
     "output_type": "stream",
     "text": [
      "There are 41449 credit records, of which 22524 are good (score below 0),\n",
      "16201 with exactly zero score, and 2724 bad (score above 0).\n"
     ]
    }
   ],
   "source": [
    "a = len(profile[profile < 0])\n",
    "b = len(profile[profile > 0])\n",
    "c = len(profile) - a - b\n",
    "d = len(profile)\n",
    "print(f\"There are {d} credit records, of which {a} are good (score below 0),\\n{c} with exactly zero score, and {b} bad (score above 0).\")"
   ]
  },
  {
   "cell_type": "markdown",
   "id": "5e938917",
   "metadata": {},
   "source": [
    "The zero score is achievable only by paying consistently 1 month in arrears. While this does represent a degree of credit risk it is also highly profitable business for the lender since these customers will be paying substantial interest charges. We therefore propose to exclude them from the bad risk label. We will set the high risk cut off at score > 0:"
   ]
  },
  {
   "cell_type": "code",
   "execution_count": 10,
   "id": "d4271b26",
   "metadata": {},
   "outputs": [],
   "source": [
    "label = profile > 0"
   ]
  },
  {
   "cell_type": "code",
   "execution_count": 11,
   "id": "5cbc7ae9",
   "metadata": {},
   "outputs": [
    {
     "name": "stdout",
     "output_type": "stream",
     "text": [
      "Positives = 6.57%\n"
     ]
    }
   ],
   "source": [
    "print(f\"Positives = {100*np.mean(label):.2f}%\")"
   ]
  },
  {
   "cell_type": "markdown",
   "id": "9ff15df8",
   "metadata": {},
   "source": [
    "[Back to top](#s0)"
   ]
  },
  {
   "cell_type": "markdown",
   "id": "4a6bfd0b",
   "metadata": {},
   "source": [
    "## 2. Exploratory data analysis: Customer information file<a id='s2'></a>"
   ]
  },
  {
   "cell_type": "markdown",
   "id": "754d4ab2",
   "metadata": {},
   "source": [
    "#### Overview"
   ]
  },
  {
   "cell_type": "code",
   "execution_count": 12,
   "id": "6b84c144",
   "metadata": {},
   "outputs": [
    {
     "data": {
      "text/html": [
       "<div>\n",
       "<style scoped>\n",
       "    .dataframe tbody tr th:only-of-type {\n",
       "        vertical-align: middle;\n",
       "    }\n",
       "\n",
       "    .dataframe tbody tr th {\n",
       "        vertical-align: top;\n",
       "    }\n",
       "\n",
       "    .dataframe thead th {\n",
       "        text-align: right;\n",
       "    }\n",
       "</style>\n",
       "<table border=\"1\" class=\"dataframe\">\n",
       "  <thead>\n",
       "    <tr style=\"text-align: right;\">\n",
       "      <th></th>\n",
       "      <th>ID</th>\n",
       "      <th>CODE_GENDER</th>\n",
       "      <th>FLAG_OWN_CAR</th>\n",
       "      <th>FLAG_OWN_REALTY</th>\n",
       "      <th>CNT_CHILDREN</th>\n",
       "      <th>AMT_INCOME_TOTAL</th>\n",
       "      <th>NAME_INCOME_TYPE</th>\n",
       "      <th>NAME_EDUCATION_TYPE</th>\n",
       "      <th>NAME_FAMILY_STATUS</th>\n",
       "      <th>NAME_HOUSING_TYPE</th>\n",
       "      <th>DAYS_BIRTH</th>\n",
       "      <th>DAYS_EMPLOYED</th>\n",
       "      <th>FLAG_MOBIL</th>\n",
       "      <th>FLAG_WORK_PHONE</th>\n",
       "      <th>FLAG_PHONE</th>\n",
       "      <th>FLAG_EMAIL</th>\n",
       "      <th>OCCUPATION_TYPE</th>\n",
       "      <th>CNT_FAM_MEMBERS</th>\n",
       "    </tr>\n",
       "  </thead>\n",
       "  <tbody>\n",
       "    <tr>\n",
       "      <th>0</th>\n",
       "      <td>5008804</td>\n",
       "      <td>M</td>\n",
       "      <td>Y</td>\n",
       "      <td>Y</td>\n",
       "      <td>0</td>\n",
       "      <td>427500.0</td>\n",
       "      <td>Working</td>\n",
       "      <td>Higher education</td>\n",
       "      <td>Civil marriage</td>\n",
       "      <td>Rented apartment</td>\n",
       "      <td>-12005</td>\n",
       "      <td>-4542</td>\n",
       "      <td>1</td>\n",
       "      <td>1</td>\n",
       "      <td>0</td>\n",
       "      <td>0</td>\n",
       "      <td>NaN</td>\n",
       "      <td>2.0</td>\n",
       "    </tr>\n",
       "    <tr>\n",
       "      <th>1</th>\n",
       "      <td>5008805</td>\n",
       "      <td>M</td>\n",
       "      <td>Y</td>\n",
       "      <td>Y</td>\n",
       "      <td>0</td>\n",
       "      <td>427500.0</td>\n",
       "      <td>Working</td>\n",
       "      <td>Higher education</td>\n",
       "      <td>Civil marriage</td>\n",
       "      <td>Rented apartment</td>\n",
       "      <td>-12005</td>\n",
       "      <td>-4542</td>\n",
       "      <td>1</td>\n",
       "      <td>1</td>\n",
       "      <td>0</td>\n",
       "      <td>0</td>\n",
       "      <td>NaN</td>\n",
       "      <td>2.0</td>\n",
       "    </tr>\n",
       "    <tr>\n",
       "      <th>2</th>\n",
       "      <td>5008806</td>\n",
       "      <td>M</td>\n",
       "      <td>Y</td>\n",
       "      <td>Y</td>\n",
       "      <td>0</td>\n",
       "      <td>112500.0</td>\n",
       "      <td>Working</td>\n",
       "      <td>Secondary / secondary special</td>\n",
       "      <td>Married</td>\n",
       "      <td>House / apartment</td>\n",
       "      <td>-21474</td>\n",
       "      <td>-1134</td>\n",
       "      <td>1</td>\n",
       "      <td>0</td>\n",
       "      <td>0</td>\n",
       "      <td>0</td>\n",
       "      <td>Security staff</td>\n",
       "      <td>2.0</td>\n",
       "    </tr>\n",
       "    <tr>\n",
       "      <th>3</th>\n",
       "      <td>5008808</td>\n",
       "      <td>F</td>\n",
       "      <td>N</td>\n",
       "      <td>Y</td>\n",
       "      <td>0</td>\n",
       "      <td>270000.0</td>\n",
       "      <td>Commercial associate</td>\n",
       "      <td>Secondary / secondary special</td>\n",
       "      <td>Single / not married</td>\n",
       "      <td>House / apartment</td>\n",
       "      <td>-19110</td>\n",
       "      <td>-3051</td>\n",
       "      <td>1</td>\n",
       "      <td>0</td>\n",
       "      <td>1</td>\n",
       "      <td>1</td>\n",
       "      <td>Sales staff</td>\n",
       "      <td>1.0</td>\n",
       "    </tr>\n",
       "    <tr>\n",
       "      <th>4</th>\n",
       "      <td>5008809</td>\n",
       "      <td>F</td>\n",
       "      <td>N</td>\n",
       "      <td>Y</td>\n",
       "      <td>0</td>\n",
       "      <td>270000.0</td>\n",
       "      <td>Commercial associate</td>\n",
       "      <td>Secondary / secondary special</td>\n",
       "      <td>Single / not married</td>\n",
       "      <td>House / apartment</td>\n",
       "      <td>-19110</td>\n",
       "      <td>-3051</td>\n",
       "      <td>1</td>\n",
       "      <td>0</td>\n",
       "      <td>1</td>\n",
       "      <td>1</td>\n",
       "      <td>Sales staff</td>\n",
       "      <td>1.0</td>\n",
       "    </tr>\n",
       "  </tbody>\n",
       "</table>\n",
       "</div>"
      ],
      "text/plain": [
       "        ID CODE_GENDER FLAG_OWN_CAR FLAG_OWN_REALTY  CNT_CHILDREN  \\\n",
       "0  5008804           M            Y               Y             0   \n",
       "1  5008805           M            Y               Y             0   \n",
       "2  5008806           M            Y               Y             0   \n",
       "3  5008808           F            N               Y             0   \n",
       "4  5008809           F            N               Y             0   \n",
       "\n",
       "   AMT_INCOME_TOTAL      NAME_INCOME_TYPE            NAME_EDUCATION_TYPE  \\\n",
       "0          427500.0               Working               Higher education   \n",
       "1          427500.0               Working               Higher education   \n",
       "2          112500.0               Working  Secondary / secondary special   \n",
       "3          270000.0  Commercial associate  Secondary / secondary special   \n",
       "4          270000.0  Commercial associate  Secondary / secondary special   \n",
       "\n",
       "     NAME_FAMILY_STATUS  NAME_HOUSING_TYPE  DAYS_BIRTH  DAYS_EMPLOYED  \\\n",
       "0        Civil marriage   Rented apartment      -12005          -4542   \n",
       "1        Civil marriage   Rented apartment      -12005          -4542   \n",
       "2               Married  House / apartment      -21474          -1134   \n",
       "3  Single / not married  House / apartment      -19110          -3051   \n",
       "4  Single / not married  House / apartment      -19110          -3051   \n",
       "\n",
       "   FLAG_MOBIL  FLAG_WORK_PHONE  FLAG_PHONE  FLAG_EMAIL OCCUPATION_TYPE  \\\n",
       "0           1                1           0           0             NaN   \n",
       "1           1                1           0           0             NaN   \n",
       "2           1                0           0           0  Security staff   \n",
       "3           1                0           1           1     Sales staff   \n",
       "4           1                0           1           1     Sales staff   \n",
       "\n",
       "   CNT_FAM_MEMBERS  \n",
       "0              2.0  \n",
       "1              2.0  \n",
       "2              2.0  \n",
       "3              1.0  \n",
       "4              1.0  "
      ]
     },
     "execution_count": 12,
     "metadata": {},
     "output_type": "execute_result"
    }
   ],
   "source": [
    "cust.head()"
   ]
  },
  {
   "cell_type": "code",
   "execution_count": 13,
   "id": "c6520403",
   "metadata": {},
   "outputs": [
    {
     "name": "stdout",
     "output_type": "stream",
     "text": [
      "<class 'pandas.core.frame.DataFrame'>\n",
      "RangeIndex: 438557 entries, 0 to 438556\n",
      "Data columns (total 18 columns):\n",
      " #   Column               Non-Null Count   Dtype  \n",
      "---  ------               --------------   -----  \n",
      " 0   ID                   438557 non-null  int64  \n",
      " 1   CODE_GENDER          438557 non-null  object \n",
      " 2   FLAG_OWN_CAR         438557 non-null  object \n",
      " 3   FLAG_OWN_REALTY      438557 non-null  object \n",
      " 4   CNT_CHILDREN         438557 non-null  int64  \n",
      " 5   AMT_INCOME_TOTAL     438557 non-null  float64\n",
      " 6   NAME_INCOME_TYPE     438557 non-null  object \n",
      " 7   NAME_EDUCATION_TYPE  438557 non-null  object \n",
      " 8   NAME_FAMILY_STATUS   438557 non-null  object \n",
      " 9   NAME_HOUSING_TYPE    438557 non-null  object \n",
      " 10  DAYS_BIRTH           438557 non-null  int64  \n",
      " 11  DAYS_EMPLOYED        438557 non-null  int64  \n",
      " 12  FLAG_MOBIL           438557 non-null  int64  \n",
      " 13  FLAG_WORK_PHONE      438557 non-null  int64  \n",
      " 14  FLAG_PHONE           438557 non-null  int64  \n",
      " 15  FLAG_EMAIL           438557 non-null  int64  \n",
      " 16  OCCUPATION_TYPE      304354 non-null  object \n",
      " 17  CNT_FAM_MEMBERS      438557 non-null  float64\n",
      "dtypes: float64(2), int64(8), object(8)\n",
      "memory usage: 60.2+ MB\n"
     ]
    }
   ],
   "source": [
    "cust.info()"
   ]
  },
  {
   "cell_type": "code",
   "execution_count": 14,
   "id": "22515fe1",
   "metadata": {},
   "outputs": [
    {
     "data": {
      "text/plain": [
       "ID                     438510\n",
       "CODE_GENDER                 2\n",
       "FLAG_OWN_CAR                2\n",
       "FLAG_OWN_REALTY             2\n",
       "CNT_CHILDREN               12\n",
       "AMT_INCOME_TOTAL          866\n",
       "NAME_INCOME_TYPE            5\n",
       "NAME_EDUCATION_TYPE         5\n",
       "NAME_FAMILY_STATUS          5\n",
       "NAME_HOUSING_TYPE           6\n",
       "DAYS_BIRTH              16379\n",
       "DAYS_EMPLOYED            9406\n",
       "FLAG_MOBIL                  1\n",
       "FLAG_WORK_PHONE             2\n",
       "FLAG_PHONE                  2\n",
       "FLAG_EMAIL                  2\n",
       "OCCUPATION_TYPE            18\n",
       "CNT_FAM_MEMBERS            13\n",
       "dtype: int64"
      ]
     },
     "execution_count": 14,
     "metadata": {},
     "output_type": "execute_result"
    }
   ],
   "source": [
    "cust.nunique()"
   ]
  },
  {
   "cell_type": "markdown",
   "id": "d57f0c79",
   "metadata": {},
   "source": [
    "Remove non-unique IDs and join to labels, keeping only labelled data. We have 438510 unique ID's in the cust file, but only 45985 in the credit file, which means that at least 90% of the data cannot be labelled and will be discarded."
   ]
  },
  {
   "cell_type": "code",
   "execution_count": 15,
   "id": "0aa36192",
   "metadata": {},
   "outputs": [
    {
     "name": "stdout",
     "output_type": "stream",
     "text": [
      "33110 records remaining\n",
      "Positives = 6.5%\n"
     ]
    }
   ],
   "source": [
    "cust.drop_duplicates(subset=['ID'],keep=False, inplace=True)\n",
    "cust.set_index('ID',inplace=True)\n",
    "cust = pd.concat([cust,label], axis=1, join=\"inner\")\n",
    "print(f'{len(cust)} records remaining')\n",
    "print(f'Positives = {100*cust[\"score\"].mean():.2}%')"
   ]
  },
  {
   "cell_type": "markdown",
   "id": "96d21fcb",
   "metadata": {
    "scrolled": true
   },
   "source": [
    "### Numeric fields\n",
    "CNT_CHILDREN, AMT_INCOME_TOTAL, DAYS_BIRTH, DAYS_EMPLOYED, CNT_FAM_MEMBERS"
   ]
  },
  {
   "cell_type": "code",
   "execution_count": 16,
   "id": "f4dd7ad0",
   "metadata": {},
   "outputs": [
    {
     "data": {
      "text/html": [
       "<div>\n",
       "<style scoped>\n",
       "    .dataframe tbody tr th:only-of-type {\n",
       "        vertical-align: middle;\n",
       "    }\n",
       "\n",
       "    .dataframe tbody tr th {\n",
       "        vertical-align: top;\n",
       "    }\n",
       "\n",
       "    .dataframe thead th {\n",
       "        text-align: right;\n",
       "    }\n",
       "</style>\n",
       "<table border=\"1\" class=\"dataframe\">\n",
       "  <thead>\n",
       "    <tr style=\"text-align: right;\">\n",
       "      <th></th>\n",
       "      <th>CNT_CHILDREN</th>\n",
       "      <th>AMT_INCOME_TOTAL</th>\n",
       "      <th>DAYS_BIRTH</th>\n",
       "      <th>DAYS_EMPLOYED</th>\n",
       "      <th>CNT_FAM_MEMBERS</th>\n",
       "    </tr>\n",
       "  </thead>\n",
       "  <tbody>\n",
       "    <tr>\n",
       "      <th>count</th>\n",
       "      <td>33110.000000</td>\n",
       "      <td>3.311000e+04</td>\n",
       "      <td>33110.000000</td>\n",
       "      <td>33110.000000</td>\n",
       "      <td>33110.000000</td>\n",
       "    </tr>\n",
       "    <tr>\n",
       "      <th>mean</th>\n",
       "      <td>0.427756</td>\n",
       "      <td>1.858772e+05</td>\n",
       "      <td>-16007.262489</td>\n",
       "      <td>60031.029085</td>\n",
       "      <td>2.194654</td>\n",
       "    </tr>\n",
       "    <tr>\n",
       "      <th>std</th>\n",
       "      <td>0.741716</td>\n",
       "      <td>1.014124e+05</td>\n",
       "      <td>4213.387673</td>\n",
       "      <td>138345.184712</td>\n",
       "      <td>0.911076</td>\n",
       "    </tr>\n",
       "    <tr>\n",
       "      <th>min</th>\n",
       "      <td>0.000000</td>\n",
       "      <td>2.700000e+04</td>\n",
       "      <td>-25152.000000</td>\n",
       "      <td>-15713.000000</td>\n",
       "      <td>1.000000</td>\n",
       "    </tr>\n",
       "    <tr>\n",
       "      <th>25%</th>\n",
       "      <td>0.000000</td>\n",
       "      <td>1.215000e+05</td>\n",
       "      <td>-19495.000000</td>\n",
       "      <td>-3159.000000</td>\n",
       "      <td>2.000000</td>\n",
       "    </tr>\n",
       "    <tr>\n",
       "      <th>50%</th>\n",
       "      <td>0.000000</td>\n",
       "      <td>1.575000e+05</td>\n",
       "      <td>-15646.000000</td>\n",
       "      <td>-1552.000000</td>\n",
       "      <td>2.000000</td>\n",
       "    </tr>\n",
       "    <tr>\n",
       "      <th>75%</th>\n",
       "      <td>1.000000</td>\n",
       "      <td>2.250000e+05</td>\n",
       "      <td>-12461.000000</td>\n",
       "      <td>-405.000000</td>\n",
       "      <td>3.000000</td>\n",
       "    </tr>\n",
       "    <tr>\n",
       "      <th>max</th>\n",
       "      <td>19.000000</td>\n",
       "      <td>1.575000e+06</td>\n",
       "      <td>-7705.000000</td>\n",
       "      <td>365243.000000</td>\n",
       "      <td>20.000000</td>\n",
       "    </tr>\n",
       "  </tbody>\n",
       "</table>\n",
       "</div>"
      ],
      "text/plain": [
       "       CNT_CHILDREN  AMT_INCOME_TOTAL    DAYS_BIRTH  DAYS_EMPLOYED  \\\n",
       "count  33110.000000      3.311000e+04  33110.000000   33110.000000   \n",
       "mean       0.427756      1.858772e+05 -16007.262489   60031.029085   \n",
       "std        0.741716      1.014124e+05   4213.387673  138345.184712   \n",
       "min        0.000000      2.700000e+04 -25152.000000  -15713.000000   \n",
       "25%        0.000000      1.215000e+05 -19495.000000   -3159.000000   \n",
       "50%        0.000000      1.575000e+05 -15646.000000   -1552.000000   \n",
       "75%        1.000000      2.250000e+05 -12461.000000    -405.000000   \n",
       "max       19.000000      1.575000e+06  -7705.000000  365243.000000   \n",
       "\n",
       "       CNT_FAM_MEMBERS  \n",
       "count     33110.000000  \n",
       "mean          2.194654  \n",
       "std           0.911076  \n",
       "min           1.000000  \n",
       "25%           2.000000  \n",
       "50%           2.000000  \n",
       "75%           3.000000  \n",
       "max          20.000000  "
      ]
     },
     "execution_count": 16,
     "metadata": {},
     "output_type": "execute_result"
    }
   ],
   "source": [
    "cust[['CNT_CHILDREN','AMT_INCOME_TOTAL','DAYS_BIRTH','DAYS_EMPLOYED','CNT_FAM_MEMBERS']].describe()"
   ]
  },
  {
   "cell_type": "markdown",
   "id": "1db4fb20",
   "metadata": {},
   "source": [
    "__Comments:__<br>\n",
    "DAYS_EMPLOYED is problematic: should be a negative number (counting back to employment date), but max is 365243. Replace out of range values with median value of the feature."
   ]
  },
  {
   "cell_type": "code",
   "execution_count": 17,
   "id": "1ad81c6e",
   "metadata": {},
   "outputs": [
    {
     "name": "stdout",
     "output_type": "stream",
     "text": [
      "Years employed from 0 to 43\n"
     ]
    }
   ],
   "source": [
    "med_de = cust[cust[\"DAYS_EMPLOYED\"] < 0][\"DAYS_EMPLOYED\"].median()\n",
    "cust['DAYS_EMPLOYED'].mask(cust['DAYS_EMPLOYED'] > 0, med_de, inplace=True)\n",
    "print(f\"Years employed from {-int(cust['DAYS_EMPLOYED'].max()/365)} to {-int(cust['DAYS_EMPLOYED'].min()/365)}\")"
   ]
  },
  {
   "cell_type": "markdown",
   "id": "d12b9d17",
   "metadata": {},
   "source": [
    "### Categorical fields"
   ]
  },
  {
   "cell_type": "markdown",
   "id": "80fa3062",
   "metadata": {},
   "source": [
    "There are no NaNs apart from OCCUPATION_TYPE. FIX: create new category \"Unspecified\"."
   ]
  },
  {
   "cell_type": "code",
   "execution_count": 18,
   "id": "14c73fd2",
   "metadata": {},
   "outputs": [],
   "source": [
    "cust['OCCUPATION_TYPE'] = cust['OCCUPATION_TYPE'].fillna(\"Unspecified\")"
   ]
  },
  {
   "cell_type": "code",
   "execution_count": 19,
   "id": "b757f376",
   "metadata": {},
   "outputs": [
    {
     "data": {
      "text/plain": [
       "Unspecified              10373\n",
       "Laborers                  5601\n",
       "Core staff                3250\n",
       "Sales staff               3156\n",
       "Managers                  2695\n",
       "Drivers                   1934\n",
       "High skill tech staff     1269\n",
       "Medicine staff            1124\n",
       "Accountants               1106\n",
       "Cooking staff              587\n",
       "Security staff             547\n",
       "Cleaning staff             511\n",
       "Private service staff      293\n",
       "Waiters/barmen staff       163\n",
       "Low-skill Laborers         159\n",
       "Secretaries                142\n",
       "HR staff                    76\n",
       "Realty agents               67\n",
       "IT staff                    57\n",
       "Name: OCCUPATION_TYPE, dtype: int64"
      ]
     },
     "execution_count": 19,
     "metadata": {},
     "output_type": "execute_result"
    }
   ],
   "source": [
    "cust['OCCUPATION_TYPE'].value_counts()"
   ]
  },
  {
   "cell_type": "markdown",
   "id": "ed489747",
   "metadata": {},
   "source": [
    "All other variables are binary flags or limited list of categories. Frequencies will be inspected for feature reduction."
   ]
  },
  {
   "cell_type": "markdown",
   "id": "5466687a",
   "metadata": {},
   "source": [
    "[Back to top](#s0)"
   ]
  },
  {
   "cell_type": "markdown",
   "id": "d2a9f68c",
   "metadata": {},
   "source": [
    "## 3.  Feature engineering<a id='s3'></a>\n",
    "#### Convert numeric variables to bracketed categories to handle non-monotonic behaviour"
   ]
  },
  {
   "cell_type": "code",
   "execution_count": 20,
   "id": "7182bf25",
   "metadata": {},
   "outputs": [],
   "source": [
    "cust[\"CNT_CHILDREN\"] = pd.cut(cust[\"CNT_CHILDREN\"],bins=[0,1,4,50],right=False,include_lowest=True, labels=['child_0','child_few','child_many'])\n",
    "cust[\"CNT_FAM_MEMBERS\"] = pd.cut(cust[\"CNT_FAM_MEMBERS\"],bins=[1,2,5,50],right=False,include_lowest=True, labels=['family_0','family_1','family_many'])\n",
    "cust[\"AMT_INCOME_TOTAL\"] = pd.qcut(cust[\"AMT_INCOME_TOTAL\"],4,labels=['income_0','income_1','income_2','income_3'])\n",
    "cust[\"DAYS_BIRTH\"] = pd.qcut(cust[\"DAYS_BIRTH\"],4,labels=['age_0','age_1','age_2','age_3'])\n",
    "cust[\"DAYS_EMPLOYED\"] = pd.qcut(cust[\"DAYS_EMPLOYED\"],4,labels=['employed_0','employed_1','employed_2','employed_3'])"
   ]
  },
  {
   "cell_type": "markdown",
   "id": "d6b9383e",
   "metadata": {},
   "source": [
    "#### Convert binary categories to Booleans"
   ]
  },
  {
   "cell_type": "code",
   "execution_count": 21,
   "id": "530a0d1c",
   "metadata": {},
   "outputs": [],
   "source": [
    "cust['CODE_GENDER'] = cust['CODE_GENDER']=='M'\n",
    "cust['FLAG_OWN_CAR'] = cust['FLAG_OWN_CAR']=='Y'\n",
    "cust['FLAG_OWN_REALTY'] = cust['FLAG_OWN_REALTY']=='M'\n",
    "cust['FLAG_MOBIL'] = cust['FLAG_MOBIL']== 1\n",
    "cust['FLAG_WORK_PHONE'] = cust['FLAG_WORK_PHONE']== 1\n",
    "cust['FLAG_PHONE'] = cust['FLAG_PHONE']== 1\n",
    "cust['FLAG_EMAIL'] = cust['FLAG_EMAIL']== 1"
   ]
  },
  {
   "cell_type": "markdown",
   "id": "94c7a657",
   "metadata": {},
   "source": [
    "#### Encode non-binary categorical fields"
   ]
  },
  {
   "cell_type": "code",
   "execution_count": 22,
   "id": "147962b3",
   "metadata": {},
   "outputs": [],
   "source": [
    "categoricals = cust.select_dtypes(exclude='bool').columns\n",
    "for col_name in categoricals:\n",
    "    coded = pd.get_dummies(cust[col_name])\n",
    "    cust = pd.concat([cust.drop(col_name,axis=1),coded],axis=1)"
   ]
  },
  {
   "cell_type": "markdown",
   "id": "1b0c718e",
   "metadata": {},
   "source": [
    "#### Convert booleans back to int"
   ]
  },
  {
   "cell_type": "code",
   "execution_count": 23,
   "id": "f2f20a66",
   "metadata": {},
   "outputs": [],
   "source": [
    "cust = cust.astype(int)"
   ]
  },
  {
   "cell_type": "code",
   "execution_count": 24,
   "id": "e0e32739",
   "metadata": {},
   "outputs": [],
   "source": [
    "#Split off test dataset\n",
    "from sklearn.model_selection import train_test_split\n",
    "X_train, X_test, y_train, y_test = train_test_split(cust.drop(['score'],axis=1), cust['score'].astype(int), \n",
    "                                                    test_size=0.25, \n",
    "                                                    random_state=101,\n",
    "                                                    stratify=cust['score'])"
   ]
  },
  {
   "cell_type": "markdown",
   "id": "d4a7d575",
   "metadata": {},
   "source": [
    "[Back to top](#s0)"
   ]
  },
  {
   "cell_type": "markdown",
   "id": "fa6c7742",
   "metadata": {},
   "source": [
    "## 4. Feature selection<a id='s4'></a>"
   ]
  },
  {
   "cell_type": "markdown",
   "id": "23030e7c",
   "metadata": {},
   "source": [
    "#### **Our dataset now looks like this:**"
   ]
  },
  {
   "cell_type": "code",
   "execution_count": 25,
   "id": "f0614d05",
   "metadata": {},
   "outputs": [
    {
     "name": "stdout",
     "output_type": "stream",
     "text": [
      "<class 'pandas.core.frame.DataFrame'>\n",
      "Int64Index: 24832 entries, 5036557 to 5090768\n",
      "Data columns (total 65 columns):\n",
      " #   Column                         Non-Null Count  Dtype\n",
      "---  ------                         --------------  -----\n",
      " 0   CODE_GENDER                    24832 non-null  int64\n",
      " 1   FLAG_OWN_CAR                   24832 non-null  int64\n",
      " 2   FLAG_OWN_REALTY                24832 non-null  int64\n",
      " 3   FLAG_MOBIL                     24832 non-null  int64\n",
      " 4   FLAG_WORK_PHONE                24832 non-null  int64\n",
      " 5   FLAG_PHONE                     24832 non-null  int64\n",
      " 6   FLAG_EMAIL                     24832 non-null  int64\n",
      " 7   child_0                        24832 non-null  int64\n",
      " 8   child_few                      24832 non-null  int64\n",
      " 9   child_many                     24832 non-null  int64\n",
      " 10  income_0                       24832 non-null  int64\n",
      " 11  income_1                       24832 non-null  int64\n",
      " 12  income_2                       24832 non-null  int64\n",
      " 13  income_3                       24832 non-null  int64\n",
      " 14  Commercial associate           24832 non-null  int64\n",
      " 15  Pensioner                      24832 non-null  int64\n",
      " 16  State servant                  24832 non-null  int64\n",
      " 17  Student                        24832 non-null  int64\n",
      " 18  Working                        24832 non-null  int64\n",
      " 19  Academic degree                24832 non-null  int64\n",
      " 20  Higher education               24832 non-null  int64\n",
      " 21  Incomplete higher              24832 non-null  int64\n",
      " 22  Lower secondary                24832 non-null  int64\n",
      " 23  Secondary / secondary special  24832 non-null  int64\n",
      " 24  Civil marriage                 24832 non-null  int64\n",
      " 25  Married                        24832 non-null  int64\n",
      " 26  Separated                      24832 non-null  int64\n",
      " 27  Single / not married           24832 non-null  int64\n",
      " 28  Widow                          24832 non-null  int64\n",
      " 29  Co-op apartment                24832 non-null  int64\n",
      " 30  House / apartment              24832 non-null  int64\n",
      " 31  Municipal apartment            24832 non-null  int64\n",
      " 32  Office apartment               24832 non-null  int64\n",
      " 33  Rented apartment               24832 non-null  int64\n",
      " 34  With parents                   24832 non-null  int64\n",
      " 35  age_0                          24832 non-null  int64\n",
      " 36  age_1                          24832 non-null  int64\n",
      " 37  age_2                          24832 non-null  int64\n",
      " 38  age_3                          24832 non-null  int64\n",
      " 39  employed_0                     24832 non-null  int64\n",
      " 40  employed_1                     24832 non-null  int64\n",
      " 41  employed_2                     24832 non-null  int64\n",
      " 42  employed_3                     24832 non-null  int64\n",
      " 43  Accountants                    24832 non-null  int64\n",
      " 44  Cleaning staff                 24832 non-null  int64\n",
      " 45  Cooking staff                  24832 non-null  int64\n",
      " 46  Core staff                     24832 non-null  int64\n",
      " 47  Drivers                        24832 non-null  int64\n",
      " 48  HR staff                       24832 non-null  int64\n",
      " 49  High skill tech staff          24832 non-null  int64\n",
      " 50  IT staff                       24832 non-null  int64\n",
      " 51  Laborers                       24832 non-null  int64\n",
      " 52  Low-skill Laborers             24832 non-null  int64\n",
      " 53  Managers                       24832 non-null  int64\n",
      " 54  Medicine staff                 24832 non-null  int64\n",
      " 55  Private service staff          24832 non-null  int64\n",
      " 56  Realty agents                  24832 non-null  int64\n",
      " 57  Sales staff                    24832 non-null  int64\n",
      " 58  Secretaries                    24832 non-null  int64\n",
      " 59  Security staff                 24832 non-null  int64\n",
      " 60  Unspecified                    24832 non-null  int64\n",
      " 61  Waiters/barmen staff           24832 non-null  int64\n",
      " 62  family_0                       24832 non-null  int64\n",
      " 63  family_1                       24832 non-null  int64\n",
      " 64  family_many                    24832 non-null  int64\n",
      "dtypes: int64(65)\n",
      "memory usage: 12.5 MB\n"
     ]
    }
   ],
   "source": [
    "X_train.info()"
   ]
  },
  {
   "cell_type": "markdown",
   "id": "23e41340",
   "metadata": {},
   "source": [
    "#### There are 64 variables. Investigate scope for reduction through chi-squared test"
   ]
  },
  {
   "cell_type": "code",
   "execution_count": 26,
   "id": "deb6bdcb",
   "metadata": {},
   "outputs": [
    {
     "data": {
      "text/plain": [
       "<AxesSubplot:>"
      ]
     },
     "execution_count": 26,
     "metadata": {},
     "output_type": "execute_result"
    },
    {
     "data": {
      "image/png": "[encoded data removed]",
      "text/plain": [
       "<Figure size 936x360 with 1 Axes>"
      ]
     },
     "metadata": {
      "needs_background": "light"
     },
     "output_type": "display_data"
    }
   ],
   "source": [
    "from sklearn.feature_selection import chi2\n",
    "chi_scores = chi2(X_train,y_train)\n",
    "p_values = pd.Series(chi_scores[1],index = X_train.columns)\n",
    "p_values.sort_values(ascending = False , inplace = True)\n",
    "plt.rcParams['figure.figsize'] = [13, 5]\n",
    "p_values.plot.bar()"
   ]
  },
  {
   "cell_type": "markdown",
   "id": "4c19f4e5",
   "metadata": {},
   "source": [
    "**Drop features with high p-value**"
   ]
  },
  {
   "cell_type": "code",
   "execution_count": 27,
   "id": "724b4e6c",
   "metadata": {},
   "outputs": [
    {
     "name": "stdout",
     "output_type": "stream",
     "text": [
      "Index(['FLAG_MOBIL', 'Married', 'Lower secondary', 'Medicine staff',\n",
      "       'Laborers', 'Cleaning staff', 'FLAG_WORK_PHONE', 'Realty agents',\n",
      "       'family_1', 'family_many', 'FLAG_OWN_CAR', 'age_2', 'child_many',\n",
      "       'family_0', 'Secondary / secondary special', 'income_2', 'Drivers',\n",
      "       'Civil marriage', 'Working', 'House / apartment', 'employed_0',\n",
      "       'Rented apartment', 'Secretaries', 'Sales staff',\n",
      "       'Commercial associate', 'Co-op apartment', 'With parents', 'Student'],\n",
      "      dtype='object')\n"
     ]
    }
   ],
   "source": [
    "X_train.drop(p_values[p_values > 0.5].index, axis=1,inplace=True)\n",
    "print(p_values[p_values > 0.5].index)"
   ]
  },
  {
   "cell_type": "markdown",
   "id": "9fe7c897",
   "metadata": {},
   "source": [
    "#### Remaining features:"
   ]
  },
  {
   "cell_type": "code",
   "execution_count": 28,
   "id": "62723e5e",
   "metadata": {},
   "outputs": [
    {
     "name": "stdout",
     "output_type": "stream",
     "text": [
      "<class 'pandas.core.frame.DataFrame'>\n",
      "Int64Index: 24832 entries, 5036557 to 5090768\n",
      "Data columns (total 37 columns):\n",
      " #   Column                 Non-Null Count  Dtype\n",
      "---  ------                 --------------  -----\n",
      " 0   CODE_GENDER            24832 non-null  int64\n",
      " 1   FLAG_OWN_REALTY        24832 non-null  int64\n",
      " 2   FLAG_PHONE             24832 non-null  int64\n",
      " 3   FLAG_EMAIL             24832 non-null  int64\n",
      " 4   child_0                24832 non-null  int64\n",
      " 5   child_few              24832 non-null  int64\n",
      " 6   income_0               24832 non-null  int64\n",
      " 7   income_1               24832 non-null  int64\n",
      " 8   income_3               24832 non-null  int64\n",
      " 9   Pensioner              24832 non-null  int64\n",
      " 10  State servant          24832 non-null  int64\n",
      " 11  Academic degree        24832 non-null  int64\n",
      " 12  Higher education       24832 non-null  int64\n",
      " 13  Incomplete higher      24832 non-null  int64\n",
      " 14  Separated              24832 non-null  int64\n",
      " 15  Single / not married   24832 non-null  int64\n",
      " 16  Widow                  24832 non-null  int64\n",
      " 17  Municipal apartment    24832 non-null  int64\n",
      " 18  Office apartment       24832 non-null  int64\n",
      " 19  age_0                  24832 non-null  int64\n",
      " 20  age_1                  24832 non-null  int64\n",
      " 21  age_3                  24832 non-null  int64\n",
      " 22  employed_1             24832 non-null  int64\n",
      " 23  employed_2             24832 non-null  int64\n",
      " 24  employed_3             24832 non-null  int64\n",
      " 25  Accountants            24832 non-null  int64\n",
      " 26  Cooking staff          24832 non-null  int64\n",
      " 27  Core staff             24832 non-null  int64\n",
      " 28  HR staff               24832 non-null  int64\n",
      " 29  High skill tech staff  24832 non-null  int64\n",
      " 30  IT staff               24832 non-null  int64\n",
      " 31  Low-skill Laborers     24832 non-null  int64\n",
      " 32  Managers               24832 non-null  int64\n",
      " 33  Private service staff  24832 non-null  int64\n",
      " 34  Security staff         24832 non-null  int64\n",
      " 35  Unspecified            24832 non-null  int64\n",
      " 36  Waiters/barmen staff   24832 non-null  int64\n",
      "dtypes: int64(37)\n",
      "memory usage: 7.2 MB\n"
     ]
    }
   ],
   "source": [
    "X_train.info()"
   ]
  },
  {
   "cell_type": "markdown",
   "id": "144de58b",
   "metadata": {},
   "source": [
    "Apply to X_test"
   ]
  },
  {
   "cell_type": "code",
   "execution_count": 29,
   "id": "b0dfdccd",
   "metadata": {},
   "outputs": [],
   "source": [
    "X_test = X_test[X_train.columns]"
   ]
  },
  {
   "cell_type": "markdown",
   "id": "0d0848a6",
   "metadata": {},
   "source": [
    "[Back to top](#s0)"
   ]
  },
  {
   "cell_type": "markdown",
   "id": "06832e60",
   "metadata": {},
   "source": [
    "## 5. Model building<a id='s5'></a>\n",
    "Models will be built from XGBoost technology.<br>\n",
    "The principal challenge will be building a model from a highly imbalanced training set that will (a) perform well and (b) generalize to the test set. Metric used will be AUCPR. Three approaches will be investigated:\n",
    "1. Baseline (no special treatment\n",
    "2. SMOTE upsampling technology to train on a balanced data set\n",
    "3. Use of scale_pos_weight training hyperparameter in XGBoost<br><br>\n",
    " First we build two utility functions: (a) Build and evaulate models with CV over a grid of hyperparameters and (b) Test the model against the test dataset"
   ]
  },
  {
   "cell_type": "code",
   "execution_count": 40,
   "id": "365f5a61",
   "metadata": {},
   "outputs": [],
   "source": [
    "import xgboost as xgb\n",
    "import itertools\n",
    "#\n",
    "# Function to build and evaulate models with CV over a grid of hyperparameters\n",
    "#\n",
    "def gridXGB(paramlist, verbosity = 0):\n",
    "    if verbosity > 0:\n",
    "        print('train-aucpr\\ttest-aucpr', end=' ')\n",
    "        for param in paramlist:\n",
    "            print('\\t'+(param+' '*10)[:11], end=' ')\n",
    "        print('\\n')\n",
    "    best = dict()\n",
    "    s = list(paramlist.values())\n",
    "    for paramset in itertools.product(*s):\n",
    "        params = dict(zip(list(paramlist.keys()), list(paramset)))\n",
    "        xgb_model = xgb.XGBClassifier(use_label_encoder=False, objective = 'binary:logistic')\n",
    "        cv_results = xgb.cv(dtrain=dmatrix, params=params, nfold=3,\n",
    "                        num_boost_round=50,early_stopping_rounds=10,metrics=\"aucpr\",\n",
    "                            as_pandas=True, seed=123, shuffle=True)\n",
    "        if verbosity > 0:\n",
    "            pst = \"{:.4}\".format(cv_results.tail(1)[\"train-aucpr-mean\"].values[0])\n",
    "            pst = pst + \"\\t\\t{:.4}\".format(cv_results.tail(1)[\"test-aucpr-mean\"].values[0])\n",
    "            for param in params.values():\n",
    "                if isinstance(param,int):\n",
    "                    pst = pst + \"\\t\\t\"+str(param)\n",
    "                else:\n",
    "                    pst = pst + \"\\t\\t{:.4}\".format(param)\n",
    "            print(pst)\n",
    "        if len(best) == 0 or best['test-aucpr'] < cv_results.tail(1)[\"test-aucpr-mean\"].values[0]:\n",
    "            best['train-aucpr'] = cv_results.tail(1)[\"train-aucpr-mean\"].values[0]\n",
    "            best['test-aucpr'] = cv_results.tail(1)[\"test-aucpr-mean\"].values[0]\n",
    "            best.update(params)\n",
    "    print(\"\\n Best values:\")\n",
    "    print('train-aucpr\\ttest-aucpr', end=' ')\n",
    "    for param in paramlist:\n",
    "        print('\\t'+(param+' '*10)[:11], end=' ')\n",
    "    print('\\n')\n",
    "    pst = \"\"\n",
    "    for best_val in best.values():\n",
    "        if isinstance(best_val,int):\n",
    "            pst = pst +str(best_val)+ \"\\t\\t\"\n",
    "        else:\n",
    "            pst = pst +\"{:.4}\".format(best_val)+ \"\\t\\t\"\n",
    "    print(pst)"
   ]
  },
  {
   "cell_type": "code",
   "execution_count": 74,
   "id": "67ec2109",
   "metadata": {},
   "outputs": [],
   "source": [
    "from sklearn.metrics import confusion_matrix\n",
    "from sklearn.metrics import classification_report\n",
    "results = []\n",
    "#\n",
    "# Function to test model against test dataset\n",
    "#\n",
    "def test_model(params, X_train, y_train, X_test, y_test, name):\n",
    "    xgb_model = xgb.XGBClassifier(use_label_encoder=False, objective = 'binary:logistic',\n",
    "            eval_metric = 'aucpr', **params)\n",
    "    xgb_model.fit(X_train, y_train)\n",
    "    preds = xgb_model.predict(X_test)\n",
    "    c_report = classification_report(y_test, preds, output_dict=True)\n",
    "    print(confusion_matrix(y_test, preds))\n",
    "    print(classification_report(y_test, preds))\n",
    "    results.append({'model':name,\n",
    "                    'precision':c_report['1']['precision'],\n",
    "                   'recall':c_report['1']['recall'],\n",
    "                   'f1':c_report['1']['f1-score']})"
   ]
  },
  {
   "cell_type": "markdown",
   "id": "e87c9282",
   "metadata": {},
   "source": [
    "### 5.1 Baseline model"
   ]
  },
  {
   "cell_type": "code",
   "execution_count": 34,
   "id": "c696e845",
   "metadata": {},
   "outputs": [
    {
     "name": "stdout",
     "output_type": "stream",
     "text": [
      "train-aucpr\ttest-aucpr \tmax_depth \tcolsample_b \tlearning_ra \n",
      "\n",
      "0.1711\t\t0.1018\t\t4\t\t0.3\t\t0.1\n",
      "0.2143\t\t0.1053\t\t4\t\t0.3\t\t0.4\n",
      "0.2292\t\t0.1093\t\t4\t\t0.3\t\t0.7\n",
      "0.1836\t\t0.1013\t\t4\t\t0.5\t\t0.1\n",
      "0.2362\t\t0.1093\t\t4\t\t0.5\t\t0.4\n",
      "0.2632\t\t0.1127\t\t4\t\t0.5\t\t0.7\n",
      "0.1868\t\t0.1004\t\t4\t\t0.7\t\t0.1\n",
      "0.2468\t\t0.1106\t\t4\t\t0.7\t\t0.4\n",
      "0.2755\t\t0.1178\t\t4\t\t0.7\t\t0.7\n",
      "0.3159\t\t0.1256\t\t10\t\t0.3\t\t0.1\n",
      "0.4001\t\t0.1352\t\t10\t\t0.3\t\t0.4\n",
      "0.4323\t\t0.1377\t\t10\t\t0.3\t\t0.7\n",
      "0.4414\t\t0.144\t\t10\t\t0.5\t\t0.1\n",
      "0.5393\t\t0.16\t\t10\t\t0.5\t\t0.4\n",
      "0.5126\t\t0.1553\t\t10\t\t0.5\t\t0.7\n",
      "0.4713\t\t0.1521\t\t10\t\t0.7\t\t0.1\n",
      "0.5779\t\t0.1635\t\t10\t\t0.7\t\t0.4\n",
      "0.6055\t\t0.1606\t\t10\t\t0.7\t\t0.7\n",
      "0.3174\t\t0.1258\t\t16\t\t0.3\t\t0.1\n",
      "0.4016\t\t0.1348\t\t16\t\t0.3\t\t0.4\n",
      "0.4335\t\t0.1385\t\t16\t\t0.3\t\t0.7\n",
      "0.5024\t\t0.1552\t\t16\t\t0.5\t\t0.1\n",
      "0.5346\t\t0.1607\t\t16\t\t0.5\t\t0.4\n",
      "0.5607\t\t0.1622\t\t16\t\t0.5\t\t0.7\n",
      "0.5857\t\t0.1683\t\t16\t\t0.7\t\t0.1\n",
      "0.6002\t\t0.169\t\t16\t\t0.7\t\t0.4\n",
      "0.6159\t\t0.1644\t\t16\t\t0.7\t\t0.7\n",
      "\n",
      " Best values:\n",
      "train-aucpr\ttest-aucpr \tmax_depth \tcolsample_bytree \tlearning_rate \n",
      "\n",
      "0.6002\t\t0.169\t\t16\t\t0.7\t\t0.4\t\t\n"
     ]
    }
   ],
   "source": [
    "dmatrix = xgb.DMatrix(X_train,y_train)\n",
    "gridXGB(paramlist={'max_depth':[4, 10, 16],\n",
    "             'colsample_bytree': [0.3,0.5,0.7],\n",
    "             'learning_rate' : [0.1, 0.4,0.7]}, verbosity=1)"
   ]
  },
  {
   "cell_type": "markdown",
   "id": "b5d0c103",
   "metadata": {},
   "source": [
    "Comments: Wide discrepancy between train and test aucpr is evidence of serious overtraining. Performance is also poor. Introduce range of measures to reduce overfit"
   ]
  },
  {
   "cell_type": "code",
   "execution_count": 42,
   "id": "c2851607",
   "metadata": {},
   "outputs": [
    {
     "name": "stdout",
     "output_type": "stream",
     "text": [
      "\n",
      " Best values:\n",
      "train-aucpr\ttest-aucpr \tmax_depth   \tcolsample_b \tlearning_ra \tgamma       \tlambda      \talpha       \n",
      "\n",
      "0.5907\t\t0.1714\t\t16\t\t0.7\t\t0.4\t\t0\t\t2\t\t0\t\t\n"
     ]
    }
   ],
   "source": [
    "gridXGB(paramlist={'max_depth':[16],\n",
    "             'colsample_bytree': [0.7],\n",
    "             'learning_rate' : [0.4],\n",
    "              'gamma' : [0, 1, 2],\n",
    "              'lambda' : [1, 2, 3],\n",
    "               'alpha' : [0, 1, 2]})"
   ]
  },
  {
   "cell_type": "markdown",
   "id": "fa1f3c3c",
   "metadata": {},
   "source": [
    "Increasing lambda has helped a bit - explore more"
   ]
  },
  {
   "cell_type": "code",
   "execution_count": 43,
   "id": "8ae29a27",
   "metadata": {},
   "outputs": [
    {
     "name": "stdout",
     "output_type": "stream",
     "text": [
      "\n",
      " Best values:\n",
      "train-aucpr\ttest-aucpr \tmax_depth   \tcolsample_b \tlearning_ra \tlambda      \n",
      "\n",
      "0.6268\t\t0.1758\t\t20\t\t0.8\t\t0.3\t\t2.0\t\t\n"
     ]
    }
   ],
   "source": [
    "gridXGB(paramlist={'max_depth':[16, 18, 20],\n",
    "             'colsample_bytree': [0.6, 0.7, 0.8],\n",
    "             'learning_rate' : [0.3, 0.4, 0.5],\n",
    "              'lambda' : [1.5, 2.0, 2.5]})"
   ]
  },
  {
   "cell_type": "markdown",
   "id": "44269bd0",
   "metadata": {},
   "source": [
    "Seems like we are increasingly complexity and overfitting. Try subsample."
   ]
  },
  {
   "cell_type": "code",
   "execution_count": 44,
   "id": "0cf98ef8",
   "metadata": {},
   "outputs": [
    {
     "name": "stdout",
     "output_type": "stream",
     "text": [
      "\n",
      " Best values:\n",
      "train-aucpr\ttest-aucpr \tmax_depth   \tcolsample_b \tlearning_ra \tlambda      \tsubsample   \n",
      "\n",
      "0.5981\t\t0.1766\t\t18\t\t0.8\t\t0.3\t\t2\t\t0.6\t\t\n"
     ]
    }
   ],
   "source": [
    "gridXGB(paramlist={'max_depth':[16, 18, 20],\n",
    "             'colsample_bytree': [0.6, 0.7, 0.8],\n",
    "             'learning_rate' : [0.3],\n",
    "              'lambda' : [2],\n",
    "              'subsample' : [0.2,0.6,1.0]})"
   ]
  },
  {
   "cell_type": "markdown",
   "id": "433efcd8",
   "metadata": {},
   "source": [
    "A little better. We will leave colsample_bytree at default of 1.0 and learning_rate at default of 0.3 and explore subsample in finer detail:"
   ]
  },
  {
   "cell_type": "code",
   "execution_count": 45,
   "id": "cb8d0537",
   "metadata": {},
   "outputs": [
    {
     "name": "stdout",
     "output_type": "stream",
     "text": [
      "\n",
      " Best values:\n",
      "train-aucpr\ttest-aucpr \tmax_depth   \tlambda      \tsubsample   \n",
      "\n",
      "0.589\t\t0.1764\t\t20\t\t2\t\t0.5\t\t\n"
     ]
    }
   ],
   "source": [
    "gridXGB(paramlist={'max_depth':[16, 18, 20],\n",
    "              'lambda' : [2],\n",
    "              'subsample' : [0.3,0.4,0.5,0.6,0.7,0.8]})"
   ]
  },
  {
   "cell_type": "markdown",
   "id": "5dfecd8d",
   "metadata": {},
   "source": [
    "This is poor performance with little indication that further tuning of hyperparameters will help. Evaluate on test set:"
   ]
  },
  {
   "cell_type": "code",
   "execution_count": 75,
   "id": "507c78c7",
   "metadata": {},
   "outputs": [
    {
     "name": "stdout",
     "output_type": "stream",
     "text": [
      "[[7651   86]\n",
      " [ 486   55]]\n",
      "              precision    recall  f1-score   support\n",
      "\n",
      "           0       0.94      0.99      0.96      7737\n",
      "           1       0.39      0.10      0.16       541\n",
      "\n",
      "    accuracy                           0.93      8278\n",
      "   macro avg       0.67      0.55      0.56      8278\n",
      "weighted avg       0.90      0.93      0.91      8278\n",
      "\n"
     ]
    }
   ],
   "source": [
    "test_model({'max_depth':20, 'lambda':2, 'subsample':0.5}, X_train, y_train, X_test, y_test, 'Baseline')"
   ]
  },
  {
   "cell_type": "markdown",
   "id": "0bb027fe",
   "metadata": {},
   "source": [
    "Aggregate performance measures look good (accuracy 93%, weighted f1 91%), but this conceals poor performace of the positive class. False negatives  are particularly high (486) compared with true positives (55). A a result recall is extremely low - 10%. The f1 score for the positive class is 0.16."
   ]
  },
  {
   "cell_type": "markdown",
   "id": "f9a9dccd",
   "metadata": {},
   "source": [
    "### 5.2 SMOTE upsampling"
   ]
  },
  {
   "cell_type": "code",
   "execution_count": 51,
   "id": "0bf104d8",
   "metadata": {},
   "outputs": [
    {
     "name": "stdout",
     "output_type": "stream",
     "text": [
      "\n",
      " Best values:\n",
      "train-aucpr\ttest-aucpr \tmax_depth   \tcolsample_b \tlearning_ra \n",
      "\n",
      "0.9494\t\t0.9313\t\t12\t\t0.7\t\t0.4\t\t\n"
     ]
    }
   ],
   "source": [
    "import imblearn\n",
    "oversample = imblearn.over_sampling.SMOTEN() # version of SMOTE for categorical variables\n",
    "X_over, y_over = oversample.fit_resample(X_train, y_train)\n",
    "dmatrix = xgb.DMatrix(X_over,y_over)\n",
    "gridXGB(paramlist={'max_depth':[4, 8, 12],\n",
    "             'colsample_bytree': [0.3, 0.7, 1.0],\n",
    "             'learning_rate' : [0.2, 0.4, 0.6]})"
   ]
  },
  {
   "cell_type": "markdown",
   "id": "e46a79e8",
   "metadata": {},
   "source": [
    "Performance has been vastly improved, and seemingly overtraining is now minimal. Fine tune parameters:"
   ]
  },
  {
   "cell_type": "code",
   "execution_count": 52,
   "id": "70083176",
   "metadata": {},
   "outputs": [
    {
     "name": "stdout",
     "output_type": "stream",
     "text": [
      "\n",
      " Best values:\n",
      "train-aucpr\ttest-aucpr \tmax_depth   \tcolsample_b \tlearning_ra \n",
      "\n",
      "0.9515\t\t0.9339\t\t14\t\t0.7\t\t0.3\t\t\n"
     ]
    }
   ],
   "source": [
    "gridXGB(paramlist={'max_depth':[10,12,14],\n",
    "             'colsample_bytree': [0.7,0.8,0.9],\n",
    "             'learning_rate' : [0.3, 0.4, 0.5]})"
   ]
  },
  {
   "cell_type": "markdown",
   "id": "f9cad187",
   "metadata": {},
   "source": [
    "Improvement is marginal. Keep max_depth at 12, colsample_bytree at 0.7 and learning_rate at default 0.3. Look at impact of alpha, gamma and lambda."
   ]
  },
  {
   "cell_type": "code",
   "execution_count": 53,
   "id": "8019d158",
   "metadata": {},
   "outputs": [
    {
     "name": "stdout",
     "output_type": "stream",
     "text": [
      "\n",
      " Best values:\n",
      "train-aucpr\ttest-aucpr \tmax_depth   \tcolsample_b \tgamma       \talpha       \tlambda      \n",
      "\n",
      "0.9495\t\t0.9326\t\t12\t\t0.7\t\t0\t\t0\t\t2\t\t\n"
     ]
    }
   ],
   "source": [
    "gridXGB(paramlist={'max_depth':[12],\n",
    "             'colsample_bytree': [0.7],\n",
    "             'gamma' : [0,1,2],\n",
    "              'alpha' : [0,1,2],\n",
    "              'lambda': [1,2,3]})"
   ]
  },
  {
   "cell_type": "markdown",
   "id": "dc9c12a0",
   "metadata": {},
   "source": [
    "No improvement Finally try subsample:"
   ]
  },
  {
   "cell_type": "code",
   "execution_count": 54,
   "id": "a58905f3",
   "metadata": {},
   "outputs": [
    {
     "name": "stdout",
     "output_type": "stream",
     "text": [
      "\n",
      " Best values:\n",
      "train-aucpr\ttest-aucpr \tmax_depth   \tcolsample_b \tsubsample   \n",
      "\n",
      "0.9493\t\t0.9319\t\t12\t\t0.7\t\t0.7\t\t\n"
     ]
    }
   ],
   "source": [
    "gridXGB(paramlist={'max_depth':[12],\n",
    "             'colsample_bytree': [0.7],\n",
    "             'subsample' : [0.3,0.5,0.7,0.9,1.0]})"
   ]
  },
  {
   "cell_type": "markdown",
   "id": "06fa329a",
   "metadata": {},
   "source": [
    "We will fix model at {'max_depth':12,'colsample_bytree':0.7} and evaluate"
   ]
  },
  {
   "cell_type": "code",
   "execution_count": 76,
   "id": "5e20be5e",
   "metadata": {},
   "outputs": [
    {
     "name": "stdout",
     "output_type": "stream",
     "text": [
      "[[6534 1203]\n",
      " [ 381  160]]\n",
      "              precision    recall  f1-score   support\n",
      "\n",
      "           0       0.94      0.84      0.89      7737\n",
      "           1       0.12      0.30      0.17       541\n",
      "\n",
      "    accuracy                           0.81      8278\n",
      "   macro avg       0.53      0.57      0.53      8278\n",
      "weighted avg       0.89      0.81      0.84      8278\n",
      "\n"
     ]
    }
   ],
   "source": [
    "test_model({'max_depth':12,'colsample_bytree':0.7}, X_over, y_over, X_test, y_test, 'SMOTE')"
   ]
  },
  {
   "cell_type": "markdown",
   "id": "5e9e888d",
   "metadata": {},
   "source": [
    "Aggregate performance measures look marginally worse (accuracy 81%, weighted f1 84%), and again this conceals poor performace of the positive class. This time false positives are the problem (1203) compared with 160 true positives.  A a result precision is now extremely low: 12%. The f1 score for the positive class is 0.17."
   ]
  },
  {
   "cell_type": "markdown",
   "id": "16bf9c90",
   "metadata": {},
   "source": [
    "### 5.3 scale_pos_weight training"
   ]
  },
  {
   "cell_type": "code",
   "execution_count": 59,
   "id": "729870e0",
   "metadata": {},
   "outputs": [
    {
     "name": "stdout",
     "output_type": "stream",
     "text": [
      "\n",
      " Best values:\n",
      "train-aucpr\ttest-aucpr \tmax_depth   \tlambda      \tsubsample   \tscale_pos_w \n",
      "\n",
      "0.5908\t\t0.1787\t\t20\t\t2\t\t0.8\t\t8\t\t\n"
     ]
    }
   ],
   "source": [
    "dmatrix = xgb.DMatrix(X_train,y_train)\n",
    "gridXGB(paramlist={'max_depth':[10, 15, 20],\n",
    "                    'lambda':[1, 2, 4],\n",
    "                    'subsample':[0.5, 0.8, 1.0],\n",
    "                    'scale_pos_weight' : [1, 8, 16, 32]})"
   ]
  },
  {
   "cell_type": "markdown",
   "id": "b3962987",
   "metadata": {},
   "source": [
    "Fine tuning"
   ]
  },
  {
   "cell_type": "code",
   "execution_count": 60,
   "id": "246f0082",
   "metadata": {},
   "outputs": [
    {
     "name": "stdout",
     "output_type": "stream",
     "text": [
      "\n",
      " Best values:\n",
      "train-aucpr\ttest-aucpr \tmax_depth   \tlambda      \tsubsample   \tscale_pos_w \n",
      "\n",
      "0.5999\t\t0.1803\t\t20\t\t1.5\t\t0.9\t\t10\t\t\n"
     ]
    }
   ],
   "source": [
    "gridXGB(paramlist={'max_depth':[20],\n",
    "                    'lambda':[1.5, 2, 2.5],\n",
    "                    'subsample':[0.7, 0.8, 0.9],\n",
    "                    'scale_pos_weight' : [6, 8, 10]})"
   ]
  },
  {
   "cell_type": "markdown",
   "id": "4a8db874",
   "metadata": {},
   "source": [
    "Further tuning:"
   ]
  },
  {
   "cell_type": "code",
   "execution_count": 61,
   "id": "85b35be0",
   "metadata": {},
   "outputs": [
    {
     "name": "stdout",
     "output_type": "stream",
     "text": [
      "\n",
      " Best values:\n",
      "train-aucpr\ttest-aucpr \tmax_depth   \tlambda      \tsubsample   \tscale_pos_w \n",
      "\n",
      "0.5999\t\t0.1803\t\t20\t\t1.5\t\t0.9\t\t10\t\t\n"
     ]
    }
   ],
   "source": [
    "gridXGB(paramlist={'max_depth':[20],\n",
    "                    'lambda':[1.0, 1.25, 1.5],\n",
    "                    'subsample':[0.8, 0.9,1.0],\n",
    "                    'scale_pos_weight' : [8, 10,12]})"
   ]
  },
  {
   "cell_type": "code",
   "execution_count": 77,
   "id": "e2e6ee9f",
   "metadata": {},
   "outputs": [
    {
     "name": "stdout",
     "output_type": "stream",
     "text": [
      "[[6517 1220]\n",
      " [ 302  239]]\n",
      "              precision    recall  f1-score   support\n",
      "\n",
      "           0       0.96      0.84      0.90      7737\n",
      "           1       0.16      0.44      0.24       541\n",
      "\n",
      "    accuracy                           0.82      8278\n",
      "   macro avg       0.56      0.64      0.57      8278\n",
      "weighted avg       0.90      0.82      0.85      8278\n",
      "\n"
     ]
    }
   ],
   "source": [
    "test_model({'max_depth':20,'lambda':1.5,'subsample':0.9, 'scale_pos_weight':10}, X_train, y_train, X_test, y_test,'Scale')"
   ]
  },
  {
   "cell_type": "markdown",
   "id": "97ffb0fc",
   "metadata": {},
   "source": [
    "Results are skewed in the same direction as SMOTE: recall achieved at the expense of precision. But overall performance is better. The f1 score for the positive class has improved to 0.24."
   ]
  },
  {
   "cell_type": "markdown",
   "id": "aee27e79",
   "metadata": {},
   "source": [
    "### 5.4 Ensemble\n",
    "As a final step let's try a hybrid between model 1 and 3 - effectively an ensemble:"
   ]
  },
  {
   "cell_type": "code",
   "execution_count": 83,
   "id": "04237672",
   "metadata": {},
   "outputs": [
    {
     "name": "stdout",
     "output_type": "stream",
     "text": [
      "[[7132  605]\n",
      " [ 359  182]]\n",
      "              precision    recall  f1-score   support\n",
      "\n",
      "           0       0.95      0.92      0.94      7737\n",
      "           1       0.23      0.34      0.27       541\n",
      "\n",
      "    accuracy                           0.88      8278\n",
      "   macro avg       0.59      0.63      0.61      8278\n",
      "weighted avg       0.90      0.88      0.89      8278\n",
      "\n"
     ]
    }
   ],
   "source": [
    "test_model({'max_depth':20,'lambda':1.75,'subsample':0.7, 'scale_pos_weight':5}, X_train, y_train, X_test, y_test,'Hybrid')"
   ]
  },
  {
   "cell_type": "markdown",
   "id": "11c78b45",
   "metadata": {},
   "source": [
    "There is greater balance here - the f1 score for the positive class has inproved further to 0.27."
   ]
  },
  {
   "cell_type": "markdown",
   "id": "505fd715",
   "metadata": {},
   "source": [
    "[Back to top](#s0)"
   ]
  },
  {
   "cell_type": "markdown",
   "id": "1c958707",
   "metadata": {},
   "source": [
    "## 6. Model evaluation<a id='s6'></a>"
   ]
  },
  {
   "cell_type": "code",
   "execution_count": 84,
   "id": "c1a3dfb0",
   "metadata": {},
   "outputs": [
    {
     "name": "stdout",
     "output_type": "stream",
     "text": [
      "      model  precision    recall        f1\n",
      "0  Baseline   0.390071  0.101664  0.161290\n",
      "1     SMOTE   0.117388  0.295749  0.168067\n",
      "2     Scale   0.163811  0.441774  0.239000\n",
      "3    Hybrid   0.231258  0.336414  0.274096\n"
     ]
    }
   ],
   "source": [
    "print(pd.DataFrame(results))"
   ]
  },
  {
   "cell_type": "markdown",
   "id": "4d5c4b8f",
   "metadata": {},
   "source": [
    "### Comments\n",
    "1. Class imbalance seems to be a major challenge with this dataset. Training on the unbalanced data biases the model heavily in favour of precision, while rebalancing favours recall. Scaling the positive class during training performs better than oversampling. A reasonable compromise is achieved by a hybrid of the scaled and unscaled models.\n",
    "2. But the performance is poor overall. Our best model identifies only 34% of credit risks, which is hardly a sustainable way to proceed in the financial services business!"
   ]
  },
  {
   "cell_type": "markdown",
   "id": "91041007",
   "metadata": {},
   "source": [
    "### Feature importance"
   ]
  },
  {
   "cell_type": "code",
   "execution_count": 94,
   "id": "0a709835",
   "metadata": {},
   "outputs": [
    {
     "data": {
      "text/plain": [
       "Waiters/barmen staff     0.039305\n",
       "HR staff                 0.034476\n",
       "child_few                0.033535\n",
       "Office apartment         0.031908\n",
       "Pensioner                0.031674\n",
       "Accountants              0.030029\n",
       "income_0                 0.029585\n",
       "income_1                 0.028911\n",
       "State servant            0.028756\n",
       "employed_2               0.028721\n",
       "Security staff           0.028577\n",
       "age_3                    0.028543\n",
       "Private service staff    0.028432\n",
       "Widow                    0.028416\n",
       "FLAG_PHONE               0.028381\n",
       "Incomplete higher        0.028242\n",
       "Separated                0.028106\n",
       "income_3                 0.028034\n",
       "Unspecified              0.028015\n",
       "Municipal apartment      0.027893\n",
       "High skill tech staff    0.027757\n",
       "employed_3               0.027733\n",
       "FLAG_EMAIL               0.027701\n",
       "child_0                  0.027600\n",
       "Core staff               0.027276\n",
       "Managers                 0.027203\n",
       "age_0                    0.027129\n",
       "employed_1               0.027058\n",
       "age_1                    0.026963\n",
       "Higher education         0.026563\n",
       "Cooking staff            0.025928\n",
       "CODE_GENDER              0.025829\n",
       "Single / not married     0.025411\n",
       "Low-skill Laborers       0.025369\n",
       "IT staff                 0.024941\n",
       "FLAG_OWN_REALTY          0.000000\n",
       "Academic degree          0.000000\n",
       "dtype: float32"
      ]
     },
     "execution_count": 94,
     "metadata": {},
     "output_type": "execute_result"
    }
   ],
   "source": [
    "params = {'max_depth':20,'lambda':1.75,'subsample':0.7, 'scale_pos_weight':5}\n",
    "xgb_model = xgb.XGBClassifier(use_label_encoder=False, objective = 'binary:logistic',\n",
    "            eval_metric = 'aucpr', **params)\n",
    "xgb_model.fit(X_train, y_train)\n",
    "imp = pd.Series(xgb_model.feature_importances_)\n",
    "imp.index = X_train.columns\n",
    "imp.sort_values(ascending=False)"
   ]
  },
  {
   "cell_type": "markdown",
   "id": "6ee2190c",
   "metadata": {},
   "source": [
    "There is no evidence of opportunity to simplify the model further through feature reduction, apart from removing *Academic degree* and *FLAG_OWN_REALTY*. Neither is there any real transaprency on the model. "
   ]
  },
  {
   "cell_type": "markdown",
   "id": "fe9dc598",
   "metadata": {},
   "source": [
    "[Back to top](#s0)"
   ]
  },
  {
   "cell_type": "markdown",
   "id": "aedf257d",
   "metadata": {},
   "source": [
    "## 7. Conclusions<a id='s7'></a>\n",
    "The model performs poorly - only 34% of risky applications are identified. In reality of course credit history forms a major part of credit decisions, and the way this task is formulated makes that impossible, since credit history is used to label the data. It would be an exercise in futility to build a model to predict credit history on the basis of credit history. A substantially better model would require an alternative method of labelling data to release credit history as a key feature, and sourcing of further features, such as details of other financial obligations."
   ]
  },
  {
   "cell_type": "markdown",
   "id": "1f249e0e",
   "metadata": {},
   "source": [
    "[Back to top](#s0)"
   ]
  },
  {
   "cell_type": "code",
   "execution_count": null,
   "id": "78d48801",
   "metadata": {},
   "outputs": [],
   "source": []
  }
 ],
 "metadata": {
  "kernelspec": {
   "display_name": "Python 3 (ipykernel)",
   "language": "python",
   "name": "python3"
  },
  "language_info": {
   "codemirror_mode": {
    "name": "ipython",
    "version": 3
   },
   "file_extension": ".py",
   "mimetype": "text/x-python",
   "name": "python",
   "nbconvert_exporter": "python",
   "pygments_lexer": "ipython3",
   "version": "3.9.7"
  }
 },
 "nbformat": 4,
 "nbformat_minor": 5
}
