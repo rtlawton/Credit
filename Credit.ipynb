{
 "cells": [
  {
   "cell_type": "markdown",
   "id": "81009a96",
   "metadata": {},
   "source": [
    "# CREDIT CARD APPROVAL FROM CUSTOMER APPLICATION/ CREDIT HISTORY\n",
    "(Kaggle)<br><br>\n",
    "**Objective** is to build a model to predict credit card approval on the basis of information about the customer. The data is unlabelled, but we are provided with a file of credit histories to construct labels. Historically linear logistic regression has been used to build this kind of model. Is it possible to build a more sophisticated model while maintaining transparency of decision?"
   ]
  },
  {
   "cell_type": "markdown",
   "id": "e04a7375",
   "metadata": {},
   "source": [
    "**Contents:**<a id='s0'></a>\n",
    "1. [Build data labels](#s1)\n",
    "2. [Exploratory data analysis](#s2)\n",
    "2. [Feature selection](#s3)\n",
    "3. [Model building](#s4)\n",
    "4. [Evaluation](#s5)\n",
    "5. [Conclusions](#s6)"
   ]
  },
  {
   "cell_type": "code",
   "execution_count": 351,
   "id": "ae8e10ab",
   "metadata": {},
   "outputs": [],
   "source": [
    "import pandas as pd\n",
    "import numpy as np\n",
    "import seaborn as sns\n",
    "import matplotlib.pyplot as plt\n",
    "%matplotlib inline"
   ]
  },
  {
   "cell_type": "code",
   "execution_count": 352,
   "id": "dbc2fec3",
   "metadata": {},
   "outputs": [],
   "source": [
    "cust = pd.read_csv(\"application_record.csv\")\n",
    "cred = pd.read_csv(\"credit_record.csv\")"
   ]
  },
  {
   "cell_type": "markdown",
   "id": "3f6213de",
   "metadata": {},
   "source": [
    "## 1. Build data labels<a id='s0'></a>\n",
    "from the cred dataframe"
   ]
  },
  {
   "cell_type": "code",
   "execution_count": 353,
   "id": "ff24773d",
   "metadata": {},
   "outputs": [
    {
     "name": "stdout",
     "output_type": "stream",
     "text": [
      "<class 'pandas.core.frame.DataFrame'>\n",
      "RangeIndex: 1048575 entries, 0 to 1048574\n",
      "Data columns (total 3 columns):\n",
      " #   Column          Non-Null Count    Dtype \n",
      "---  ------          --------------    ----- \n",
      " 0   ID              1048575 non-null  int64 \n",
      " 1   MONTHS_BALANCE  1048575 non-null  int64 \n",
      " 2   STATUS          1048575 non-null  object\n",
      "dtypes: int64(2), object(1)\n",
      "memory usage: 24.0+ MB\n"
     ]
    }
   ],
   "source": [
    "cred.info()"
   ]
  },
  {
   "cell_type": "markdown",
   "id": "6c500f82",
   "metadata": {},
   "source": [
    "**ID is link to individual in credit application:**"
   ]
  },
  {
   "cell_type": "code",
   "execution_count": 357,
   "id": "2c443aa9",
   "metadata": {},
   "outputs": [
    {
     "data": {
      "text/plain": [
       "45985"
      ]
     },
     "execution_count": 357,
     "metadata": {},
     "output_type": "execute_result"
    }
   ],
   "source": [
    "cred['ID'].nunique()"
   ]
  },
  {
   "cell_type": "markdown",
   "id": "f62a4f72",
   "metadata": {},
   "source": [
    "**STATUS indicates servicing of the debt in a given month:**\n",
    "* C = payments up to date\n",
    "* 0 = up to 1 month in arrears\n",
    "* 1 = up to 2 months in arrears (etc. 2,3,4,5)\n",
    "* X = No debt"
   ]
  },
  {
   "cell_type": "code",
   "execution_count": 355,
   "id": "e9f26d13",
   "metadata": {},
   "outputs": [
    {
     "data": {
      "text/plain": [
       "C    442031\n",
       "0    383120\n",
       "X    209230\n",
       "1     11090\n",
       "5      1693\n",
       "2       868\n",
       "3       320\n",
       "4       223\n",
       "Name: STATUS, dtype: int64"
      ]
     },
     "execution_count": 355,
     "metadata": {},
     "output_type": "execute_result"
    }
   ],
   "source": [
    "cred['STATUS'].value_counts()"
   ]
  },
  {
   "cell_type": "markdown",
   "id": "552cf485",
   "metadata": {},
   "source": [
    "**MONTHS_BALANCE indicates age of the data: -60 is 5 years ago and 0 is current**"
   ]
  },
  {
   "cell_type": "code",
   "execution_count": 356,
   "id": "77e8db28",
   "metadata": {},
   "outputs": [
    {
     "data": {
      "text/plain": [
       "(-60, 0)"
      ]
     },
     "execution_count": 356,
     "metadata": {},
     "output_type": "execute_result"
    }
   ],
   "source": [
    "(cred['MONTHS_BALANCE'].min(),cred['MONTHS_BALANCE'].max())"
   ]
  },
  {
   "cell_type": "markdown",
   "id": "648e592d",
   "metadata": {},
   "source": [
    "**RISK SCORING PROPOSAL:**\n",
    "1. Remove 'X' data (no debt) because this is irrelevant to credit risk.\n",
    "2. Score each month as per STATUS flag: 0..4\n",
    "3. Score 'C' (payments up to date) as -1 (reduced credit risk)\n",
    "4. Attenuate score by 1% per month (linear) because recent data should be more relevant.<br>\n",
    "Scoring function will be:"
   ]
  },
  {
   "cell_type": "code",
   "execution_count": 358,
   "id": "0b8fb020",
   "metadata": {},
   "outputs": [],
   "source": [
    "def apply_score(row):\n",
    "    statusList = ['C', '0', '1', '2', '3', '4', '5']\n",
    "    attenuation = 100\n",
    "    return (statusList.index(row['STATUS']) - 1)*(1+row['MONTHS_BALANCE']/attenuation)"
   ]
  },
  {
   "cell_type": "markdown",
   "id": "f76b61ab",
   "metadata": {},
   "source": [
    "Remove STATUS 'X' rows from data (which make no contribution), apply scoring function and sum by ID"
   ]
  },
  {
   "cell_type": "code",
   "execution_count": 359,
   "id": "e331d531",
   "metadata": {},
   "outputs": [
    {
     "data": {
      "text/plain": [
       "<AxesSubplot:xlabel='score', ylabel='Count'>"
      ]
     },
     "execution_count": 359,
     "metadata": {},
     "output_type": "execute_result"
    },
    {
     "data": {
      "image/png": "[encoded data removed]",
      "text/plain": [
       "<Figure size 432x288 with 1 Axes>"
      ]
     },
     "metadata": {
      "needs_background": "light"
     },
     "output_type": "display_data"
    }
   ],
   "source": [
    "cred = cred[cred['STATUS'] != 'X']\n",
    "score = cred.apply(lambda row: apply_score(row), axis=1)\n",
    "cred['score'] = score\n",
    "profile = cred.groupby('ID').sum('score')['score'].sort_values()\n",
    "sns.histplot(data=profile)"
   ]
  },
  {
   "cell_type": "code",
   "execution_count": 140,
   "id": "f40392a3",
   "metadata": {},
   "outputs": [
    {
     "name": "stdout",
     "output_type": "stream",
     "text": [
      "There are 22524 good credit records (score below 0),\n",
      "16201 credit records with exactly zero score, \n",
      "and 2724 bad credit records (score above 0).\n"
     ]
    }
   ],
   "source": [
    "a = len(profile[profile < 0])\n",
    "b = len(profile[profile > 0])\n",
    "c = len(profile) - a - b\n",
    "print(f\"There are {a} good credit records (score below 0),\\n{c} credit records with exactly zero score, \\nand {b} bad credit records (score above 0).\")"
   ]
  },
  {
   "cell_type": "markdown",
   "id": "5e938917",
   "metadata": {},
   "source": [
    "The zero score is achievable only by paying consistently 1 month in arrears. While this does represent a degree of credit risk it is also highly profitable business for the lender since these customers will be paying substantial interest charges. We therefore propose to exclude them from the bad risk label. We will set the high risk cut off at score > 0:"
   ]
  },
  {
   "cell_type": "code",
   "execution_count": 360,
   "id": "d4271b26",
   "metadata": {},
   "outputs": [],
   "source": [
    "label = profile > 0"
   ]
  },
  {
   "cell_type": "code",
   "execution_count": 361,
   "id": "5cbc7ae9",
   "metadata": {},
   "outputs": [
    {
     "name": "stdout",
     "output_type": "stream",
     "text": [
      "Positives = 6.57%\n"
     ]
    }
   ],
   "source": [
    "print(f\"Positives = {100*np.mean(label):.2f}%\")"
   ]
  },
  {
   "cell_type": "markdown",
   "id": "9ff15df8",
   "metadata": {},
   "source": [
    "[Back to top](#s0)"
   ]
  },
  {
   "cell_type": "markdown",
   "id": "4a6bfd0b",
   "metadata": {},
   "source": [
    "## 2. Exploratory data analysis: Customer information file<a id='s2'></a>"
   ]
  },
  {
   "cell_type": "markdown",
   "id": "754d4ab2",
   "metadata": {},
   "source": [
    "#### Overview"
   ]
  },
  {
   "cell_type": "code",
   "execution_count": 362,
   "id": "6b84c144",
   "metadata": {},
   "outputs": [
    {
     "data": {
      "text/html": [
       "<div>\n",
       "<style scoped>\n",
       "    .dataframe tbody tr th:only-of-type {\n",
       "        vertical-align: middle;\n",
       "    }\n",
       "\n",
       "    .dataframe tbody tr th {\n",
       "        vertical-align: top;\n",
       "    }\n",
       "\n",
       "    .dataframe thead th {\n",
       "        text-align: right;\n",
       "    }\n",
       "</style>\n",
       "<table border=\"1\" class=\"dataframe\">\n",
       "  <thead>\n",
       "    <tr style=\"text-align: right;\">\n",
       "      <th></th>\n",
       "      <th>ID</th>\n",
       "      <th>CODE_GENDER</th>\n",
       "      <th>FLAG_OWN_CAR</th>\n",
       "      <th>FLAG_OWN_REALTY</th>\n",
       "      <th>CNT_CHILDREN</th>\n",
       "      <th>AMT_INCOME_TOTAL</th>\n",
       "      <th>NAME_INCOME_TYPE</th>\n",
       "      <th>NAME_EDUCATION_TYPE</th>\n",
       "      <th>NAME_FAMILY_STATUS</th>\n",
       "      <th>NAME_HOUSING_TYPE</th>\n",
       "      <th>DAYS_BIRTH</th>\n",
       "      <th>DAYS_EMPLOYED</th>\n",
       "      <th>FLAG_MOBIL</th>\n",
       "      <th>FLAG_WORK_PHONE</th>\n",
       "      <th>FLAG_PHONE</th>\n",
       "      <th>FLAG_EMAIL</th>\n",
       "      <th>OCCUPATION_TYPE</th>\n",
       "      <th>CNT_FAM_MEMBERS</th>\n",
       "    </tr>\n",
       "  </thead>\n",
       "  <tbody>\n",
       "    <tr>\n",
       "      <th>0</th>\n",
       "      <td>5008804</td>\n",
       "      <td>M</td>\n",
       "      <td>Y</td>\n",
       "      <td>Y</td>\n",
       "      <td>0</td>\n",
       "      <td>427500.0</td>\n",
       "      <td>Working</td>\n",
       "      <td>Higher education</td>\n",
       "      <td>Civil marriage</td>\n",
       "      <td>Rented apartment</td>\n",
       "      <td>-12005</td>\n",
       "      <td>-4542</td>\n",
       "      <td>1</td>\n",
       "      <td>1</td>\n",
       "      <td>0</td>\n",
       "      <td>0</td>\n",
       "      <td>NaN</td>\n",
       "      <td>2.0</td>\n",
       "    </tr>\n",
       "    <tr>\n",
       "      <th>1</th>\n",
       "      <td>5008805</td>\n",
       "      <td>M</td>\n",
       "      <td>Y</td>\n",
       "      <td>Y</td>\n",
       "      <td>0</td>\n",
       "      <td>427500.0</td>\n",
       "      <td>Working</td>\n",
       "      <td>Higher education</td>\n",
       "      <td>Civil marriage</td>\n",
       "      <td>Rented apartment</td>\n",
       "      <td>-12005</td>\n",
       "      <td>-4542</td>\n",
       "      <td>1</td>\n",
       "      <td>1</td>\n",
       "      <td>0</td>\n",
       "      <td>0</td>\n",
       "      <td>NaN</td>\n",
       "      <td>2.0</td>\n",
       "    </tr>\n",
       "    <tr>\n",
       "      <th>2</th>\n",
       "      <td>5008806</td>\n",
       "      <td>M</td>\n",
       "      <td>Y</td>\n",
       "      <td>Y</td>\n",
       "      <td>0</td>\n",
       "      <td>112500.0</td>\n",
       "      <td>Working</td>\n",
       "      <td>Secondary / secondary special</td>\n",
       "      <td>Married</td>\n",
       "      <td>House / apartment</td>\n",
       "      <td>-21474</td>\n",
       "      <td>-1134</td>\n",
       "      <td>1</td>\n",
       "      <td>0</td>\n",
       "      <td>0</td>\n",
       "      <td>0</td>\n",
       "      <td>Security staff</td>\n",
       "      <td>2.0</td>\n",
       "    </tr>\n",
       "    <tr>\n",
       "      <th>3</th>\n",
       "      <td>5008808</td>\n",
       "      <td>F</td>\n",
       "      <td>N</td>\n",
       "      <td>Y</td>\n",
       "      <td>0</td>\n",
       "      <td>270000.0</td>\n",
       "      <td>Commercial associate</td>\n",
       "      <td>Secondary / secondary special</td>\n",
       "      <td>Single / not married</td>\n",
       "      <td>House / apartment</td>\n",
       "      <td>-19110</td>\n",
       "      <td>-3051</td>\n",
       "      <td>1</td>\n",
       "      <td>0</td>\n",
       "      <td>1</td>\n",
       "      <td>1</td>\n",
       "      <td>Sales staff</td>\n",
       "      <td>1.0</td>\n",
       "    </tr>\n",
       "    <tr>\n",
       "      <th>4</th>\n",
       "      <td>5008809</td>\n",
       "      <td>F</td>\n",
       "      <td>N</td>\n",
       "      <td>Y</td>\n",
       "      <td>0</td>\n",
       "      <td>270000.0</td>\n",
       "      <td>Commercial associate</td>\n",
       "      <td>Secondary / secondary special</td>\n",
       "      <td>Single / not married</td>\n",
       "      <td>House / apartment</td>\n",
       "      <td>-19110</td>\n",
       "      <td>-3051</td>\n",
       "      <td>1</td>\n",
       "      <td>0</td>\n",
       "      <td>1</td>\n",
       "      <td>1</td>\n",
       "      <td>Sales staff</td>\n",
       "      <td>1.0</td>\n",
       "    </tr>\n",
       "  </tbody>\n",
       "</table>\n",
       "</div>"
      ],
      "text/plain": [
       "        ID CODE_GENDER FLAG_OWN_CAR FLAG_OWN_REALTY  CNT_CHILDREN  \\\n",
       "0  5008804           M            Y               Y             0   \n",
       "1  5008805           M            Y               Y             0   \n",
       "2  5008806           M            Y               Y             0   \n",
       "3  5008808           F            N               Y             0   \n",
       "4  5008809           F            N               Y             0   \n",
       "\n",
       "   AMT_INCOME_TOTAL      NAME_INCOME_TYPE            NAME_EDUCATION_TYPE  \\\n",
       "0          427500.0               Working               Higher education   \n",
       "1          427500.0               Working               Higher education   \n",
       "2          112500.0               Working  Secondary / secondary special   \n",
       "3          270000.0  Commercial associate  Secondary / secondary special   \n",
       "4          270000.0  Commercial associate  Secondary / secondary special   \n",
       "\n",
       "     NAME_FAMILY_STATUS  NAME_HOUSING_TYPE  DAYS_BIRTH  DAYS_EMPLOYED  \\\n",
       "0        Civil marriage   Rented apartment      -12005          -4542   \n",
       "1        Civil marriage   Rented apartment      -12005          -4542   \n",
       "2               Married  House / apartment      -21474          -1134   \n",
       "3  Single / not married  House / apartment      -19110          -3051   \n",
       "4  Single / not married  House / apartment      -19110          -3051   \n",
       "\n",
       "   FLAG_MOBIL  FLAG_WORK_PHONE  FLAG_PHONE  FLAG_EMAIL OCCUPATION_TYPE  \\\n",
       "0           1                1           0           0             NaN   \n",
       "1           1                1           0           0             NaN   \n",
       "2           1                0           0           0  Security staff   \n",
       "3           1                0           1           1     Sales staff   \n",
       "4           1                0           1           1     Sales staff   \n",
       "\n",
       "   CNT_FAM_MEMBERS  \n",
       "0              2.0  \n",
       "1              2.0  \n",
       "2              2.0  \n",
       "3              1.0  \n",
       "4              1.0  "
      ]
     },
     "execution_count": 362,
     "metadata": {},
     "output_type": "execute_result"
    }
   ],
   "source": [
    "cust.head()"
   ]
  },
  {
   "cell_type": "code",
   "execution_count": 363,
   "id": "c6520403",
   "metadata": {},
   "outputs": [
    {
     "name": "stdout",
     "output_type": "stream",
     "text": [
      "<class 'pandas.core.frame.DataFrame'>\n",
      "RangeIndex: 438557 entries, 0 to 438556\n",
      "Data columns (total 18 columns):\n",
      " #   Column               Non-Null Count   Dtype  \n",
      "---  ------               --------------   -----  \n",
      " 0   ID                   438557 non-null  int64  \n",
      " 1   CODE_GENDER          438557 non-null  object \n",
      " 2   FLAG_OWN_CAR         438557 non-null  object \n",
      " 3   FLAG_OWN_REALTY      438557 non-null  object \n",
      " 4   CNT_CHILDREN         438557 non-null  int64  \n",
      " 5   AMT_INCOME_TOTAL     438557 non-null  float64\n",
      " 6   NAME_INCOME_TYPE     438557 non-null  object \n",
      " 7   NAME_EDUCATION_TYPE  438557 non-null  object \n",
      " 8   NAME_FAMILY_STATUS   438557 non-null  object \n",
      " 9   NAME_HOUSING_TYPE    438557 non-null  object \n",
      " 10  DAYS_BIRTH           438557 non-null  int64  \n",
      " 11  DAYS_EMPLOYED        438557 non-null  int64  \n",
      " 12  FLAG_MOBIL           438557 non-null  int64  \n",
      " 13  FLAG_WORK_PHONE      438557 non-null  int64  \n",
      " 14  FLAG_PHONE           438557 non-null  int64  \n",
      " 15  FLAG_EMAIL           438557 non-null  int64  \n",
      " 16  OCCUPATION_TYPE      304354 non-null  object \n",
      " 17  CNT_FAM_MEMBERS      438557 non-null  float64\n",
      "dtypes: float64(2), int64(8), object(8)\n",
      "memory usage: 60.2+ MB\n"
     ]
    }
   ],
   "source": [
    "cust.info()"
   ]
  },
  {
   "cell_type": "code",
   "execution_count": 364,
   "id": "22515fe1",
   "metadata": {},
   "outputs": [
    {
     "data": {
      "text/plain": [
       "ID                     438510\n",
       "CODE_GENDER                 2\n",
       "FLAG_OWN_CAR                2\n",
       "FLAG_OWN_REALTY             2\n",
       "CNT_CHILDREN               12\n",
       "AMT_INCOME_TOTAL          866\n",
       "NAME_INCOME_TYPE            5\n",
       "NAME_EDUCATION_TYPE         5\n",
       "NAME_FAMILY_STATUS          5\n",
       "NAME_HOUSING_TYPE           6\n",
       "DAYS_BIRTH              16379\n",
       "DAYS_EMPLOYED            9406\n",
       "FLAG_MOBIL                  1\n",
       "FLAG_WORK_PHONE             2\n",
       "FLAG_PHONE                  2\n",
       "FLAG_EMAIL                  2\n",
       "OCCUPATION_TYPE            18\n",
       "CNT_FAM_MEMBERS            13\n",
       "dtype: int64"
      ]
     },
     "execution_count": 364,
     "metadata": {},
     "output_type": "execute_result"
    }
   ],
   "source": [
    "cust.nunique()"
   ]
  },
  {
   "cell_type": "markdown",
   "id": "d57f0c79",
   "metadata": {},
   "source": [
    "Remove non-unique IDs and join to labels, keeping only labelled data"
   ]
  },
  {
   "cell_type": "code",
   "execution_count": 365,
   "id": "0aa36192",
   "metadata": {},
   "outputs": [],
   "source": [
    "cust.drop_duplicates(subset=['ID'],keep=False, inplace=True)\n",
    "cust.set_index('ID',inplace=True)\n",
    "cust = pd.concat([cust,label], axis=1, join=\"inner\")"
   ]
  },
  {
   "cell_type": "markdown",
   "id": "96d21fcb",
   "metadata": {
    "scrolled": true
   },
   "source": [
    "### Numeric fields\n",
    "CNT_CHILDREN, AMT_INCOME_TOTAL, DAYS_BIRTH, DAYS_EMPLOYED, CNT_FAM_MEMBERS"
   ]
  },
  {
   "cell_type": "markdown",
   "id": "1db4fb20",
   "metadata": {},
   "source": [
    "__Comments:__<br>\n",
    "1. No Nan\n",
    "2. Maximum number of children (19) (and hence family members) seems excessive\n",
    "3. Income in range 27000 to 1575000 - units unknown.\n",
    "3. Ages: 21-68 years, recorded as negative months count back to birth.\n",
    "4. DAYS_EMPLOYED is problematic: should be a negative number (counting back to employment date), but max is 365243."
   ]
  },
  {
   "cell_type": "code",
   "execution_count": 366,
   "id": "f4dd7ad0",
   "metadata": {},
   "outputs": [
    {
     "data": {
      "text/html": [
       "<div>\n",
       "<style scoped>\n",
       "    .dataframe tbody tr th:only-of-type {\n",
       "        vertical-align: middle;\n",
       "    }\n",
       "\n",
       "    .dataframe tbody tr th {\n",
       "        vertical-align: top;\n",
       "    }\n",
       "\n",
       "    .dataframe thead th {\n",
       "        text-align: right;\n",
       "    }\n",
       "</style>\n",
       "<table border=\"1\" class=\"dataframe\">\n",
       "  <thead>\n",
       "    <tr style=\"text-align: right;\">\n",
       "      <th></th>\n",
       "      <th>CNT_CHILDREN</th>\n",
       "      <th>AMT_INCOME_TOTAL</th>\n",
       "      <th>DAYS_BIRTH</th>\n",
       "      <th>DAYS_EMPLOYED</th>\n",
       "      <th>CNT_FAM_MEMBERS</th>\n",
       "    </tr>\n",
       "  </thead>\n",
       "  <tbody>\n",
       "    <tr>\n",
       "      <th>count</th>\n",
       "      <td>33110.000000</td>\n",
       "      <td>3.311000e+04</td>\n",
       "      <td>33110.000000</td>\n",
       "      <td>33110.000000</td>\n",
       "      <td>33110.000000</td>\n",
       "    </tr>\n",
       "    <tr>\n",
       "      <th>mean</th>\n",
       "      <td>0.427756</td>\n",
       "      <td>1.858772e+05</td>\n",
       "      <td>-16007.262489</td>\n",
       "      <td>60031.029085</td>\n",
       "      <td>2.194654</td>\n",
       "    </tr>\n",
       "    <tr>\n",
       "      <th>std</th>\n",
       "      <td>0.741716</td>\n",
       "      <td>1.014124e+05</td>\n",
       "      <td>4213.387673</td>\n",
       "      <td>138345.184712</td>\n",
       "      <td>0.911076</td>\n",
       "    </tr>\n",
       "    <tr>\n",
       "      <th>min</th>\n",
       "      <td>0.000000</td>\n",
       "      <td>2.700000e+04</td>\n",
       "      <td>-25152.000000</td>\n",
       "      <td>-15713.000000</td>\n",
       "      <td>1.000000</td>\n",
       "    </tr>\n",
       "    <tr>\n",
       "      <th>25%</th>\n",
       "      <td>0.000000</td>\n",
       "      <td>1.215000e+05</td>\n",
       "      <td>-19495.000000</td>\n",
       "      <td>-3159.000000</td>\n",
       "      <td>2.000000</td>\n",
       "    </tr>\n",
       "    <tr>\n",
       "      <th>50%</th>\n",
       "      <td>0.000000</td>\n",
       "      <td>1.575000e+05</td>\n",
       "      <td>-15646.000000</td>\n",
       "      <td>-1552.000000</td>\n",
       "      <td>2.000000</td>\n",
       "    </tr>\n",
       "    <tr>\n",
       "      <th>75%</th>\n",
       "      <td>1.000000</td>\n",
       "      <td>2.250000e+05</td>\n",
       "      <td>-12461.000000</td>\n",
       "      <td>-405.000000</td>\n",
       "      <td>3.000000</td>\n",
       "    </tr>\n",
       "    <tr>\n",
       "      <th>max</th>\n",
       "      <td>19.000000</td>\n",
       "      <td>1.575000e+06</td>\n",
       "      <td>-7705.000000</td>\n",
       "      <td>365243.000000</td>\n",
       "      <td>20.000000</td>\n",
       "    </tr>\n",
       "  </tbody>\n",
       "</table>\n",
       "</div>"
      ],
      "text/plain": [
       "       CNT_CHILDREN  AMT_INCOME_TOTAL    DAYS_BIRTH  DAYS_EMPLOYED  \\\n",
       "count  33110.000000      3.311000e+04  33110.000000   33110.000000   \n",
       "mean       0.427756      1.858772e+05 -16007.262489   60031.029085   \n",
       "std        0.741716      1.014124e+05   4213.387673  138345.184712   \n",
       "min        0.000000      2.700000e+04 -25152.000000  -15713.000000   \n",
       "25%        0.000000      1.215000e+05 -19495.000000   -3159.000000   \n",
       "50%        0.000000      1.575000e+05 -15646.000000   -1552.000000   \n",
       "75%        1.000000      2.250000e+05 -12461.000000    -405.000000   \n",
       "max       19.000000      1.575000e+06  -7705.000000  365243.000000   \n",
       "\n",
       "       CNT_FAM_MEMBERS  \n",
       "count     33110.000000  \n",
       "mean          2.194654  \n",
       "std           0.911076  \n",
       "min           1.000000  \n",
       "25%           2.000000  \n",
       "50%           2.000000  \n",
       "75%           3.000000  \n",
       "max          20.000000  "
      ]
     },
     "execution_count": 366,
     "metadata": {},
     "output_type": "execute_result"
    }
   ],
   "source": [
    "cust[['CNT_CHILDREN','AMT_INCOME_TOTAL','DAYS_BIRTH','DAYS_EMPLOYED','CNT_FAM_MEMBERS']].describe()"
   ]
  },
  {
   "cell_type": "markdown",
   "id": "f3bd938a",
   "metadata": {},
   "source": [
    "**Sort out out of range entries in DAYS_EMPLOYED:**\n",
    "All 33110 out of range entries have value 365243. Replace them with median value of the feature."
   ]
  },
  {
   "cell_type": "code",
   "execution_count": 369,
   "id": "4562f081",
   "metadata": {},
   "outputs": [
    {
     "data": {
      "text/plain": [
       "(33110, 33110)"
      ]
     },
     "execution_count": 369,
     "metadata": {},
     "output_type": "execute_result"
    }
   ],
   "source": [
    "(len(cust['DAYS_EMPLOYED'] > 0), len(cust['DAYS_EMPLOYED'] == 365243))"
   ]
  },
  {
   "cell_type": "code",
   "execution_count": 370,
   "id": "1ad81c6e",
   "metadata": {},
   "outputs": [
    {
     "name": "stdout",
     "output_type": "stream",
     "text": [
      "Years employed from 0 to 43\n"
     ]
    }
   ],
   "source": [
    "med_de = cust[cust[\"DAYS_EMPLOYED\"] < 0][\"DAYS_EMPLOYED\"].median()\n",
    "cust['DAYS_EMPLOYED'].mask(cust['DAYS_EMPLOYED'] > 0, med_de, inplace=True)\n",
    "print(f\"Years employed from {-int(cust['DAYS_EMPLOYED'].max()/365)} to {-int(cust['DAYS_EMPLOYED'].min()/365)}\")"
   ]
  },
  {
   "cell_type": "markdown",
   "id": "266c9fbe",
   "metadata": {},
   "source": [
    "**Correlation**<br>\n",
    "CNT_CHILDREN and CNT_FAM_MEMBERS are strongly correlated. Otherwise vatriables are independent, except that DAYS_EMPLOYED is constrained to be substantially less than DAYS_BIRTH."
   ]
  },
  {
   "cell_type": "code",
   "execution_count": 371,
   "id": "cfd5c301",
   "metadata": {},
   "outputs": [
    {
     "data": {
      "text/plain": [
       "<seaborn.axisgrid.PairGrid at 0x7f8ffeca6610>"
      ]
     },
     "execution_count": 371,
     "metadata": {},
     "output_type": "execute_result"
    },
    {
     "data": {
      "image/png": "[encoded data removed]",
      "text/plain": [
       "<Figure size 900x900 with 30 Axes>"
      ]
     },
     "metadata": {
      "needs_background": "light"
     },
     "output_type": "display_data"
    }
   ],
   "source": [
    "sns.pairplot(cust[[\"CNT_CHILDREN\",\"CNT_FAM_MEMBERS\",\"DAYS_BIRTH\",\"DAYS_EMPLOYED\",\"AMT_INCOME_TOTAL\"]])"
   ]
  },
  {
   "cell_type": "markdown",
   "id": "403e33c0",
   "metadata": {},
   "source": [
    "**Distribution of variables**"
   ]
  },
  {
   "cell_type": "code",
   "execution_count": 373,
   "id": "76a55d7e",
   "metadata": {},
   "outputs": [
    {
     "data": {
      "image/png": "[encoded data removed]",
      "text/plain": [
       "<Figure size 936x360 with 5 Axes>"
      ]
     },
     "metadata": {
      "needs_background": "light"
     },
     "output_type": "display_data"
    }
   ],
   "source": [
    "fig, ax =plt.subplots(1,5)\n",
    "plt.rcParams['figure.figsize'] = [13, 5]\n",
    "sns.histplot(x=cust[\"CNT_CHILDREN\"], binwidth=1,stat='count', ax=ax[0])\n",
    "sns.histplot(cust[\"AMT_INCOME_TOTAL\"], binwidth=50000,stat='count', ax=ax[1])\n",
    "sns.histplot(cust[\"DAYS_BIRTH\"], binwidth=1000,stat='count', ax=ax[2])\n",
    "sns.histplot(cust[\"DAYS_EMPLOYED\"], binwidth=500,stat='count', ax=ax[3])\n",
    "sns.histplot(cust[\"CNT_FAM_MEMBERS\"], binwidth=1,stat='count', ax=ax[4])\n",
    "plt.subplots_adjust(wspace=0.7)\n",
    "plt.show()"
   ]
  },
  {
   "cell_type": "markdown",
   "id": "b17850a8",
   "metadata": {},
   "source": [
    "All features have strong tails, apart from DAYS_BIRTH. Apply a log10 transform."
   ]
  },
  {
   "cell_type": "code",
   "execution_count": 374,
   "id": "52b9a1a3",
   "metadata": {},
   "outputs": [],
   "source": [
    "cust['CNT_CHILDREN'] = np.log10(1+cust['CNT_CHILDREN'])\n",
    "cust['AMT_INCOME_TOTAL'] = np.log10(1+cust['AMT_INCOME_TOTAL'])\n",
    "cust['DAYS_EMPLOYED'] = np.log10(1-cust['DAYS_EMPLOYED'])\n",
    "cust['CNT_FAM_MEMBERS'] = np.log10(1+cust['CNT_FAM_MEMBERS'])"
   ]
  },
  {
   "cell_type": "markdown",
   "id": "d12b9d17",
   "metadata": {},
   "source": [
    "### Categorical fields"
   ]
  },
  {
   "cell_type": "markdown",
   "id": "80fa3062",
   "metadata": {},
   "source": [
    "There are no NaNs apart from OCCUPATION_TYPE. FIX: create new category \"Unspecified\"."
   ]
  },
  {
   "cell_type": "code",
   "execution_count": 375,
   "id": "14c73fd2",
   "metadata": {},
   "outputs": [],
   "source": [
    "cust['OCCUPATION_TYPE'] = cust['OCCUPATION_TYPE'].fillna(\"Unspecified\")"
   ]
  },
  {
   "cell_type": "code",
   "execution_count": 376,
   "id": "b757f376",
   "metadata": {},
   "outputs": [
    {
     "data": {
      "text/plain": [
       "Unspecified              10373\n",
       "Laborers                  5601\n",
       "Core staff                3250\n",
       "Sales staff               3156\n",
       "Managers                  2695\n",
       "Drivers                   1934\n",
       "High skill tech staff     1269\n",
       "Medicine staff            1124\n",
       "Accountants               1106\n",
       "Cooking staff              587\n",
       "Security staff             547\n",
       "Cleaning staff             511\n",
       "Private service staff      293\n",
       "Waiters/barmen staff       163\n",
       "Low-skill Laborers         159\n",
       "Secretaries                142\n",
       "HR staff                    76\n",
       "Realty agents               67\n",
       "IT staff                    57\n",
       "Name: OCCUPATION_TYPE, dtype: int64"
      ]
     },
     "execution_count": 376,
     "metadata": {},
     "output_type": "execute_result"
    }
   ],
   "source": [
    "cust['OCCUPATION_TYPE'].value_counts()"
   ]
  },
  {
   "cell_type": "markdown",
   "id": "ed489747",
   "metadata": {},
   "source": [
    "All other variables are binary flags or limited list of categories. Frequencies will be inspected for feature reduction."
   ]
  },
  {
   "cell_type": "markdown",
   "id": "5466687a",
   "metadata": {},
   "source": [
    "[Back to top](#s0)"
   ]
  },
  {
   "cell_type": "markdown",
   "id": "fa6c7742",
   "metadata": {},
   "source": [
    "## 3. Feature selection<a id='s3'></a>"
   ]
  },
  {
   "cell_type": "markdown",
   "id": "d735b526",
   "metadata": {},
   "source": [
    "Prior to feature selection we\n",
    "1. Convert character literal flags to booleans\n",
    "1. Convert object-type variables to encoded variables\n",
    "2. Split off test dataset to avoid overfitting\n",
    "3. Scale numeric variables on train dataset"
   ]
  },
  {
   "cell_type": "code",
   "execution_count": 377,
   "id": "0073839b",
   "metadata": {},
   "outputs": [],
   "source": [
    "# Character literal flag convert to Boolean\n",
    "cust['CODE_GENDER'] = cust['CODE_GENDER']== 'M'\n",
    "cust['FLAG_OWN_CAR'] = cust['FLAG_OWN_CAR']== 'Y'\n",
    "cust['FLAG_OWN_REALTY'] = cust['FLAG_OWN_REALTY']== 'Y'\n",
    "cust['FLAG_WORK_PHONE'] = cust['FLAG_WORK_PHONE']== 'Y'\n",
    "cust['FLAG_PHONE'] = cust['FLAG_PHONE']== 'Y'\n",
    "cust['FLAG_EMAIL'] = cust['FLAG_EMAIL']== 'Y'"
   ]
  },
  {
   "cell_type": "code",
   "execution_count": 378,
   "id": "b98f505e",
   "metadata": {},
   "outputs": [],
   "source": [
    "# Encode object-type variables\n",
    "income_type = pd.get_dummies(cust['NAME_INCOME_TYPE'])\n",
    "education_type = pd.get_dummies(cust['NAME_EDUCATION_TYPE'])\n",
    "family_status = pd.get_dummies(cust['NAME_FAMILY_STATUS'])\n",
    "housing_type = pd.get_dummies(cust['NAME_HOUSING_TYPE'])\n",
    "occupation_type = pd.get_dummies(cust['OCCUPATION_TYPE'])\n",
    "cust = pd.concat([cust.drop(['NAME_INCOME_TYPE',\n",
    "                             'NAME_EDUCATION_TYPE',\n",
    "                             'NAME_FAMILY_STATUS',\n",
    "                             'NAME_HOUSING_TYPE',\n",
    "                             'OCCUPATION_TYPE'],axis=1),\n",
    "                  income_type,education_type,family_status,housing_type,occupation_type],axis=1)"
   ]
  },
  {
   "cell_type": "code",
   "execution_count": 379,
   "id": "efa05396",
   "metadata": {},
   "outputs": [],
   "source": [
    "#Split off test dataset\n",
    "from sklearn.model_selection import train_test_split\n",
    "X_train, X_test, y_train, y_test = train_test_split(cust.drop(['score'],axis=1), cust['score'], \n",
    "                                                    test_size=0.25, \n",
    "                                                    random_state=101,\n",
    "                                                    stratify=cust['score'])"
   ]
  },
  {
   "cell_type": "code",
   "execution_count": 380,
   "id": "f0614d05",
   "metadata": {},
   "outputs": [],
   "source": [
    "#Normalise numeric variables on train dataset\n",
    "from sklearn.preprocessing import StandardScaler\n",
    "numeric_cols = ['CNT_CHILDREN','AMT_INCOME_TOTAL','DAYS_BIRTH','DAYS_EMPLOYED','CNT_FAM_MEMBERS']\n",
    "num_features = X_train[numeric_cols]\n",
    "scaler = StandardScaler().fit(num_features.values)\n",
    "X_train_scaled = X_train.copy()\n",
    "X_train_scaled[numeric_cols] = scaler.transform(num_features.values)\n",
    "test_features = X_test[numeric_cols]\n",
    "X_test_scaled = X_test.copy()\n",
    "X_test_scaled[numeric_cols] = scaler.transform(test_features.values)"
   ]
  },
  {
   "cell_type": "markdown",
   "id": "23030e7c",
   "metadata": {},
   "source": [
    "**Our dataset now looks like this:**<br>\n",
    "There are 51 variables. Is there scope for reduction?"
   ]
  },
  {
   "cell_type": "code",
   "execution_count": 164,
   "id": "99b4ed2a",
   "metadata": {},
   "outputs": [
    {
     "name": "stdout",
     "output_type": "stream",
     "text": [
      "<class 'pandas.core.frame.DataFrame'>\n",
      "Int64Index: 24832 entries, 5036557 to 5090768\n",
      "Data columns (total 52 columns):\n",
      " #   Column                         Non-Null Count  Dtype  \n",
      "---  ------                         --------------  -----  \n",
      " 0   CODE_GENDER                    24832 non-null  bool   \n",
      " 1   FLAG_OWN_CAR                   24832 non-null  bool   \n",
      " 2   FLAG_OWN_REALTY                24832 non-null  bool   \n",
      " 3   CNT_CHILDREN                   24832 non-null  float64\n",
      " 4   AMT_INCOME_TOTAL               24832 non-null  float64\n",
      " 5   DAYS_BIRTH                     24832 non-null  float64\n",
      " 6   DAYS_EMPLOYED                  24832 non-null  float64\n",
      " 7   FLAG_MOBIL                     24832 non-null  int64  \n",
      " 8   FLAG_WORK_PHONE                24832 non-null  bool   \n",
      " 9   FLAG_PHONE                     24832 non-null  bool   \n",
      " 10  FLAG_EMAIL                     24832 non-null  bool   \n",
      " 11  CNT_FAM_MEMBERS                24832 non-null  float64\n",
      " 12  Commercial associate           24832 non-null  uint8  \n",
      " 13  Pensioner                      24832 non-null  uint8  \n",
      " 14  State servant                  24832 non-null  uint8  \n",
      " 15  Student                        24832 non-null  uint8  \n",
      " 16  Working                        24832 non-null  uint8  \n",
      " 17  Academic degree                24832 non-null  uint8  \n",
      " 18  Higher education               24832 non-null  uint8  \n",
      " 19  Incomplete higher              24832 non-null  uint8  \n",
      " 20  Lower secondary                24832 non-null  uint8  \n",
      " 21  Secondary / secondary special  24832 non-null  uint8  \n",
      " 22  Civil marriage                 24832 non-null  uint8  \n",
      " 23  Married                        24832 non-null  uint8  \n",
      " 24  Separated                      24832 non-null  uint8  \n",
      " 25  Single / not married           24832 non-null  uint8  \n",
      " 26  Widow                          24832 non-null  uint8  \n",
      " 27  Co-op apartment                24832 non-null  uint8  \n",
      " 28  House / apartment              24832 non-null  uint8  \n",
      " 29  Municipal apartment            24832 non-null  uint8  \n",
      " 30  Office apartment               24832 non-null  uint8  \n",
      " 31  Rented apartment               24832 non-null  uint8  \n",
      " 32  With parents                   24832 non-null  uint8  \n",
      " 33  Accountants                    24832 non-null  uint8  \n",
      " 34  Cleaning staff                 24832 non-null  uint8  \n",
      " 35  Cooking staff                  24832 non-null  uint8  \n",
      " 36  Core staff                     24832 non-null  uint8  \n",
      " 37  Drivers                        24832 non-null  uint8  \n",
      " 38  HR staff                       24832 non-null  uint8  \n",
      " 39  High skill tech staff          24832 non-null  uint8  \n",
      " 40  IT staff                       24832 non-null  uint8  \n",
      " 41  Laborers                       24832 non-null  uint8  \n",
      " 42  Low-skill Laborers             24832 non-null  uint8  \n",
      " 43  Managers                       24832 non-null  uint8  \n",
      " 44  Medicine staff                 24832 non-null  uint8  \n",
      " 45  Private service staff          24832 non-null  uint8  \n",
      " 46  Realty agents                  24832 non-null  uint8  \n",
      " 47  Sales staff                    24832 non-null  uint8  \n",
      " 48  Secretaries                    24832 non-null  uint8  \n",
      " 49  Security staff                 24832 non-null  uint8  \n",
      " 50  Unspecified                    24832 non-null  uint8  \n",
      " 51  Waiters/barmen staff           24832 non-null  uint8  \n",
      "dtypes: bool(6), float64(5), int64(1), uint8(40)\n",
      "memory usage: 2.4 MB\n"
     ]
    }
   ],
   "source": [
    "X_train_scaled.info()"
   ]
  },
  {
   "cell_type": "markdown",
   "id": "9c038ce5",
   "metadata": {},
   "source": [
    "#### Categorical fields: remove the following low variance fields"
   ]
  },
  {
   "cell_type": "code",
   "execution_count": 383,
   "id": "6f4e4edd",
   "metadata": {},
   "outputs": [
    {
     "name": "stdout",
     "output_type": "stream",
     "text": [
      "FLAG_MOBIL               0.000000\n",
      "FLAG_WORK_PHONE          0.000000\n",
      "FLAG_PHONE               0.000000\n",
      "FLAG_EMAIL               0.000000\n",
      "Student                  0.000242\n",
      "Academic degree          0.000925\n",
      "IT staff                 0.001849\n",
      "Realty agents            0.001929\n",
      "HR staff                 0.002130\n",
      "Co-op apartment          0.003971\n",
      "Secretaries              0.004490\n",
      "Low-skill Laborers       0.004730\n",
      "Waiters/barmen staff     0.004809\n",
      "Office apartment         0.007077\n",
      "Private service staff    0.008940\n",
      "Lower secondary          0.010282\n",
      "Cleaning staff           0.015342\n",
      "Rented apartment         0.016161\n",
      "Security staff           0.016862\n",
      "Cooking staff            0.017173\n",
      "Municipal apartment      0.029859\n",
      "Medicine staff           0.032872\n",
      "Accountants              0.033022\n",
      "High skill tech staff    0.035715\n",
      "Incomplete higher        0.038428\n",
      "Widow                    0.040461\n",
      "With parents             0.046064\n",
      "dtype: float64\n"
     ]
    }
   ],
   "source": [
    "low_var = X_train_scaled.select_dtypes(exclude=['float64']).var()\n",
    "# Cut at 0.05\n",
    "X_train_scaled.drop(low_var[low_var < 0.05].index, axis=1,inplace=True)\n",
    "print(low_var[low_var < 0.05].sort_values())"
   ]
  },
  {
   "cell_type": "markdown",
   "id": "5434a8b9",
   "metadata": {},
   "source": [
    "#### Categorical fields: chi-squared test"
   ]
  },
  {
   "cell_type": "code",
   "execution_count": 384,
   "id": "deb6bdcb",
   "metadata": {},
   "outputs": [
    {
     "data": {
      "text/plain": [
       "(array([1.42019843e+01, 2.37066263e-02, 5.39174097e-01, 3.07163103e-01,\n",
       "        6.23758665e+00, 3.00009258e+00, 1.55172781e-01, 5.70499096e-01,\n",
       "        4.23939210e-02, 1.32609897e-01, 3.19106675e-04, 2.29352924e+00,\n",
       "        6.42622932e+00, 1.80099420e-01, 2.19176736e+00, 1.03414809e-01,\n",
       "        1.73496869e-03, 4.73489376e+00, 3.07077644e-01, 1.22479975e+01]),\n",
       " array([1.64197276e-04, 8.77633735e-01, 4.62775209e-01, 5.79426258e-01,\n",
       "        1.25066787e-02, 8.32597588e-02, 6.93640278e-01, 4.50060657e-01,\n",
       "        8.36870712e-01, 7.15741209e-01, 9.85747702e-01, 1.29914220e-01,\n",
       "        1.12447053e-02, 6.71287815e-01, 1.38750028e-01, 7.47769587e-01,\n",
       "        9.66775358e-01, 2.95566735e-02, 5.79479021e-01, 4.65757723e-04]))"
      ]
     },
     "execution_count": 384,
     "metadata": {},
     "output_type": "execute_result"
    }
   ],
   "source": [
    "from sklearn.feature_selection import chi2\n",
    "chi_scores = chi2(X_train_scaled.select_dtypes(exclude=['float64']),y_train)\n",
    "chi_scores"
   ]
  },
  {
   "cell_type": "code",
   "execution_count": 385,
   "id": "a7935c18",
   "metadata": {},
   "outputs": [
    {
     "data": {
      "text/plain": [
       "<AxesSubplot:>"
      ]
     },
     "execution_count": 385,
     "metadata": {},
     "output_type": "execute_result"
    },
    {
     "data": {
      "image/png": "[encoded data removed]",
      "text/plain": [
       "<Figure size 936x360 with 1 Axes>"
      ]
     },
     "metadata": {
      "needs_background": "light"
     },
     "output_type": "display_data"
    }
   ],
   "source": [
    "p_values = pd.Series(chi_scores[1],index = X_train_scaled.select_dtypes(exclude=['float64']).columns)\n",
    "p_values.sort_values(ascending = False , inplace = True)\n",
    "plt.rcParams['figure.figsize'] = [13, 5]\n",
    "p_values.plot.bar()"
   ]
  },
  {
   "cell_type": "markdown",
   "id": "4c19f4e5",
   "metadata": {},
   "source": [
    "**Drop features with high p-value**"
   ]
  },
  {
   "cell_type": "code",
   "execution_count": 386,
   "id": "724b4e6c",
   "metadata": {},
   "outputs": [
    {
     "name": "stdout",
     "output_type": "stream",
     "text": [
      "Index(['Married', 'Laborers', 'FLAG_OWN_CAR', 'Secondary / secondary special'], dtype='object')\n"
     ]
    }
   ],
   "source": [
    "X_train_scaled.drop(p_values[p_values > 0.8].index, axis=1,inplace=True)\n",
    "print(p_values[p_values > 0.8].index)"
   ]
  },
  {
   "cell_type": "markdown",
   "id": "e62e5d21",
   "metadata": {},
   "source": [
    "#### Numerical fields ANOVA"
   ]
  },
  {
   "cell_type": "code",
   "execution_count": 387,
   "id": "aa61494f",
   "metadata": {},
   "outputs": [
    {
     "data": {
      "text/plain": [
       "(array([ 1.84413917, 10.16117939, 20.14631673,  7.69330462,  1.37673928]),\n",
       " array([1.74478925e-01, 1.43606571e-03, 7.20605586e-06, 5.54674152e-03,\n",
       "        2.40668604e-01]))"
      ]
     },
     "execution_count": 387,
     "metadata": {},
     "output_type": "execute_result"
    }
   ],
   "source": [
    "from sklearn.feature_selection import f_classif\n",
    "\n",
    "f_scores = f_classif(X_train_scaled.select_dtypes(include=['float64']),y_train)\n",
    "f_scores"
   ]
  },
  {
   "cell_type": "code",
   "execution_count": 388,
   "id": "6eabd3f9",
   "metadata": {},
   "outputs": [
    {
     "data": {
      "text/plain": [
       "<AxesSubplot:>"
      ]
     },
     "execution_count": 388,
     "metadata": {},
     "output_type": "execute_result"
    },
    {
     "data": {
      "image/png": "[encoded data removed]",
      "text/plain": [
       "<Figure size 936x360 with 1 Axes>"
      ]
     },
     "metadata": {
      "needs_background": "light"
     },
     "output_type": "display_data"
    }
   ],
   "source": [
    "p_values = pd.Series(f_scores[1],index = X_train_scaled.select_dtypes(include=['float64']).columns)\n",
    "p_values.sort_values(ascending = False , inplace = True)\n",
    "p_values.plot.bar()"
   ]
  },
  {
   "cell_type": "markdown",
   "id": "1c0d53fa",
   "metadata": {},
   "source": [
    "**Drop the following features with high p-values:**"
   ]
  },
  {
   "cell_type": "code",
   "execution_count": 389,
   "id": "a0ae851d",
   "metadata": {},
   "outputs": [
    {
     "data": {
      "text/plain": [
       "Index(['CNT_FAM_MEMBERS', 'CNT_CHILDREN'], dtype='object')"
      ]
     },
     "execution_count": 389,
     "metadata": {},
     "output_type": "execute_result"
    }
   ],
   "source": [
    "X_train_scaled.drop(p_values[p_values > 0.1].index, axis=1,inplace=True)\n",
    "p_values[p_values > 0.1].index"
   ]
  },
  {
   "cell_type": "markdown",
   "id": "9fe7c897",
   "metadata": {},
   "source": [
    "#### Remaining features:"
   ]
  },
  {
   "cell_type": "code",
   "execution_count": 390,
   "id": "62723e5e",
   "metadata": {},
   "outputs": [
    {
     "name": "stdout",
     "output_type": "stream",
     "text": [
      "<class 'pandas.core.frame.DataFrame'>\n",
      "Int64Index: 24832 entries, 5036557 to 5090768\n",
      "Data columns (total 19 columns):\n",
      " #   Column                Non-Null Count  Dtype  \n",
      "---  ------                --------------  -----  \n",
      " 0   CODE_GENDER           24832 non-null  bool   \n",
      " 1   FLAG_OWN_REALTY       24832 non-null  bool   \n",
      " 2   AMT_INCOME_TOTAL      24832 non-null  float64\n",
      " 3   DAYS_BIRTH            24832 non-null  float64\n",
      " 4   DAYS_EMPLOYED         24832 non-null  float64\n",
      " 5   Commercial associate  24832 non-null  uint8  \n",
      " 6   Pensioner             24832 non-null  uint8  \n",
      " 7   State servant         24832 non-null  uint8  \n",
      " 8   Working               24832 non-null  uint8  \n",
      " 9   Higher education      24832 non-null  uint8  \n",
      " 10  Civil marriage        24832 non-null  uint8  \n",
      " 11  Separated             24832 non-null  uint8  \n",
      " 12  Single / not married  24832 non-null  uint8  \n",
      " 13  House / apartment     24832 non-null  uint8  \n",
      " 14  Core staff            24832 non-null  uint8  \n",
      " 15  Drivers               24832 non-null  uint8  \n",
      " 16  Managers              24832 non-null  uint8  \n",
      " 17  Sales staff           24832 non-null  uint8  \n",
      " 18  Unspecified           24832 non-null  uint8  \n",
      "dtypes: bool(2), float64(3), uint8(14)\n",
      "memory usage: 1.1 MB\n"
     ]
    }
   ],
   "source": [
    "X_train_scaled.info()"
   ]
  },
  {
   "cell_type": "markdown",
   "id": "144de58b",
   "metadata": {},
   "source": [
    "Apply to X_test_scaled"
   ]
  },
  {
   "cell_type": "code",
   "execution_count": 391,
   "id": "b0dfdccd",
   "metadata": {},
   "outputs": [],
   "source": [
    "X_test_scaled = X_test_scaled[X_train_scaled.columns]"
   ]
  },
  {
   "cell_type": "markdown",
   "id": "0d0848a6",
   "metadata": {},
   "source": [
    "[Back to top](#s0)"
   ]
  },
  {
   "cell_type": "markdown",
   "id": "06832e60",
   "metadata": {},
   "source": [
    "## 4. Model building<a id='s4'></a>"
   ]
  },
  {
   "cell_type": "code",
   "execution_count": 250,
   "id": "c1a3dfb0",
   "metadata": {},
   "outputs": [],
   "source": [
    "# Import metrics and grid search libraries and set up wrapper function\n",
    "from sklearn.metrics import confusion_matrix\n",
    "from sklearn.metrics import precision_score\n",
    "from sklearn.metrics import recall_score\n",
    "from sklearn.metrics import f1_score\n",
    "from sklearn.model_selection import GridSearchCV\n",
    "import copy\n",
    "results = pd.DataFrame({\"model\":[],\"precision\":[],\"recall\":[], \"f1\":[], \"f1_train\":[]})\n",
    "models = dict()\n",
    "def run_model(model, name, X, y, grid):\n",
    "    global results, models\n",
    "    model_grid = GridSearchCV(model, grid, cv=5, scoring='f1', verbose=2)\n",
    "    model_grid.fit(X,y)\n",
    "    pr = model_grid.predict(X_test_scaled)\n",
    "    result = {\"model\":name,\n",
    "          \"precision\":precision_score(y_test,pr),\n",
    "          \"recall\":recall_score(y_test,pr),\n",
    "          \"f1\":f1_score(y_test,pr),\n",
    "          \"recall\":recall_score(y_test,pr),\n",
    "          \"f1_train\":model_grid.best_score_}\n",
    "    results = results.append(result,ignore_index=True)\n",
    "    models[name] = copy.deepcopy(model_grid)\n",
    "    print(f\"Training best f1 score: {model_grid.best_score_:.2f} with parameters {model_grid.best_params_}\")\n",
    "    return"
   ]
  },
  {
   "cell_type": "markdown",
   "id": "6cf65392",
   "metadata": {},
   "source": [
    "### 4.1 Linear models"
   ]
  },
  {
   "cell_type": "markdown",
   "id": "ccefe6a3",
   "metadata": {},
   "source": [
    "#### 4.1.1 Logistic regression"
   ]
  },
  {
   "cell_type": "code",
   "execution_count": 251,
   "id": "df192f75",
   "metadata": {},
   "outputs": [
    {
     "name": "stdout",
     "output_type": "stream",
     "text": [
      "Fitting 5 folds for each of 6 candidates, totalling 30 fits\n",
      "[CV] END ..............................................C=1.0; total time=   0.1s\n",
      "[CV] END ..............................................C=1.0; total time=   0.1s\n",
      "[CV] END ..............................................C=1.0; total time=   0.1s\n",
      "[CV] END ..............................................C=1.0; total time=   0.1s\n",
      "[CV] END ..............................................C=1.0; total time=   0.1s\n",
      "[CV] END ..............................................C=0.1; total time=   0.1s\n",
      "[CV] END ..............................................C=0.1; total time=   0.1s\n",
      "[CV] END ..............................................C=0.1; total time=   0.0s\n",
      "[CV] END ..............................................C=0.1; total time=   0.1s\n",
      "[CV] END ..............................................C=0.1; total time=   0.0s\n",
      "[CV] END .............................................C=0.01; total time=   0.0s\n",
      "[CV] END .............................................C=0.01; total time=   0.0s\n",
      "[CV] END .............................................C=0.01; total time=   0.0s\n",
      "[CV] END .............................................C=0.01; total time=   0.0s\n",
      "[CV] END .............................................C=0.01; total time=   0.1s\n",
      "[CV] END ............................................C=0.001; total time=   0.0s\n",
      "[CV] END ............................................C=0.001; total time=   0.0s\n",
      "[CV] END ............................................C=0.001; total time=   0.0s\n",
      "[CV] END ............................................C=0.001; total time=   0.0s\n",
      "[CV] END ............................................C=0.001; total time=   0.0s\n",
      "[CV] END ...........................................C=0.0001; total time=   0.0s\n",
      "[CV] END ...........................................C=0.0001; total time=   0.0s\n",
      "[CV] END ...........................................C=0.0001; total time=   0.0s\n",
      "[CV] END ...........................................C=0.0001; total time=   0.0s\n",
      "[CV] END ...........................................C=0.0001; total time=   0.0s\n",
      "[CV] END ............................................C=1e-05; total time=   0.0s\n",
      "[CV] END ............................................C=1e-05; total time=   0.0s\n",
      "[CV] END ............................................C=1e-05; total time=   0.0s\n",
      "[CV] END ............................................C=1e-05; total time=   0.0s\n",
      "[CV] END ............................................C=1e-05; total time=   0.0s\n",
      "Training best f1 score: 0.13 with parameters {'C': 0.001}\n"
     ]
    }
   ],
   "source": [
    "from sklearn.linear_model import LogisticRegression\n",
    "# C = inverse strength of regularisation\n",
    "# class_weight='balanced' to weight minority class\n",
    "grid = dict(C=[1.0,0.1,0.01,0.001,0.0001,0.00001])\n",
    "run_model(LogisticRegression(max_iter=1000, class_weight='balanced'), \n",
    "          \"Logistic\", X_train_scaled, y_train, grid)"
   ]
  },
  {
   "cell_type": "markdown",
   "id": "d9658310",
   "metadata": {},
   "source": [
    "#### 4.1.2 Naive Bayes"
   ]
  },
  {
   "cell_type": "code",
   "execution_count": 252,
   "id": "641228f3",
   "metadata": {},
   "outputs": [
    {
     "name": "stdout",
     "output_type": "stream",
     "text": [
      "Fitting 5 folds for each of 3 candidates, totalling 15 fits\n",
      "[CV] END ................................var_smoothing=1e-06; total time=   0.0s\n",
      "[CV] END ................................var_smoothing=1e-06; total time=   0.0s\n",
      "[CV] END ................................var_smoothing=1e-06; total time=   0.0s\n",
      "[CV] END ................................var_smoothing=1e-06; total time=   0.0s\n",
      "[CV] END ................................var_smoothing=1e-06; total time=   0.0s\n",
      "[CV] END ................................var_smoothing=0.001; total time=   0.0s\n",
      "[CV] END ................................var_smoothing=0.001; total time=   0.0s\n",
      "[CV] END ................................var_smoothing=0.001; total time=   0.0s\n",
      "[CV] END ................................var_smoothing=0.001; total time=   0.0s\n",
      "[CV] END ................................var_smoothing=0.001; total time=   0.0s\n",
      "[CV] END ..................................var_smoothing=0.1; total time=   0.0s\n",
      "[CV] END ..................................var_smoothing=0.1; total time=   0.0s\n",
      "[CV] END ..................................var_smoothing=0.1; total time=   0.0s\n",
      "[CV] END ..................................var_smoothing=0.1; total time=   0.0s\n",
      "[CV] END ..................................var_smoothing=0.1; total time=   0.0s\n",
      "Training best f1 score: 0.01 with parameters {'var_smoothing': 0.001}\n"
     ]
    }
   ],
   "source": [
    "from sklearn.naive_bayes import GaussianNB\n",
    "# var_smoothing adds portion of largest variance for calculation stability\n",
    "grid = dict(var_smoothing=[1e-6,0.001,0.1])\n",
    "run_model(GaussianNB(), \n",
    "          \"Naive_Bayes\", X_train_scaled, y_train, grid)"
   ]
  },
  {
   "cell_type": "markdown",
   "id": "a0c0028a",
   "metadata": {},
   "source": [
    "### 4.2 Non-linear models"
   ]
  },
  {
   "cell_type": "markdown",
   "id": "2b1f0d75",
   "metadata": {},
   "source": [
    "#### 4.2.1 SVM"
   ]
  },
  {
   "cell_type": "code",
   "execution_count": 255,
   "id": "f5a3ce85",
   "metadata": {},
   "outputs": [
    {
     "name": "stdout",
     "output_type": "stream",
     "text": [
      "Fitting 5 folds for each of 9 candidates, totalling 45 fits\n",
      "[CV] END ...................................C=1.0, gamma=1.0; total time=  34.2s\n",
      "[CV] END ...................................C=1.0, gamma=1.0; total time=  33.8s\n",
      "[CV] END ...................................C=1.0, gamma=1.0; total time=  33.1s\n",
      "[CV] END ...................................C=1.0, gamma=1.0; total time=  29.4s\n",
      "[CV] END ...................................C=1.0, gamma=1.0; total time=  30.2s\n",
      "[CV] END ....................................C=1.0, gamma=10; total time=  45.9s\n",
      "[CV] END ....................................C=1.0, gamma=10; total time=  45.6s\n",
      "[CV] END ....................................C=1.0, gamma=10; total time=  46.8s\n",
      "[CV] END ....................................C=1.0, gamma=10; total time=  40.2s\n",
      "[CV] END ....................................C=1.0, gamma=10; total time=  46.7s\n",
      "[CV] END ....................................C=1.0, gamma=50; total time=  45.7s\n",
      "[CV] END ....................................C=1.0, gamma=50; total time=  45.6s\n",
      "[CV] END ....................................C=1.0, gamma=50; total time=  42.7s\n",
      "[CV] END ....................................C=1.0, gamma=50; total time=  44.7s\n",
      "[CV] END ....................................C=1.0, gamma=50; total time=  42.4s\n",
      "[CV] END ...................................C=0.1, gamma=1.0; total time=  35.4s\n",
      "[CV] END ...................................C=0.1, gamma=1.0; total time=  35.0s\n",
      "[CV] END ...................................C=0.1, gamma=1.0; total time=  35.0s\n",
      "[CV] END ...................................C=0.1, gamma=1.0; total time=  35.0s\n",
      "[CV] END ...................................C=0.1, gamma=1.0; total time=  35.3s\n",
      "[CV] END ....................................C=0.1, gamma=10; total time=  35.4s\n",
      "[CV] END ....................................C=0.1, gamma=10; total time=  35.8s\n",
      "[CV] END ....................................C=0.1, gamma=10; total time=  35.5s\n",
      "[CV] END ....................................C=0.1, gamma=10; total time=  35.6s\n",
      "[CV] END ....................................C=0.1, gamma=10; total time=  35.9s\n",
      "[CV] END ....................................C=0.1, gamma=50; total time= 1.8min\n",
      "[CV] END ....................................C=0.1, gamma=50; total time=  36.0s\n",
      "[CV] END ....................................C=0.1, gamma=50; total time=  35.2s\n",
      "[CV] END ....................................C=0.1, gamma=50; total time=  36.5s\n",
      "[CV] END ....................................C=0.1, gamma=50; total time=  35.6s\n",
      "[CV] END ..................................C=0.01, gamma=1.0; total time=  36.9s\n",
      "[CV] END ..................................C=0.01, gamma=1.0; total time=  36.8s\n",
      "[CV] END ..................................C=0.01, gamma=1.0; total time=  36.8s\n",
      "[CV] END ..................................C=0.01, gamma=1.0; total time=  36.9s\n",
      "[CV] END ..................................C=0.01, gamma=1.0; total time=  37.2s\n",
      "[CV] END ...................................C=0.01, gamma=10; total time=  37.2s\n",
      "[CV] END ...................................C=0.01, gamma=10; total time=  37.1s\n",
      "[CV] END ...................................C=0.01, gamma=10; total time=  37.1s\n",
      "[CV] END ...................................C=0.01, gamma=10; total time=  37.3s\n",
      "[CV] END ...................................C=0.01, gamma=10; total time=  37.3s\n",
      "[CV] END ...................................C=0.01, gamma=50; total time=  37.6s\n",
      "[CV] END ...................................C=0.01, gamma=50; total time=  37.6s\n",
      "[CV] END ...................................C=0.01, gamma=50; total time=  37.7s\n",
      "[CV] END ...................................C=0.01, gamma=50; total time=  37.5s\n",
      "[CV] END ...................................C=0.01, gamma=50; total time=  39.2s\n",
      "Training best f1 score: 0.32 with parameters {'C': 0.1, 'gamma': 50}\n"
     ]
    }
   ],
   "source": [
    "from sklearn.svm import SVC\n",
    "# C = inverse strength of regularisation\n",
    "# gamma = inverse radial scope of the model\n",
    "# class_weight='balanced' to weight minority class\n",
    "grid = dict(C=[1.0,0.1,0.01], gamma=[1.0,10,50])\n",
    "run_model(SVC(class_weight='balanced'), \n",
    "          \"SVM\", X_train_scaled, y_train, grid)"
   ]
  },
  {
   "cell_type": "markdown",
   "id": "6634b0cf",
   "metadata": {},
   "source": [
    "#### 4.2.2 Knn"
   ]
  },
  {
   "cell_type": "code",
   "execution_count": 256,
   "id": "33f3066e",
   "metadata": {},
   "outputs": [
    {
     "name": "stdout",
     "output_type": "stream",
     "text": [
      "Fitting 5 folds for each of 4 candidates, totalling 20 fits\n",
      "[CV] END ......................................n_neighbors=1; total time=   1.0s\n",
      "[CV] END ......................................n_neighbors=1; total time=   0.8s\n",
      "[CV] END ......................................n_neighbors=1; total time=   0.8s\n",
      "[CV] END ......................................n_neighbors=1; total time=   0.8s\n",
      "[CV] END ......................................n_neighbors=1; total time=   0.8s\n",
      "[CV] END ......................................n_neighbors=2; total time=   1.0s\n",
      "[CV] END ......................................n_neighbors=2; total time=   1.0s\n",
      "[CV] END ......................................n_neighbors=2; total time=   1.0s\n",
      "[CV] END ......................................n_neighbors=2; total time=   1.0s\n",
      "[CV] END ......................................n_neighbors=2; total time=   1.0s\n",
      "[CV] END ......................................n_neighbors=3; total time=   1.1s\n",
      "[CV] END ......................................n_neighbors=3; total time=   1.1s\n",
      "[CV] END ......................................n_neighbors=3; total time=   1.2s\n",
      "[CV] END ......................................n_neighbors=3; total time=   1.2s\n",
      "[CV] END ......................................n_neighbors=3; total time=   1.3s\n",
      "[CV] END ......................................n_neighbors=4; total time=   1.6s\n",
      "[CV] END ......................................n_neighbors=4; total time=   1.5s\n",
      "[CV] END ......................................n_neighbors=4; total time=   1.6s\n",
      "[CV] END ......................................n_neighbors=4; total time=14.3min\n",
      "[CV] END ......................................n_neighbors=4; total time=   1.9s\n",
      "Training best f1 score: 0.31 with parameters {'n_neighbors': 1}\n"
     ]
    }
   ],
   "source": [
    "from sklearn.neighbors import KNeighborsClassifier\n",
    "# Nearest neighbours 1-5\n",
    "# Distance weighting reportedly better for imbalanced classes\n",
    "grid = dict(n_neighbors=list(range(1,5)))\n",
    "run_model(KNeighborsClassifier(weights='distance'), \n",
    "          \"Knn\", X_train_scaled, y_train, grid)"
   ]
  },
  {
   "cell_type": "markdown",
   "id": "1b2bf224",
   "metadata": {},
   "source": [
    "### 4.3 Ensemble models"
   ]
  },
  {
   "cell_type": "markdown",
   "id": "4dc9bf34",
   "metadata": {},
   "source": [
    "#### 4.3.1 Random Forests"
   ]
  },
  {
   "cell_type": "code",
   "execution_count": 257,
   "id": "5369db25",
   "metadata": {},
   "outputs": [
    {
     "name": "stdout",
     "output_type": "stream",
     "text": [
      "Fitting 5 folds for each of 126 candidates, totalling 630 fits\n",
      "[CV] END ......................max_depth=50, n_estimators=30; total time=   0.4s\n",
      "[CV] END ......................max_depth=50, n_estimators=30; total time=   0.4s\n",
      "[CV] END ......................max_depth=50, n_estimators=30; total time=   0.4s\n",
      "[CV] END ......................max_depth=50, n_estimators=30; total time=   0.4s\n",
      "[CV] END ......................max_depth=50, n_estimators=30; total time=   0.4s\n",
      "[CV] END ......................max_depth=50, n_estimators=40; total time=   0.5s\n",
      "[CV] END ......................max_depth=50, n_estimators=40; total time=   0.5s\n",
      "[CV] END ......................max_depth=50, n_estimators=40; total time=   0.5s\n",
      "[CV] END ......................max_depth=50, n_estimators=40; total time=   0.5s\n",
      "[CV] END ......................max_depth=50, n_estimators=40; total time=   0.5s\n",
      "[CV] END ......................max_depth=50, n_estimators=50; total time=   0.6s\n",
      "[CV] END ......................max_depth=50, n_estimators=50; total time=   0.6s\n",
      "[CV] END ......................max_depth=50, n_estimators=50; total time=   0.6s\n",
      "[CV] END ......................max_depth=50, n_estimators=50; total time=   0.6s\n",
      "[CV] END ......................max_depth=50, n_estimators=50; total time=   0.6s\n",
      "[CV] END ......................max_depth=50, n_estimators=60; total time=   0.7s\n",
      "[CV] END ......................max_depth=50, n_estimators=60; total time=   0.7s\n",
      "[CV] END ......................max_depth=50, n_estimators=60; total time=   0.7s\n",
      "[CV] END ......................max_depth=50, n_estimators=60; total time=   0.7s\n",
      "[CV] END ......................max_depth=50, n_estimators=60; total time=   0.7s\n",
      "[CV] END ......................max_depth=50, n_estimators=70; total time=   0.9s\n",
      "[CV] END ......................max_depth=50, n_estimators=70; total time=   0.8s\n",
      "[CV] END ......................max_depth=50, n_estimators=70; total time=   0.8s\n",
      "[CV] END ......................max_depth=50, n_estimators=70; total time=   0.9s\n",
      "[CV] END ......................max_depth=50, n_estimators=70; total time=   0.8s\n",
      "[CV] END ......................max_depth=50, n_estimators=80; total time=   1.0s\n",
      "[CV] END ......................max_depth=50, n_estimators=80; total time=   1.0s\n",
      "[CV] END ......................max_depth=50, n_estimators=80; total time=   1.0s\n",
      "[CV] END ......................max_depth=50, n_estimators=80; total time=   1.0s\n",
      "[CV] END ......................max_depth=50, n_estimators=80; total time=   1.0s\n",
      "[CV] END ......................max_depth=50, n_estimators=90; total time=   1.1s\n",
      "[CV] END ......................max_depth=50, n_estimators=90; total time=   1.1s\n",
      "[CV] END ......................max_depth=50, n_estimators=90; total time=   1.1s\n",
      "[CV] END ......................max_depth=50, n_estimators=90; total time=   1.1s\n",
      "[CV] END ......................max_depth=50, n_estimators=90; total time=   1.1s\n",
      "[CV] END .....................max_depth=50, n_estimators=100; total time=   1.2s\n",
      "[CV] END .....................max_depth=50, n_estimators=100; total time=   1.2s\n",
      "[CV] END .....................max_depth=50, n_estimators=100; total time=   1.2s\n",
      "[CV] END .....................max_depth=50, n_estimators=100; total time=   1.2s\n",
      "[CV] END .....................max_depth=50, n_estimators=100; total time=   1.2s\n",
      "[CV] END .....................max_depth=50, n_estimators=110; total time=   1.3s\n",
      "[CV] END .....................max_depth=50, n_estimators=110; total time=   1.3s\n",
      "[CV] END .....................max_depth=50, n_estimators=110; total time=   1.3s\n",
      "[CV] END .....................max_depth=50, n_estimators=110; total time=   1.3s\n",
      "[CV] END .....................max_depth=50, n_estimators=110; total time=   1.3s\n",
      "[CV] END .....................max_depth=50, n_estimators=120; total time=   1.4s\n",
      "[CV] END .....................max_depth=50, n_estimators=120; total time=   1.4s\n",
      "[CV] END .....................max_depth=50, n_estimators=120; total time=   1.4s\n",
      "[CV] END .....................max_depth=50, n_estimators=120; total time=   1.4s\n",
      "[CV] END .....................max_depth=50, n_estimators=120; total time=   1.4s\n",
      "[CV] END .....................max_depth=50, n_estimators=130; total time=   1.6s\n",
      "[CV] END .....................max_depth=50, n_estimators=130; total time=   1.6s\n",
      "[CV] END .....................max_depth=50, n_estimators=130; total time=   1.6s\n",
      "[CV] END .....................max_depth=50, n_estimators=130; total time=   1.6s\n",
      "[CV] END .....................max_depth=50, n_estimators=130; total time=   1.6s\n",
      "[CV] END .....................max_depth=50, n_estimators=140; total time=   1.7s\n",
      "[CV] END .....................max_depth=50, n_estimators=140; total time=   1.7s\n",
      "[CV] END .....................max_depth=50, n_estimators=140; total time=   1.7s\n",
      "[CV] END .....................max_depth=50, n_estimators=140; total time=   1.7s\n",
      "[CV] END .....................max_depth=50, n_estimators=140; total time=   1.7s\n",
      "[CV] END .....................max_depth=50, n_estimators=150; total time=   1.8s\n",
      "[CV] END .....................max_depth=50, n_estimators=150; total time=   1.8s\n",
      "[CV] END .....................max_depth=50, n_estimators=150; total time=   1.8s\n",
      "[CV] END .....................max_depth=50, n_estimators=150; total time=   1.8s\n",
      "[CV] END .....................max_depth=50, n_estimators=150; total time=   1.8s\n",
      "[CV] END .....................max_depth=50, n_estimators=160; total time=   1.9s\n",
      "[CV] END .....................max_depth=50, n_estimators=160; total time=   1.9s\n",
      "[CV] END .....................max_depth=50, n_estimators=160; total time=   1.9s\n",
      "[CV] END .....................max_depth=50, n_estimators=160; total time=   1.9s\n",
      "[CV] END .....................max_depth=50, n_estimators=160; total time=   1.9s\n",
      "[CV] END .....................max_depth=50, n_estimators=170; total time=   2.0s\n",
      "[CV] END .....................max_depth=50, n_estimators=170; total time=   2.0s\n",
      "[CV] END .....................max_depth=50, n_estimators=170; total time=   2.1s\n",
      "[CV] END .....................max_depth=50, n_estimators=170; total time=   2.1s\n",
      "[CV] END .....................max_depth=50, n_estimators=170; total time=   2.1s\n",
      "[CV] END .....................max_depth=50, n_estimators=180; total time=   2.2s\n",
      "[CV] END .....................max_depth=50, n_estimators=180; total time=   2.2s\n",
      "[CV] END .....................max_depth=50, n_estimators=180; total time=   2.2s\n",
      "[CV] END .....................max_depth=50, n_estimators=180; total time=   2.2s\n",
      "[CV] END .....................max_depth=50, n_estimators=180; total time=   2.2s\n",
      "[CV] END .....................max_depth=50, n_estimators=190; total time=   2.3s\n",
      "[CV] END .....................max_depth=50, n_estimators=190; total time=   2.3s\n",
      "[CV] END .....................max_depth=50, n_estimators=190; total time=   2.3s\n",
      "[CV] END .....................max_depth=50, n_estimators=190; total time=   2.3s\n",
      "[CV] END .....................max_depth=50, n_estimators=190; total time=   2.3s\n",
      "[CV] END .....................max_depth=50, n_estimators=200; total time=   2.4s\n",
      "[CV] END .....................max_depth=50, n_estimators=200; total time=   2.4s\n",
      "[CV] END .....................max_depth=50, n_estimators=200; total time=   2.4s\n",
      "[CV] END .....................max_depth=50, n_estimators=200; total time=   2.4s\n",
      "[CV] END .....................max_depth=50, n_estimators=200; total time=   2.4s\n",
      "[CV] END ......................max_depth=60, n_estimators=30; total time=   0.4s\n",
      "[CV] END ......................max_depth=60, n_estimators=30; total time=   0.4s\n",
      "[CV] END ......................max_depth=60, n_estimators=30; total time=   0.4s\n",
      "[CV] END ......................max_depth=60, n_estimators=30; total time=   0.4s\n",
      "[CV] END ......................max_depth=60, n_estimators=30; total time=   0.4s\n",
      "[CV] END ......................max_depth=60, n_estimators=40; total time=   0.5s\n",
      "[CV] END ......................max_depth=60, n_estimators=40; total time=   0.5s\n",
      "[CV] END ......................max_depth=60, n_estimators=40; total time=   0.5s\n",
      "[CV] END ......................max_depth=60, n_estimators=40; total time=   0.5s\n",
      "[CV] END ......................max_depth=60, n_estimators=40; total time=   0.5s\n",
      "[CV] END ......................max_depth=60, n_estimators=50; total time=   0.6s\n"
     ]
    },
    {
     "name": "stdout",
     "output_type": "stream",
     "text": [
      "[CV] END ......................max_depth=60, n_estimators=50; total time=   0.6s\n",
      "[CV] END ......................max_depth=60, n_estimators=50; total time=   0.6s\n",
      "[CV] END ......................max_depth=60, n_estimators=50; total time=   0.6s\n",
      "[CV] END ......................max_depth=60, n_estimators=50; total time=   0.6s\n",
      "[CV] END ......................max_depth=60, n_estimators=60; total time=   0.7s\n",
      "[CV] END ......................max_depth=60, n_estimators=60; total time=   0.7s\n",
      "[CV] END ......................max_depth=60, n_estimators=60; total time=   0.7s\n",
      "[CV] END ......................max_depth=60, n_estimators=60; total time=   0.7s\n",
      "[CV] END ......................max_depth=60, n_estimators=60; total time=   0.7s\n",
      "[CV] END ......................max_depth=60, n_estimators=70; total time=   0.9s\n",
      "[CV] END ......................max_depth=60, n_estimators=70; total time=   0.9s\n",
      "[CV] END ......................max_depth=60, n_estimators=70; total time=   0.9s\n",
      "[CV] END ......................max_depth=60, n_estimators=70; total time=   0.9s\n",
      "[CV] END ......................max_depth=60, n_estimators=70; total time=   0.8s\n",
      "[CV] END ......................max_depth=60, n_estimators=80; total time=   1.0s\n",
      "[CV] END ......................max_depth=60, n_estimators=80; total time=   1.0s\n",
      "[CV] END ......................max_depth=60, n_estimators=80; total time=   1.0s\n",
      "[CV] END ......................max_depth=60, n_estimators=80; total time=   1.0s\n",
      "[CV] END ......................max_depth=60, n_estimators=80; total time=   1.0s\n",
      "[CV] END ......................max_depth=60, n_estimators=90; total time=   1.1s\n",
      "[CV] END ......................max_depth=60, n_estimators=90; total time=   1.1s\n",
      "[CV] END ......................max_depth=60, n_estimators=90; total time=   1.1s\n",
      "[CV] END ......................max_depth=60, n_estimators=90; total time=   1.1s\n",
      "[CV] END ......................max_depth=60, n_estimators=90; total time=   1.1s\n",
      "[CV] END .....................max_depth=60, n_estimators=100; total time=   1.2s\n",
      "[CV] END .....................max_depth=60, n_estimators=100; total time=   1.2s\n",
      "[CV] END .....................max_depth=60, n_estimators=100; total time=   1.2s\n",
      "[CV] END .....................max_depth=60, n_estimators=100; total time=   1.2s\n",
      "[CV] END .....................max_depth=60, n_estimators=100; total time=   1.2s\n",
      "[CV] END .....................max_depth=60, n_estimators=110; total time=   1.3s\n",
      "[CV] END .....................max_depth=60, n_estimators=110; total time=   1.3s\n",
      "[CV] END .....................max_depth=60, n_estimators=110; total time=   1.3s\n",
      "[CV] END .....................max_depth=60, n_estimators=110; total time=   1.3s\n",
      "[CV] END .....................max_depth=60, n_estimators=110; total time=   1.3s\n",
      "[CV] END .....................max_depth=60, n_estimators=120; total time=   1.4s\n",
      "[CV] END .....................max_depth=60, n_estimators=120; total time=   1.4s\n",
      "[CV] END .....................max_depth=60, n_estimators=120; total time=   1.5s\n",
      "[CV] END .....................max_depth=60, n_estimators=120; total time=   1.5s\n",
      "[CV] END .....................max_depth=60, n_estimators=120; total time=   1.4s\n",
      "[CV] END .....................max_depth=60, n_estimators=130; total time=   1.6s\n",
      "[CV] END .....................max_depth=60, n_estimators=130; total time=   1.6s\n",
      "[CV] END .....................max_depth=60, n_estimators=130; total time=   1.6s\n",
      "[CV] END .....................max_depth=60, n_estimators=130; total time=   1.6s\n",
      "[CV] END .....................max_depth=60, n_estimators=130; total time=   1.5s\n",
      "[CV] END .....................max_depth=60, n_estimators=140; total time=   1.7s\n",
      "[CV] END .....................max_depth=60, n_estimators=140; total time=   1.7s\n",
      "[CV] END .....................max_depth=60, n_estimators=140; total time=   1.7s\n",
      "[CV] END .....................max_depth=60, n_estimators=140; total time=   1.7s\n",
      "[CV] END .....................max_depth=60, n_estimators=140; total time=   1.7s\n",
      "[CV] END .....................max_depth=60, n_estimators=150; total time=   1.8s\n",
      "[CV] END .....................max_depth=60, n_estimators=150; total time=   1.8s\n",
      "[CV] END .....................max_depth=60, n_estimators=150; total time=   1.8s\n",
      "[CV] END .....................max_depth=60, n_estimators=150; total time=   1.8s\n",
      "[CV] END .....................max_depth=60, n_estimators=150; total time=   1.8s\n",
      "[CV] END .....................max_depth=60, n_estimators=160; total time=   1.9s\n",
      "[CV] END .....................max_depth=60, n_estimators=160; total time=   2.0s\n",
      "[CV] END .....................max_depth=60, n_estimators=160; total time=   1.9s\n",
      "[CV] END .....................max_depth=60, n_estimators=160; total time=   2.0s\n",
      "[CV] END .....................max_depth=60, n_estimators=160; total time=   1.9s\n",
      "[CV] END .....................max_depth=60, n_estimators=170; total time=   2.0s\n",
      "[CV] END .....................max_depth=60, n_estimators=170; total time=   2.1s\n",
      "[CV] END .....................max_depth=60, n_estimators=170; total time=   2.0s\n",
      "[CV] END .....................max_depth=60, n_estimators=170; total time=   2.1s\n",
      "[CV] END .....................max_depth=60, n_estimators=170; total time=   2.1s\n",
      "[CV] END .....................max_depth=60, n_estimators=180; total time=   2.2s\n",
      "[CV] END .....................max_depth=60, n_estimators=180; total time=   2.2s\n",
      "[CV] END .....................max_depth=60, n_estimators=180; total time=   2.2s\n",
      "[CV] END .....................max_depth=60, n_estimators=180; total time=   2.2s\n",
      "[CV] END .....................max_depth=60, n_estimators=180; total time=   2.2s\n",
      "[CV] END .....................max_depth=60, n_estimators=190; total time=   2.3s\n",
      "[CV] END .....................max_depth=60, n_estimators=190; total time=   2.3s\n",
      "[CV] END .....................max_depth=60, n_estimators=190; total time=   2.2s\n",
      "[CV] END .....................max_depth=60, n_estimators=190; total time=   2.3s\n",
      "[CV] END .....................max_depth=60, n_estimators=190; total time=   2.3s\n",
      "[CV] END .....................max_depth=60, n_estimators=200; total time=   2.4s\n",
      "[CV] END .....................max_depth=60, n_estimators=200; total time=   2.4s\n",
      "[CV] END .....................max_depth=60, n_estimators=200; total time=   2.4s\n",
      "[CV] END .....................max_depth=60, n_estimators=200; total time=   2.4s\n",
      "[CV] END .....................max_depth=60, n_estimators=200; total time=   2.4s\n",
      "[CV] END ......................max_depth=70, n_estimators=30; total time=   0.4s\n",
      "[CV] END ......................max_depth=70, n_estimators=30; total time=   0.4s\n",
      "[CV] END ......................max_depth=70, n_estimators=30; total time=   0.4s\n",
      "[CV] END ......................max_depth=70, n_estimators=30; total time=   0.4s\n",
      "[CV] END ......................max_depth=70, n_estimators=30; total time=   0.4s\n",
      "[CV] END ......................max_depth=70, n_estimators=40; total time=   0.5s\n",
      "[CV] END ......................max_depth=70, n_estimators=40; total time=   0.5s\n",
      "[CV] END ......................max_depth=70, n_estimators=40; total time=   0.5s\n",
      "[CV] END ......................max_depth=70, n_estimators=40; total time=   0.5s\n",
      "[CV] END ......................max_depth=70, n_estimators=40; total time=   0.5s\n",
      "[CV] END ......................max_depth=70, n_estimators=50; total time=   0.6s\n",
      "[CV] END ......................max_depth=70, n_estimators=50; total time=   0.6s\n",
      "[CV] END ......................max_depth=70, n_estimators=50; total time=   0.6s\n",
      "[CV] END ......................max_depth=70, n_estimators=50; total time=   0.6s\n",
      "[CV] END ......................max_depth=70, n_estimators=50; total time=   0.6s\n",
      "[CV] END ......................max_depth=70, n_estimators=60; total time=   0.7s\n",
      "[CV] END ......................max_depth=70, n_estimators=60; total time=   0.7s\n",
      "[CV] END ......................max_depth=70, n_estimators=60; total time=   0.7s\n",
      "[CV] END ......................max_depth=70, n_estimators=60; total time=   0.7s\n",
      "[CV] END ......................max_depth=70, n_estimators=60; total time=   0.7s\n",
      "[CV] END ......................max_depth=70, n_estimators=70; total time=   0.9s\n",
      "[CV] END ......................max_depth=70, n_estimators=70; total time=   0.9s\n",
      "[CV] END ......................max_depth=70, n_estimators=70; total time=   0.9s\n"
     ]
    },
    {
     "name": "stdout",
     "output_type": "stream",
     "text": [
      "[CV] END ......................max_depth=70, n_estimators=70; total time=   0.9s\n",
      "[CV] END ......................max_depth=70, n_estimators=70; total time=   0.8s\n",
      "[CV] END ......................max_depth=70, n_estimators=80; total time=   1.0s\n",
      "[CV] END ......................max_depth=70, n_estimators=80; total time=   1.0s\n",
      "[CV] END ......................max_depth=70, n_estimators=80; total time=   1.0s\n",
      "[CV] END ......................max_depth=70, n_estimators=80; total time=   1.0s\n",
      "[CV] END ......................max_depth=70, n_estimators=80; total time=   1.0s\n",
      "[CV] END ......................max_depth=70, n_estimators=90; total time=   1.1s\n",
      "[CV] END ......................max_depth=70, n_estimators=90; total time=   1.1s\n",
      "[CV] END ......................max_depth=70, n_estimators=90; total time=   1.1s\n",
      "[CV] END ......................max_depth=70, n_estimators=90; total time=   1.1s\n",
      "[CV] END ......................max_depth=70, n_estimators=90; total time=   1.1s\n",
      "[CV] END .....................max_depth=70, n_estimators=100; total time=   1.2s\n",
      "[CV] END .....................max_depth=70, n_estimators=100; total time=   1.2s\n",
      "[CV] END .....................max_depth=70, n_estimators=100; total time=   1.2s\n",
      "[CV] END .....................max_depth=70, n_estimators=100; total time=   1.2s\n",
      "[CV] END .....................max_depth=70, n_estimators=100; total time=   1.2s\n",
      "[CV] END .....................max_depth=70, n_estimators=110; total time=   1.3s\n",
      "[CV] END .....................max_depth=70, n_estimators=110; total time=   1.3s\n",
      "[CV] END .....................max_depth=70, n_estimators=110; total time=   1.4s\n",
      "[CV] END .....................max_depth=70, n_estimators=110; total time=   1.4s\n",
      "[CV] END .....................max_depth=70, n_estimators=110; total time=   1.3s\n",
      "[CV] END .....................max_depth=70, n_estimators=120; total time=   1.5s\n",
      "[CV] END .....................max_depth=70, n_estimators=120; total time=   1.5s\n",
      "[CV] END .....................max_depth=70, n_estimators=120; total time=   1.5s\n",
      "[CV] END .....................max_depth=70, n_estimators=120; total time=   1.5s\n",
      "[CV] END .....................max_depth=70, n_estimators=120; total time=   1.5s\n",
      "[CV] END .....................max_depth=70, n_estimators=130; total time=   1.6s\n",
      "[CV] END .....................max_depth=70, n_estimators=130; total time=   1.6s\n",
      "[CV] END .....................max_depth=70, n_estimators=130; total time=   1.6s\n",
      "[CV] END .....................max_depth=70, n_estimators=130; total time=   1.6s\n",
      "[CV] END .....................max_depth=70, n_estimators=130; total time=   1.6s\n",
      "[CV] END .....................max_depth=70, n_estimators=140; total time=   1.7s\n",
      "[CV] END .....................max_depth=70, n_estimators=140; total time=   1.7s\n",
      "[CV] END .....................max_depth=70, n_estimators=140; total time=   1.7s\n",
      "[CV] END .....................max_depth=70, n_estimators=140; total time=   1.7s\n",
      "[CV] END .....................max_depth=70, n_estimators=140; total time=   1.7s\n",
      "[CV] END .....................max_depth=70, n_estimators=150; total time=   1.8s\n",
      "[CV] END .....................max_depth=70, n_estimators=150; total time=   1.8s\n",
      "[CV] END .....................max_depth=70, n_estimators=150; total time=   1.8s\n",
      "[CV] END .....................max_depth=70, n_estimators=150; total time=   1.9s\n",
      "[CV] END .....................max_depth=70, n_estimators=150; total time=   1.8s\n",
      "[CV] END .....................max_depth=70, n_estimators=160; total time=   1.9s\n",
      "[CV] END .....................max_depth=70, n_estimators=160; total time=   1.9s\n",
      "[CV] END .....................max_depth=70, n_estimators=160; total time=   1.9s\n",
      "[CV] END .....................max_depth=70, n_estimators=160; total time=   2.0s\n",
      "[CV] END .....................max_depth=70, n_estimators=160; total time=   1.9s\n",
      "[CV] END .....................max_depth=70, n_estimators=170; total time=   2.1s\n",
      "[CV] END .....................max_depth=70, n_estimators=170; total time=   2.1s\n",
      "[CV] END .....................max_depth=70, n_estimators=170; total time=   2.1s\n",
      "[CV] END .....................max_depth=70, n_estimators=170; total time=   2.1s\n",
      "[CV] END .....................max_depth=70, n_estimators=170; total time=   2.1s\n",
      "[CV] END .....................max_depth=70, n_estimators=180; total time=   2.2s\n",
      "[CV] END .....................max_depth=70, n_estimators=180; total time=   2.2s\n",
      "[CV] END .....................max_depth=70, n_estimators=180; total time=   2.2s\n",
      "[CV] END .....................max_depth=70, n_estimators=180; total time=   2.2s\n",
      "[CV] END .....................max_depth=70, n_estimators=180; total time=   2.2s\n",
      "[CV] END .....................max_depth=70, n_estimators=190; total time=   2.3s\n",
      "[CV] END .....................max_depth=70, n_estimators=190; total time=   2.3s\n",
      "[CV] END .....................max_depth=70, n_estimators=190; total time=   2.3s\n",
      "[CV] END .....................max_depth=70, n_estimators=190; total time=   2.3s\n",
      "[CV] END .....................max_depth=70, n_estimators=190; total time=   2.3s\n",
      "[CV] END .....................max_depth=70, n_estimators=200; total time=   2.4s\n",
      "[CV] END .....................max_depth=70, n_estimators=200; total time=   2.4s\n",
      "[CV] END .....................max_depth=70, n_estimators=200; total time=   2.4s\n",
      "[CV] END .....................max_depth=70, n_estimators=200; total time=   2.4s\n",
      "[CV] END .....................max_depth=70, n_estimators=200; total time=   2.4s\n",
      "[CV] END ......................max_depth=80, n_estimators=30; total time=   0.4s\n",
      "[CV] END ......................max_depth=80, n_estimators=30; total time=   0.4s\n",
      "[CV] END ......................max_depth=80, n_estimators=30; total time=   0.4s\n",
      "[CV] END ......................max_depth=80, n_estimators=30; total time=   0.4s\n",
      "[CV] END ......................max_depth=80, n_estimators=30; total time=   0.4s\n",
      "[CV] END ......................max_depth=80, n_estimators=40; total time=   0.5s\n",
      "[CV] END ......................max_depth=80, n_estimators=40; total time=   0.5s\n",
      "[CV] END ......................max_depth=80, n_estimators=40; total time=   0.5s\n",
      "[CV] END ......................max_depth=80, n_estimators=40; total time=   0.5s\n",
      "[CV] END ......................max_depth=80, n_estimators=40; total time=   0.5s\n",
      "[CV] END ......................max_depth=80, n_estimators=50; total time=   0.6s\n",
      "[CV] END ......................max_depth=80, n_estimators=50; total time=   0.6s\n",
      "[CV] END ......................max_depth=80, n_estimators=50; total time=   0.6s\n",
      "[CV] END ......................max_depth=80, n_estimators=50; total time=   0.6s\n",
      "[CV] END ......................max_depth=80, n_estimators=50; total time=   0.6s\n",
      "[CV] END ......................max_depth=80, n_estimators=60; total time=   0.7s\n",
      "[CV] END ......................max_depth=80, n_estimators=60; total time=   0.7s\n",
      "[CV] END ......................max_depth=80, n_estimators=60; total time=   0.7s\n",
      "[CV] END ......................max_depth=80, n_estimators=60; total time=   0.8s\n",
      "[CV] END ......................max_depth=80, n_estimators=60; total time=   0.7s\n",
      "[CV] END ......................max_depth=80, n_estimators=70; total time=   0.9s\n",
      "[CV] END ......................max_depth=80, n_estimators=70; total time=   0.9s\n",
      "[CV] END ......................max_depth=80, n_estimators=70; total time=   0.9s\n",
      "[CV] END ......................max_depth=80, n_estimators=70; total time=   0.9s\n",
      "[CV] END ......................max_depth=80, n_estimators=70; total time=   0.9s\n",
      "[CV] END ......................max_depth=80, n_estimators=80; total time=   1.0s\n",
      "[CV] END ......................max_depth=80, n_estimators=80; total time=   1.0s\n",
      "[CV] END ......................max_depth=80, n_estimators=80; total time=   1.0s\n",
      "[CV] END ......................max_depth=80, n_estimators=80; total time=   1.0s\n",
      "[CV] END ......................max_depth=80, n_estimators=80; total time=   1.0s\n",
      "[CV] END ......................max_depth=80, n_estimators=90; total time=   1.1s\n",
      "[CV] END ......................max_depth=80, n_estimators=90; total time=   1.1s\n",
      "[CV] END ......................max_depth=80, n_estimators=90; total time=   1.1s\n",
      "[CV] END ......................max_depth=80, n_estimators=90; total time=   1.1s\n",
      "[CV] END ......................max_depth=80, n_estimators=90; total time=   1.1s\n"
     ]
    },
    {
     "name": "stdout",
     "output_type": "stream",
     "text": [
      "[CV] END .....................max_depth=80, n_estimators=100; total time=   1.2s\n",
      "[CV] END .....................max_depth=80, n_estimators=100; total time=   1.2s\n",
      "[CV] END .....................max_depth=80, n_estimators=100; total time=   1.2s\n",
      "[CV] END .....................max_depth=80, n_estimators=100; total time=   1.2s\n",
      "[CV] END .....................max_depth=80, n_estimators=100; total time=   1.2s\n",
      "[CV] END .....................max_depth=80, n_estimators=110; total time=   1.4s\n",
      "[CV] END .....................max_depth=80, n_estimators=110; total time=   1.3s\n",
      "[CV] END .....................max_depth=80, n_estimators=110; total time=   1.3s\n",
      "[CV] END .....................max_depth=80, n_estimators=110; total time=   1.3s\n",
      "[CV] END .....................max_depth=80, n_estimators=110; total time=   1.3s\n",
      "[CV] END .....................max_depth=80, n_estimators=120; total time=   1.5s\n",
      "[CV] END .....................max_depth=80, n_estimators=120; total time=   1.5s\n",
      "[CV] END .....................max_depth=80, n_estimators=120; total time=   1.5s\n",
      "[CV] END .....................max_depth=80, n_estimators=120; total time=   1.5s\n",
      "[CV] END .....................max_depth=80, n_estimators=120; total time=   1.5s\n",
      "[CV] END .....................max_depth=80, n_estimators=130; total time=   1.6s\n",
      "[CV] END .....................max_depth=80, n_estimators=130; total time=   1.6s\n",
      "[CV] END .....................max_depth=80, n_estimators=130; total time=   1.6s\n",
      "[CV] END .....................max_depth=80, n_estimators=130; total time=   1.6s\n",
      "[CV] END .....................max_depth=80, n_estimators=130; total time=   1.6s\n",
      "[CV] END .....................max_depth=80, n_estimators=140; total time=   1.7s\n",
      "[CV] END .....................max_depth=80, n_estimators=140; total time=   1.7s\n",
      "[CV] END .....................max_depth=80, n_estimators=140; total time=   1.7s\n",
      "[CV] END .....................max_depth=80, n_estimators=140; total time=   1.7s\n",
      "[CV] END .....................max_depth=80, n_estimators=140; total time=   1.7s\n",
      "[CV] END .....................max_depth=80, n_estimators=150; total time=   1.8s\n",
      "[CV] END .....................max_depth=80, n_estimators=150; total time=   1.8s\n",
      "[CV] END .....................max_depth=80, n_estimators=150; total time=   1.8s\n",
      "[CV] END .....................max_depth=80, n_estimators=150; total time=   1.8s\n",
      "[CV] END .....................max_depth=80, n_estimators=150; total time=   1.8s\n",
      "[CV] END .....................max_depth=80, n_estimators=160; total time=   2.0s\n",
      "[CV] END .....................max_depth=80, n_estimators=160; total time=   1.9s\n",
      "[CV] END .....................max_depth=80, n_estimators=160; total time=   1.9s\n",
      "[CV] END .....................max_depth=80, n_estimators=160; total time=   1.9s\n",
      "[CV] END .....................max_depth=80, n_estimators=160; total time=   1.9s\n",
      "[CV] END .....................max_depth=80, n_estimators=170; total time=   2.1s\n",
      "[CV] END .....................max_depth=80, n_estimators=170; total time=   2.1s\n",
      "[CV] END .....................max_depth=80, n_estimators=170; total time=   2.0s\n",
      "[CV] END .....................max_depth=80, n_estimators=170; total time=   2.1s\n",
      "[CV] END .....................max_depth=80, n_estimators=170; total time=   2.1s\n",
      "[CV] END .....................max_depth=80, n_estimators=180; total time=   2.2s\n",
      "[CV] END .....................max_depth=80, n_estimators=180; total time=   2.2s\n",
      "[CV] END .....................max_depth=80, n_estimators=180; total time=   2.2s\n",
      "[CV] END .....................max_depth=80, n_estimators=180; total time=   2.2s\n",
      "[CV] END .....................max_depth=80, n_estimators=180; total time=   2.2s\n",
      "[CV] END .....................max_depth=80, n_estimators=190; total time=   2.3s\n",
      "[CV] END .....................max_depth=80, n_estimators=190; total time=   2.3s\n",
      "[CV] END .....................max_depth=80, n_estimators=190; total time=   2.3s\n",
      "[CV] END .....................max_depth=80, n_estimators=190; total time=   2.3s\n",
      "[CV] END .....................max_depth=80, n_estimators=190; total time=   2.3s\n",
      "[CV] END .....................max_depth=80, n_estimators=200; total time=   2.4s\n",
      "[CV] END .....................max_depth=80, n_estimators=200; total time=   2.4s\n",
      "[CV] END .....................max_depth=80, n_estimators=200; total time=   2.4s\n",
      "[CV] END .....................max_depth=80, n_estimators=200; total time=   2.4s\n",
      "[CV] END .....................max_depth=80, n_estimators=200; total time=   2.4s\n",
      "[CV] END ......................max_depth=90, n_estimators=30; total time=   0.4s\n",
      "[CV] END ......................max_depth=90, n_estimators=30; total time=   0.4s\n",
      "[CV] END ......................max_depth=90, n_estimators=30; total time=   0.4s\n",
      "[CV] END ......................max_depth=90, n_estimators=30; total time=   0.4s\n",
      "[CV] END ......................max_depth=90, n_estimators=30; total time=   0.4s\n",
      "[CV] END ......................max_depth=90, n_estimators=40; total time=   0.5s\n",
      "[CV] END ......................max_depth=90, n_estimators=40; total time=   0.5s\n",
      "[CV] END ......................max_depth=90, n_estimators=40; total time=   0.5s\n",
      "[CV] END ......................max_depth=90, n_estimators=40; total time=   0.5s\n",
      "[CV] END ......................max_depth=90, n_estimators=40; total time=   0.5s\n",
      "[CV] END ......................max_depth=90, n_estimators=50; total time=   0.6s\n",
      "[CV] END ......................max_depth=90, n_estimators=50; total time=   0.6s\n",
      "[CV] END ......................max_depth=90, n_estimators=50; total time=   0.6s\n",
      "[CV] END ......................max_depth=90, n_estimators=50; total time=   0.6s\n",
      "[CV] END ......................max_depth=90, n_estimators=50; total time=   0.6s\n",
      "[CV] END ......................max_depth=90, n_estimators=60; total time=   0.7s\n",
      "[CV] END ......................max_depth=90, n_estimators=60; total time=   0.8s\n",
      "[CV] END ......................max_depth=90, n_estimators=60; total time=   0.7s\n",
      "[CV] END ......................max_depth=90, n_estimators=60; total time=   0.7s\n",
      "[CV] END ......................max_depth=90, n_estimators=60; total time=   0.7s\n",
      "[CV] END ......................max_depth=90, n_estimators=70; total time=   0.9s\n",
      "[CV] END ......................max_depth=90, n_estimators=70; total time=   0.9s\n",
      "[CV] END ......................max_depth=90, n_estimators=70; total time=   0.9s\n",
      "[CV] END ......................max_depth=90, n_estimators=70; total time=   0.9s\n",
      "[CV] END ......................max_depth=90, n_estimators=70; total time=   0.9s\n",
      "[CV] END ......................max_depth=90, n_estimators=80; total time=   1.0s\n",
      "[CV] END ......................max_depth=90, n_estimators=80; total time=   1.0s\n",
      "[CV] END ......................max_depth=90, n_estimators=80; total time=   1.0s\n",
      "[CV] END ......................max_depth=90, n_estimators=80; total time=   1.0s\n",
      "[CV] END ......................max_depth=90, n_estimators=80; total time=   1.0s\n",
      "[CV] END ......................max_depth=90, n_estimators=90; total time=   1.1s\n",
      "[CV] END ......................max_depth=90, n_estimators=90; total time=   1.1s\n",
      "[CV] END ......................max_depth=90, n_estimators=90; total time=   1.1s\n",
      "[CV] END ......................max_depth=90, n_estimators=90; total time=   1.1s\n",
      "[CV] END ......................max_depth=90, n_estimators=90; total time=   1.1s\n",
      "[CV] END .....................max_depth=90, n_estimators=100; total time=   1.2s\n",
      "[CV] END .....................max_depth=90, n_estimators=100; total time=   1.2s\n",
      "[CV] END .....................max_depth=90, n_estimators=100; total time=   1.2s\n",
      "[CV] END .....................max_depth=90, n_estimators=100; total time=   1.2s\n",
      "[CV] END .....................max_depth=90, n_estimators=100; total time=   1.2s\n",
      "[CV] END .....................max_depth=90, n_estimators=110; total time=   1.4s\n",
      "[CV] END .....................max_depth=90, n_estimators=110; total time=   1.4s\n",
      "[CV] END .....................max_depth=90, n_estimators=110; total time=   1.3s\n",
      "[CV] END .....................max_depth=90, n_estimators=110; total time=   1.4s\n",
      "[CV] END .....................max_depth=90, n_estimators=110; total time=   1.4s\n",
      "[CV] END .....................max_depth=90, n_estimators=120; total time=   1.5s\n",
      "[CV] END .....................max_depth=90, n_estimators=120; total time=   1.5s\n"
     ]
    },
    {
     "name": "stdout",
     "output_type": "stream",
     "text": [
      "[CV] END .....................max_depth=90, n_estimators=120; total time=   1.5s\n",
      "[CV] END .....................max_depth=90, n_estimators=120; total time=   1.5s\n",
      "[CV] END .....................max_depth=90, n_estimators=120; total time=   1.5s\n",
      "[CV] END .....................max_depth=90, n_estimators=130; total time=   1.6s\n",
      "[CV] END .....................max_depth=90, n_estimators=130; total time=   1.6s\n",
      "[CV] END .....................max_depth=90, n_estimators=130; total time=   1.5s\n",
      "[CV] END .....................max_depth=90, n_estimators=130; total time=   1.6s\n",
      "[CV] END .....................max_depth=90, n_estimators=130; total time=   1.6s\n",
      "[CV] END .....................max_depth=90, n_estimators=140; total time=   1.7s\n",
      "[CV] END .....................max_depth=90, n_estimators=140; total time=   1.7s\n",
      "[CV] END .....................max_depth=90, n_estimators=140; total time=   1.7s\n",
      "[CV] END .....................max_depth=90, n_estimators=140; total time=   1.7s\n",
      "[CV] END .....................max_depth=90, n_estimators=140; total time=   1.7s\n",
      "[CV] END .....................max_depth=90, n_estimators=150; total time=   1.8s\n",
      "[CV] END .....................max_depth=90, n_estimators=150; total time=   1.8s\n",
      "[CV] END .....................max_depth=90, n_estimators=150; total time=   1.8s\n",
      "[CV] END .....................max_depth=90, n_estimators=150; total time=   1.8s\n",
      "[CV] END .....................max_depth=90, n_estimators=150; total time=   1.8s\n",
      "[CV] END .....................max_depth=90, n_estimators=160; total time=   2.0s\n",
      "[CV] END .....................max_depth=90, n_estimators=160; total time=   1.9s\n",
      "[CV] END .....................max_depth=90, n_estimators=160; total time=   2.0s\n",
      "[CV] END .....................max_depth=90, n_estimators=160; total time=   2.0s\n",
      "[CV] END .....................max_depth=90, n_estimators=160; total time=   1.9s\n",
      "[CV] END .....................max_depth=90, n_estimators=170; total time=   2.1s\n",
      "[CV] END .....................max_depth=90, n_estimators=170; total time=   2.1s\n",
      "[CV] END .....................max_depth=90, n_estimators=170; total time=   2.1s\n",
      "[CV] END .....................max_depth=90, n_estimators=170; total time=   2.1s\n",
      "[CV] END .....................max_depth=90, n_estimators=170; total time=   2.1s\n",
      "[CV] END .....................max_depth=90, n_estimators=180; total time=   2.2s\n",
      "[CV] END .....................max_depth=90, n_estimators=180; total time=   2.2s\n",
      "[CV] END .....................max_depth=90, n_estimators=180; total time=   2.2s\n",
      "[CV] END .....................max_depth=90, n_estimators=180; total time=   2.2s\n",
      "[CV] END .....................max_depth=90, n_estimators=180; total time=   2.2s\n",
      "[CV] END .....................max_depth=90, n_estimators=190; total time=   2.4s\n",
      "[CV] END .....................max_depth=90, n_estimators=190; total time=   2.3s\n",
      "[CV] END .....................max_depth=90, n_estimators=190; total time=   2.3s\n",
      "[CV] END .....................max_depth=90, n_estimators=190; total time=   2.3s\n",
      "[CV] END .....................max_depth=90, n_estimators=190; total time=   2.3s\n",
      "[CV] END .....................max_depth=90, n_estimators=200; total time=   2.4s\n",
      "[CV] END .....................max_depth=90, n_estimators=200; total time=   2.4s\n",
      "[CV] END .....................max_depth=90, n_estimators=200; total time=   2.4s\n",
      "[CV] END .....................max_depth=90, n_estimators=200; total time=   2.4s\n",
      "[CV] END .....................max_depth=90, n_estimators=200; total time=   2.4s\n",
      "[CV] END .....................max_depth=100, n_estimators=30; total time=   0.4s\n",
      "[CV] END .....................max_depth=100, n_estimators=30; total time=   0.4s\n",
      "[CV] END .....................max_depth=100, n_estimators=30; total time=   0.4s\n",
      "[CV] END .....................max_depth=100, n_estimators=30; total time=   0.4s\n",
      "[CV] END .....................max_depth=100, n_estimators=30; total time=   0.4s\n",
      "[CV] END .....................max_depth=100, n_estimators=40; total time=   0.5s\n",
      "[CV] END .....................max_depth=100, n_estimators=40; total time=   0.5s\n",
      "[CV] END .....................max_depth=100, n_estimators=40; total time=   0.5s\n",
      "[CV] END .....................max_depth=100, n_estimators=40; total time=   0.5s\n",
      "[CV] END .....................max_depth=100, n_estimators=40; total time=   0.5s\n",
      "[CV] END .....................max_depth=100, n_estimators=50; total time=   0.6s\n",
      "[CV] END .....................max_depth=100, n_estimators=50; total time=   0.6s\n",
      "[CV] END .....................max_depth=100, n_estimators=50; total time=   0.6s\n",
      "[CV] END .....................max_depth=100, n_estimators=50; total time=   0.6s\n",
      "[CV] END .....................max_depth=100, n_estimators=50; total time=   0.6s\n",
      "[CV] END .....................max_depth=100, n_estimators=60; total time=   0.7s\n",
      "[CV] END .....................max_depth=100, n_estimators=60; total time=   0.7s\n",
      "[CV] END .....................max_depth=100, n_estimators=60; total time=   0.7s\n",
      "[CV] END .....................max_depth=100, n_estimators=60; total time=   0.8s\n",
      "[CV] END .....................max_depth=100, n_estimators=60; total time=   0.7s\n",
      "[CV] END .....................max_depth=100, n_estimators=70; total time=   0.9s\n",
      "[CV] END .....................max_depth=100, n_estimators=70; total time=   0.9s\n",
      "[CV] END .....................max_depth=100, n_estimators=70; total time=   0.9s\n",
      "[CV] END .....................max_depth=100, n_estimators=70; total time=   0.9s\n",
      "[CV] END .....................max_depth=100, n_estimators=70; total time=   0.9s\n",
      "[CV] END .....................max_depth=100, n_estimators=80; total time=   1.0s\n",
      "[CV] END .....................max_depth=100, n_estimators=80; total time=   1.0s\n",
      "[CV] END .....................max_depth=100, n_estimators=80; total time=   1.0s\n",
      "[CV] END .....................max_depth=100, n_estimators=80; total time=   1.0s\n",
      "[CV] END .....................max_depth=100, n_estimators=80; total time=   1.0s\n",
      "[CV] END .....................max_depth=100, n_estimators=90; total time=   1.1s\n",
      "[CV] END .....................max_depth=100, n_estimators=90; total time=   1.1s\n",
      "[CV] END .....................max_depth=100, n_estimators=90; total time=   1.1s\n",
      "[CV] END .....................max_depth=100, n_estimators=90; total time=   1.1s\n",
      "[CV] END .....................max_depth=100, n_estimators=90; total time=   1.1s\n",
      "[CV] END ....................max_depth=100, n_estimators=100; total time=   1.2s\n",
      "[CV] END ....................max_depth=100, n_estimators=100; total time=   1.2s\n",
      "[CV] END ....................max_depth=100, n_estimators=100; total time=   1.2s\n",
      "[CV] END ....................max_depth=100, n_estimators=100; total time=   1.2s\n",
      "[CV] END ....................max_depth=100, n_estimators=100; total time=   1.2s\n",
      "[CV] END ....................max_depth=100, n_estimators=110; total time=   1.3s\n",
      "[CV] END ....................max_depth=100, n_estimators=110; total time=   1.4s\n",
      "[CV] END ....................max_depth=100, n_estimators=110; total time=   1.3s\n",
      "[CV] END ....................max_depth=100, n_estimators=110; total time=   1.3s\n",
      "[CV] END ....................max_depth=100, n_estimators=110; total time=   1.3s\n",
      "[CV] END ....................max_depth=100, n_estimators=120; total time=   1.5s\n",
      "[CV] END ....................max_depth=100, n_estimators=120; total time=   1.5s\n",
      "[CV] END ....................max_depth=100, n_estimators=120; total time=   1.4s\n",
      "[CV] END ....................max_depth=100, n_estimators=120; total time=   1.5s\n",
      "[CV] END ....................max_depth=100, n_estimators=120; total time=   1.5s\n",
      "[CV] END ....................max_depth=100, n_estimators=130; total time=   1.6s\n",
      "[CV] END ....................max_depth=100, n_estimators=130; total time=   1.6s\n",
      "[CV] END ....................max_depth=100, n_estimators=130; total time=   1.6s\n",
      "[CV] END ....................max_depth=100, n_estimators=130; total time=   1.6s\n",
      "[CV] END ....................max_depth=100, n_estimators=130; total time=   1.6s\n",
      "[CV] END ....................max_depth=100, n_estimators=140; total time=   1.7s\n",
      "[CV] END ....................max_depth=100, n_estimators=140; total time=   1.7s\n",
      "[CV] END ....................max_depth=100, n_estimators=140; total time=   1.7s\n",
      "[CV] END ....................max_depth=100, n_estimators=140; total time=   1.7s\n"
     ]
    },
    {
     "name": "stdout",
     "output_type": "stream",
     "text": [
      "[CV] END ....................max_depth=100, n_estimators=140; total time=   1.7s\n",
      "[CV] END ....................max_depth=100, n_estimators=150; total time=   1.8s\n",
      "[CV] END ....................max_depth=100, n_estimators=150; total time=   1.8s\n",
      "[CV] END ....................max_depth=100, n_estimators=150; total time=   1.8s\n",
      "[CV] END ....................max_depth=100, n_estimators=150; total time=   1.8s\n",
      "[CV] END ....................max_depth=100, n_estimators=150; total time=   1.8s\n",
      "[CV] END ....................max_depth=100, n_estimators=160; total time=   2.0s\n",
      "[CV] END ....................max_depth=100, n_estimators=160; total time=   1.9s\n",
      "[CV] END ....................max_depth=100, n_estimators=160; total time=   1.9s\n",
      "[CV] END ....................max_depth=100, n_estimators=160; total time=   2.0s\n",
      "[CV] END ....................max_depth=100, n_estimators=160; total time=   2.0s\n",
      "[CV] END ....................max_depth=100, n_estimators=170; total time=   2.1s\n",
      "[CV] END ....................max_depth=100, n_estimators=170; total time=   2.1s\n",
      "[CV] END ....................max_depth=100, n_estimators=170; total time=   2.1s\n",
      "[CV] END ....................max_depth=100, n_estimators=170; total time=   2.1s\n",
      "[CV] END ....................max_depth=100, n_estimators=170; total time=   2.1s\n",
      "[CV] END ....................max_depth=100, n_estimators=180; total time=   2.2s\n",
      "[CV] END ....................max_depth=100, n_estimators=180; total time=   2.2s\n",
      "[CV] END ....................max_depth=100, n_estimators=180; total time=   2.2s\n",
      "[CV] END ....................max_depth=100, n_estimators=180; total time=   2.2s\n",
      "[CV] END ....................max_depth=100, n_estimators=180; total time=   2.2s\n",
      "[CV] END ....................max_depth=100, n_estimators=190; total time=   2.3s\n",
      "[CV] END ....................max_depth=100, n_estimators=190; total time=   2.3s\n",
      "[CV] END ....................max_depth=100, n_estimators=190; total time=   2.3s\n",
      "[CV] END ....................max_depth=100, n_estimators=190; total time=   2.3s\n",
      "[CV] END ....................max_depth=100, n_estimators=190; total time=   2.3s\n",
      "[CV] END ....................max_depth=100, n_estimators=200; total time=   2.5s\n",
      "[CV] END ....................max_depth=100, n_estimators=200; total time=   2.4s\n",
      "[CV] END ....................max_depth=100, n_estimators=200; total time=   2.5s\n",
      "[CV] END ....................max_depth=100, n_estimators=200; total time=   3.6s\n",
      "[CV] END ....................max_depth=100, n_estimators=200; total time=   2.4s\n",
      "[CV] END .....................max_depth=110, n_estimators=30; total time=   0.4s\n",
      "[CV] END .....................max_depth=110, n_estimators=30; total time=   0.4s\n",
      "[CV] END .....................max_depth=110, n_estimators=30; total time=   0.4s\n",
      "[CV] END .....................max_depth=110, n_estimators=30; total time=   0.4s\n",
      "[CV] END .....................max_depth=110, n_estimators=30; total time=   0.4s\n",
      "[CV] END .....................max_depth=110, n_estimators=40; total time=   0.5s\n",
      "[CV] END .....................max_depth=110, n_estimators=40; total time=   0.5s\n",
      "[CV] END .....................max_depth=110, n_estimators=40; total time=   0.5s\n",
      "[CV] END .....................max_depth=110, n_estimators=40; total time=   0.5s\n",
      "[CV] END .....................max_depth=110, n_estimators=40; total time=   0.5s\n",
      "[CV] END .....................max_depth=110, n_estimators=50; total time=   0.6s\n",
      "[CV] END .....................max_depth=110, n_estimators=50; total time=   0.6s\n",
      "[CV] END .....................max_depth=110, n_estimators=50; total time=   0.6s\n",
      "[CV] END .....................max_depth=110, n_estimators=50; total time=   0.6s\n",
      "[CV] END .....................max_depth=110, n_estimators=50; total time=   0.6s\n",
      "[CV] END .....................max_depth=110, n_estimators=60; total time=   0.7s\n",
      "[CV] END .....................max_depth=110, n_estimators=60; total time=   0.7s\n",
      "[CV] END .....................max_depth=110, n_estimators=60; total time=   0.7s\n",
      "[CV] END .....................max_depth=110, n_estimators=60; total time=   0.8s\n",
      "[CV] END .....................max_depth=110, n_estimators=60; total time=   0.7s\n",
      "[CV] END .....................max_depth=110, n_estimators=70; total time=   0.9s\n",
      "[CV] END .....................max_depth=110, n_estimators=70; total time=   0.9s\n",
      "[CV] END .....................max_depth=110, n_estimators=70; total time=   0.9s\n",
      "[CV] END .....................max_depth=110, n_estimators=70; total time=   0.9s\n",
      "[CV] END .....................max_depth=110, n_estimators=70; total time=   0.9s\n",
      "[CV] END .....................max_depth=110, n_estimators=80; total time=   1.0s\n",
      "[CV] END .....................max_depth=110, n_estimators=80; total time=   1.0s\n",
      "[CV] END .....................max_depth=110, n_estimators=80; total time=   1.0s\n",
      "[CV] END .....................max_depth=110, n_estimators=80; total time=   1.0s\n",
      "[CV] END .....................max_depth=110, n_estimators=80; total time=   1.0s\n",
      "[CV] END .....................max_depth=110, n_estimators=90; total time=   1.1s\n",
      "[CV] END .....................max_depth=110, n_estimators=90; total time=   1.1s\n",
      "[CV] END .....................max_depth=110, n_estimators=90; total time=   1.1s\n",
      "[CV] END .....................max_depth=110, n_estimators=90; total time=   1.1s\n",
      "[CV] END .....................max_depth=110, n_estimators=90; total time=   1.1s\n",
      "[CV] END ....................max_depth=110, n_estimators=100; total time=   1.2s\n",
      "[CV] END ....................max_depth=110, n_estimators=100; total time=   1.2s\n",
      "[CV] END ....................max_depth=110, n_estimators=100; total time=   1.2s\n",
      "[CV] END ....................max_depth=110, n_estimators=100; total time=   1.2s\n",
      "[CV] END ....................max_depth=110, n_estimators=100; total time=   1.2s\n",
      "[CV] END ....................max_depth=110, n_estimators=110; total time=   1.3s\n",
      "[CV] END ....................max_depth=110, n_estimators=110; total time=   1.3s\n",
      "[CV] END ....................max_depth=110, n_estimators=110; total time=   1.4s\n",
      "[CV] END ....................max_depth=110, n_estimators=110; total time=   1.4s\n",
      "[CV] END ....................max_depth=110, n_estimators=110; total time=   1.4s\n",
      "[CV] END ....................max_depth=110, n_estimators=120; total time=   1.5s\n",
      "[CV] END ....................max_depth=110, n_estimators=120; total time=   1.5s\n",
      "[CV] END ....................max_depth=110, n_estimators=120; total time=15.2min\n",
      "[CV] END ....................max_depth=110, n_estimators=120; total time=   1.5s\n",
      "[CV] END ....................max_depth=110, n_estimators=120; total time=   1.4s\n",
      "[CV] END ....................max_depth=110, n_estimators=130; total time=   1.6s\n",
      "[CV] END ....................max_depth=110, n_estimators=130; total time=   1.6s\n",
      "[CV] END ....................max_depth=110, n_estimators=130; total time=   1.6s\n",
      "[CV] END ....................max_depth=110, n_estimators=130; total time=   1.6s\n",
      "[CV] END ....................max_depth=110, n_estimators=130; total time=   1.6s\n",
      "[CV] END ....................max_depth=110, n_estimators=140; total time=   1.7s\n",
      "[CV] END ....................max_depth=110, n_estimators=140; total time=   1.7s\n",
      "[CV] END ....................max_depth=110, n_estimators=140; total time=   1.7s\n",
      "[CV] END ....................max_depth=110, n_estimators=140; total time=   1.7s\n",
      "[CV] END ....................max_depth=110, n_estimators=140; total time=   1.6s\n",
      "[CV] END ....................max_depth=110, n_estimators=150; total time=   1.8s\n",
      "[CV] END ....................max_depth=110, n_estimators=150; total time=   1.8s\n",
      "[CV] END ....................max_depth=110, n_estimators=150; total time=   1.8s\n",
      "[CV] END ....................max_depth=110, n_estimators=150; total time=   1.8s\n",
      "[CV] END ....................max_depth=110, n_estimators=150; total time=   1.8s\n",
      "[CV] END ....................max_depth=110, n_estimators=160; total time=   1.9s\n",
      "[CV] END ....................max_depth=110, n_estimators=160; total time=   1.9s\n",
      "[CV] END ....................max_depth=110, n_estimators=160; total time=   1.9s\n",
      "[CV] END ....................max_depth=110, n_estimators=160; total time=   1.9s\n",
      "[CV] END ....................max_depth=110, n_estimators=160; total time=   1.9s\n",
      "[CV] END ....................max_depth=110, n_estimators=170; total time=   2.0s\n"
     ]
    },
    {
     "name": "stdout",
     "output_type": "stream",
     "text": [
      "[CV] END ....................max_depth=110, n_estimators=170; total time=   2.0s\n",
      "[CV] END ....................max_depth=110, n_estimators=170; total time=   2.0s\n",
      "[CV] END ....................max_depth=110, n_estimators=170; total time=   2.1s\n",
      "[CV] END ....................max_depth=110, n_estimators=170; total time=   2.0s\n",
      "[CV] END ....................max_depth=110, n_estimators=180; total time=   2.2s\n",
      "[CV] END ....................max_depth=110, n_estimators=180; total time=   2.2s\n",
      "[CV] END ....................max_depth=110, n_estimators=180; total time=   2.2s\n",
      "[CV] END ....................max_depth=110, n_estimators=180; total time=   2.2s\n",
      "[CV] END ....................max_depth=110, n_estimators=180; total time=   2.2s\n",
      "[CV] END ....................max_depth=110, n_estimators=190; total time=   2.3s\n",
      "[CV] END ....................max_depth=110, n_estimators=190; total time=   2.3s\n",
      "[CV] END ....................max_depth=110, n_estimators=190; total time=   2.3s\n",
      "[CV] END ....................max_depth=110, n_estimators=190; total time=   2.3s\n",
      "[CV] END ....................max_depth=110, n_estimators=190; total time=   2.3s\n",
      "[CV] END ....................max_depth=110, n_estimators=200; total time=   2.4s\n",
      "[CV] END ....................max_depth=110, n_estimators=200; total time=   2.4s\n",
      "[CV] END ....................max_depth=110, n_estimators=200; total time=   2.4s\n",
      "[CV] END ....................max_depth=110, n_estimators=200; total time=   2.5s\n",
      "[CV] END ....................max_depth=110, n_estimators=200; total time=   2.4s\n",
      "Training best f1 score: 0.34 with parameters {'max_depth': 90, 'n_estimators': 80}\n"
     ]
    }
   ],
   "source": [
    "from sklearn.ensemble import RandomForestClassifier\n",
    "grid = {'n_estimators': [int(x) for x in np.linspace(start = 30, stop = 200, num = 18)],\n",
    "              'max_depth' : [int(x) for x in np.linspace(50, 110, num = 7)]}\n",
    "\n",
    "run_model(RandomForestClassifier(class_weight='balanced'), \n",
    "          \"RF\", X_train_scaled, y_train, grid)"
   ]
  },
  {
   "cell_type": "markdown",
   "id": "43100af7",
   "metadata": {},
   "source": [
    "#### 4.3.2 Gradient Boosting Classifier"
   ]
  },
  {
   "cell_type": "code",
   "execution_count": 258,
   "id": "b8a668f6",
   "metadata": {},
   "outputs": [
    {
     "name": "stdout",
     "output_type": "stream",
     "text": [
      "Fitting 5 folds for each of 15 candidates, totalling 75 fits\n",
      "[CV] END ......................max_depth=3, n_estimators=500; total time=   6.6s\n",
      "[CV] END ......................max_depth=3, n_estimators=500; total time=   6.6s\n",
      "[CV] END ......................max_depth=3, n_estimators=500; total time=   6.6s\n",
      "[CV] END ......................max_depth=3, n_estimators=500; total time=   6.6s\n",
      "[CV] END ......................max_depth=3, n_estimators=500; total time=   6.6s\n",
      "[CV] END .....................max_depth=3, n_estimators=1000; total time=  13.1s\n",
      "[CV] END .....................max_depth=3, n_estimators=1000; total time=  13.2s\n",
      "[CV] END .....................max_depth=3, n_estimators=1000; total time=  13.3s\n",
      "[CV] END .....................max_depth=3, n_estimators=1000; total time=  13.3s\n",
      "[CV] END .....................max_depth=3, n_estimators=1000; total time=  13.3s\n",
      "[CV] END .....................max_depth=3, n_estimators=2000; total time=  26.7s\n",
      "[CV] END .....................max_depth=3, n_estimators=2000; total time=  26.7s\n",
      "[CV] END .....................max_depth=3, n_estimators=2000; total time=  26.4s\n",
      "[CV] END .....................max_depth=3, n_estimators=2000; total time=  26.7s\n",
      "[CV] END .....................max_depth=3, n_estimators=2000; total time=  26.7s\n",
      "[CV] END ......................max_depth=5, n_estimators=500; total time=  10.7s\n",
      "[CV] END ......................max_depth=5, n_estimators=500; total time=  10.7s\n",
      "[CV] END ......................max_depth=5, n_estimators=500; total time=  10.7s\n",
      "[CV] END ......................max_depth=5, n_estimators=500; total time=  10.8s\n",
      "[CV] END ......................max_depth=5, n_estimators=500; total time=  10.7s\n",
      "[CV] END .....................max_depth=5, n_estimators=1000; total time=  21.4s\n",
      "[CV] END .....................max_depth=5, n_estimators=1000; total time=  21.4s\n",
      "[CV] END .....................max_depth=5, n_estimators=1000; total time=  21.4s\n",
      "[CV] END .....................max_depth=5, n_estimators=1000; total time=  21.5s\n",
      "[CV] END .....................max_depth=5, n_estimators=1000; total time=  21.4s\n",
      "[CV] END .....................max_depth=5, n_estimators=2000; total time=  42.8s\n",
      "[CV] END .....................max_depth=5, n_estimators=2000; total time=  42.8s\n",
      "[CV] END .....................max_depth=5, n_estimators=2000; total time=  42.8s\n",
      "[CV] END .....................max_depth=5, n_estimators=2000; total time=  42.8s\n",
      "[CV] END .....................max_depth=5, n_estimators=2000; total time=  42.8s\n",
      "[CV] END ......................max_depth=7, n_estimators=500; total time=  15.0s\n",
      "[CV] END ......................max_depth=7, n_estimators=500; total time=  15.0s\n",
      "[CV] END ......................max_depth=7, n_estimators=500; total time=  15.0s\n",
      "[CV] END ......................max_depth=7, n_estimators=500; total time=  15.0s\n",
      "[CV] END ......................max_depth=7, n_estimators=500; total time=  15.0s\n",
      "[CV] END .....................max_depth=7, n_estimators=1000; total time=  30.0s\n",
      "[CV] END .....................max_depth=7, n_estimators=1000; total time=  30.0s\n",
      "[CV] END .....................max_depth=7, n_estimators=1000; total time=  30.0s\n",
      "[CV] END .....................max_depth=7, n_estimators=1000; total time=  30.1s\n",
      "[CV] END .....................max_depth=7, n_estimators=1000; total time=  30.0s\n",
      "[CV] END .....................max_depth=7, n_estimators=2000; total time= 1.0min\n",
      "[CV] END .....................max_depth=7, n_estimators=2000; total time=17.1min\n",
      "[CV] END .....................max_depth=7, n_estimators=2000; total time=  58.9s\n",
      "[CV] END .....................max_depth=7, n_estimators=2000; total time= 2.8min\n",
      "[CV] END .....................max_depth=7, n_estimators=2000; total time=  59.2s\n",
      "[CV] END ......................max_depth=9, n_estimators=500; total time=  19.6s\n",
      "[CV] END ......................max_depth=9, n_estimators=500; total time=  19.5s\n",
      "[CV] END ......................max_depth=9, n_estimators=500; total time=  19.4s\n",
      "[CV] END ......................max_depth=9, n_estimators=500; total time=  19.7s\n",
      "[CV] END ......................max_depth=9, n_estimators=500; total time=  19.5s\n",
      "[CV] END .....................max_depth=9, n_estimators=1000; total time=  39.3s\n",
      "[CV] END .....................max_depth=9, n_estimators=1000; total time=  39.3s\n",
      "[CV] END .....................max_depth=9, n_estimators=1000; total time=  39.5s\n",
      "[CV] END .....................max_depth=9, n_estimators=1000; total time=  39.7s\n",
      "[CV] END .....................max_depth=9, n_estimators=1000; total time=  39.4s\n",
      "[CV] END .....................max_depth=9, n_estimators=2000; total time= 1.3min\n",
      "[CV] END .....................max_depth=9, n_estimators=2000; total time= 1.3min\n",
      "[CV] END .....................max_depth=9, n_estimators=2000; total time= 1.3min\n",
      "[CV] END .....................max_depth=9, n_estimators=2000; total time= 1.3min\n",
      "[CV] END .....................max_depth=9, n_estimators=2000; total time= 1.3min\n",
      "[CV] END .....................max_depth=11, n_estimators=500; total time=  25.7s\n",
      "[CV] END .....................max_depth=11, n_estimators=500; total time=  25.6s\n",
      "[CV] END .....................max_depth=11, n_estimators=500; total time=  25.5s\n",
      "[CV] END .....................max_depth=11, n_estimators=500; total time=  25.3s\n",
      "[CV] END .....................max_depth=11, n_estimators=500; total time=  25.1s\n",
      "[CV] END ....................max_depth=11, n_estimators=1000; total time=  51.4s\n",
      "[CV] END ....................max_depth=11, n_estimators=1000; total time=  52.3s\n",
      "[CV] END ....................max_depth=11, n_estimators=1000; total time=  52.6s\n",
      "[CV] END ....................max_depth=11, n_estimators=1000; total time=  52.0s\n",
      "[CV] END ....................max_depth=11, n_estimators=1000; total time=  52.2s\n",
      "[CV] END ....................max_depth=11, n_estimators=2000; total time= 1.7min\n",
      "[CV] END ....................max_depth=11, n_estimators=2000; total time= 1.7min\n",
      "[CV] END ....................max_depth=11, n_estimators=2000; total time= 5.9min\n",
      "[CV] END ....................max_depth=11, n_estimators=2000; total time= 1.7min\n",
      "[CV] END ....................max_depth=11, n_estimators=2000; total time= 1.7min\n",
      "Training best f1 score: 0.32 with parameters {'max_depth': 9, 'n_estimators': 2000}\n"
     ]
    }
   ],
   "source": [
    "from sklearn.ensemble import GradientBoostingClassifier\n",
    "grid = dict(n_estimators=[500,1000,2000],max_depth=[3,5,7,9,11])\n",
    "run_model(GradientBoostingClassifier(),\n",
    "         \"GB\", X_train_scaled, y_train, grid)"
   ]
  },
  {
   "cell_type": "markdown",
   "id": "9c458d0f",
   "metadata": {},
   "source": [
    "### 4.4 Rebalanced classes\n",
    "SMOTETomek uses SMOTE resampling of the minority class through interpolation, and selective removal of the majority class in areas of overlap between the classes. Rebalancing is applied only to the train dataset, to overcome the difficulties of training data with only 6% positive cases."
   ]
  },
  {
   "cell_type": "code",
   "execution_count": 259,
   "id": "42e578ac",
   "metadata": {},
   "outputs": [],
   "source": [
    "import imblearn\n",
    "from imblearn.combine import SMOTETomek\n",
    "smt = SMOTETomek(sampling_strategy='auto')\n",
    "X_smt, y_smt = smt.fit_resample(X_train_scaled, y_train)"
   ]
  },
  {
   "cell_type": "markdown",
   "id": "7ab75089",
   "metadata": {},
   "source": [
    "#### 4.4.1 Knn"
   ]
  },
  {
   "cell_type": "code",
   "execution_count": 260,
   "id": "98fc5add",
   "metadata": {},
   "outputs": [
    {
     "name": "stdout",
     "output_type": "stream",
     "text": [
      "Fitting 5 folds for each of 4 candidates, totalling 20 fits\n",
      "[CV] END ......................................n_neighbors=1; total time=   3.1s\n",
      "[CV] END ......................................n_neighbors=1; total time=   3.0s\n",
      "[CV] END ......................................n_neighbors=1; total time=   3.0s\n",
      "[CV] END ......................................n_neighbors=1; total time=   2.9s\n",
      "[CV] END ......................................n_neighbors=1; total time=   3.0s\n",
      "[CV] END ......................................n_neighbors=2; total time=   3.5s\n",
      "[CV] END ......................................n_neighbors=2; total time=   3.6s\n",
      "[CV] END ......................................n_neighbors=2; total time=   3.6s\n",
      "[CV] END ......................................n_neighbors=2; total time=   3.6s\n",
      "[CV] END ......................................n_neighbors=2; total time=   3.5s\n",
      "[CV] END ......................................n_neighbors=3; total time=   4.2s\n",
      "[CV] END ......................................n_neighbors=3; total time=   4.1s\n",
      "[CV] END ......................................n_neighbors=3; total time=   4.2s\n",
      "[CV] END ......................................n_neighbors=3; total time=   4.1s\n",
      "[CV] END ......................................n_neighbors=3; total time=   4.2s\n",
      "[CV] END ......................................n_neighbors=4; total time=   5.7s\n",
      "[CV] END ......................................n_neighbors=4; total time=   6.1s\n",
      "[CV] END ......................................n_neighbors=4; total time=   5.9s\n",
      "[CV] END ......................................n_neighbors=4; total time=   5.9s\n",
      "[CV] END ......................................n_neighbors=4; total time=   5.9s\n",
      "Training best f1 score: 0.89 with parameters {'n_neighbors': 1}\n"
     ]
    }
   ],
   "source": [
    "grid = dict(n_neighbors=list(range(1,5)))\n",
    "run_model(KNeighborsClassifier(), \n",
    "          \"Knn-smt\", X_smt, y_smt, grid)"
   ]
  },
  {
   "cell_type": "markdown",
   "id": "df0ed9f7",
   "metadata": {},
   "source": [
    "#### 4.4.2 Random Forests"
   ]
  },
  {
   "cell_type": "code",
   "execution_count": 261,
   "id": "8fd41429",
   "metadata": {},
   "outputs": [
    {
     "name": "stdout",
     "output_type": "stream",
     "text": [
      "Fitting 5 folds for each of 126 candidates, totalling 630 fits\n",
      "[CV] END ......................max_depth=50, n_estimators=30; total time=   0.9s\n",
      "[CV] END ......................max_depth=50, n_estimators=30; total time=   0.9s\n",
      "[CV] END ......................max_depth=50, n_estimators=30; total time=   0.9s\n",
      "[CV] END ......................max_depth=50, n_estimators=30; total time=   0.9s\n",
      "[CV] END ......................max_depth=50, n_estimators=30; total time=   0.9s\n",
      "[CV] END ......................max_depth=50, n_estimators=40; total time=   1.2s\n",
      "[CV] END ......................max_depth=50, n_estimators=40; total time=   1.1s\n",
      "[CV] END ......................max_depth=50, n_estimators=40; total time=   1.1s\n",
      "[CV] END ......................max_depth=50, n_estimators=40; total time=   1.1s\n",
      "[CV] END ......................max_depth=50, n_estimators=40; total time=   1.1s\n",
      "[CV] END ......................max_depth=50, n_estimators=50; total time=   1.4s\n",
      "[CV] END ......................max_depth=50, n_estimators=50; total time=   1.4s\n",
      "[CV] END ......................max_depth=50, n_estimators=50; total time=   1.4s\n",
      "[CV] END ......................max_depth=50, n_estimators=50; total time=   1.4s\n",
      "[CV] END ......................max_depth=50, n_estimators=50; total time=   1.4s\n",
      "[CV] END ......................max_depth=50, n_estimators=60; total time=   1.7s\n",
      "[CV] END ......................max_depth=50, n_estimators=60; total time=   1.7s\n",
      "[CV] END ......................max_depth=50, n_estimators=60; total time=   1.7s\n",
      "[CV] END ......................max_depth=50, n_estimators=60; total time=   1.7s\n",
      "[CV] END ......................max_depth=50, n_estimators=60; total time=   1.7s\n",
      "[CV] END ......................max_depth=50, n_estimators=70; total time=   2.0s\n",
      "[CV] END ......................max_depth=50, n_estimators=70; total time=   2.0s\n",
      "[CV] END ......................max_depth=50, n_estimators=70; total time=   1.9s\n",
      "[CV] END ......................max_depth=50, n_estimators=70; total time=   2.0s\n",
      "[CV] END ......................max_depth=50, n_estimators=70; total time=   2.0s\n",
      "[CV] END ......................max_depth=50, n_estimators=80; total time=   2.2s\n",
      "[CV] END ......................max_depth=50, n_estimators=80; total time=   2.3s\n",
      "[CV] END ......................max_depth=50, n_estimators=80; total time=   2.3s\n",
      "[CV] END ......................max_depth=50, n_estimators=80; total time=   2.3s\n",
      "[CV] END ......................max_depth=50, n_estimators=80; total time=   2.3s\n",
      "[CV] END ......................max_depth=50, n_estimators=90; total time=   2.6s\n",
      "[CV] END ......................max_depth=50, n_estimators=90; total time=   2.6s\n",
      "[CV] END ......................max_depth=50, n_estimators=90; total time=   2.5s\n",
      "[CV] END ......................max_depth=50, n_estimators=90; total time=   2.5s\n",
      "[CV] END ......................max_depth=50, n_estimators=90; total time=   2.6s\n",
      "[CV] END .....................max_depth=50, n_estimators=100; total time=   2.8s\n",
      "[CV] END .....................max_depth=50, n_estimators=100; total time=   2.8s\n",
      "[CV] END .....................max_depth=50, n_estimators=100; total time=   2.8s\n",
      "[CV] END .....................max_depth=50, n_estimators=100; total time=   2.8s\n",
      "[CV] END .....................max_depth=50, n_estimators=100; total time=   2.8s\n",
      "[CV] END .....................max_depth=50, n_estimators=110; total time=   3.1s\n",
      "[CV] END .....................max_depth=50, n_estimators=110; total time=   3.1s\n",
      "[CV] END .....................max_depth=50, n_estimators=110; total time=   3.1s\n",
      "[CV] END .....................max_depth=50, n_estimators=110; total time=   3.2s\n",
      "[CV] END .....................max_depth=50, n_estimators=110; total time=   3.1s\n",
      "[CV] END .....................max_depth=50, n_estimators=120; total time=   3.3s\n",
      "[CV] END .....................max_depth=50, n_estimators=120; total time=   3.4s\n",
      "[CV] END .....................max_depth=50, n_estimators=120; total time=   3.3s\n",
      "[CV] END .....................max_depth=50, n_estimators=120; total time=   3.4s\n",
      "[CV] END .....................max_depth=50, n_estimators=120; total time=   3.3s\n",
      "[CV] END .....................max_depth=50, n_estimators=130; total time=   3.6s\n",
      "[CV] END .....................max_depth=50, n_estimators=130; total time=   3.6s\n",
      "[CV] END .....................max_depth=50, n_estimators=130; total time=   3.6s\n",
      "[CV] END .....................max_depth=50, n_estimators=130; total time=   3.7s\n",
      "[CV] END .....................max_depth=50, n_estimators=130; total time=   3.6s\n",
      "[CV] END .....................max_depth=50, n_estimators=140; total time=   3.9s\n",
      "[CV] END .....................max_depth=50, n_estimators=140; total time=   3.9s\n",
      "[CV] END .....................max_depth=50, n_estimators=140; total time=   3.9s\n",
      "[CV] END .....................max_depth=50, n_estimators=140; total time=   3.9s\n",
      "[CV] END .....................max_depth=50, n_estimators=140; total time=   3.9s\n",
      "[CV] END .....................max_depth=50, n_estimators=150; total time=   4.2s\n",
      "[CV] END .....................max_depth=50, n_estimators=150; total time=   4.2s\n",
      "[CV] END .....................max_depth=50, n_estimators=150; total time=   4.2s\n",
      "[CV] END .....................max_depth=50, n_estimators=150; total time=   4.2s\n",
      "[CV] END .....................max_depth=50, n_estimators=150; total time=   4.2s\n",
      "[CV] END .....................max_depth=50, n_estimators=160; total time=   4.4s\n",
      "[CV] END .....................max_depth=50, n_estimators=160; total time=   4.4s\n",
      "[CV] END .....................max_depth=50, n_estimators=160; total time=   4.4s\n",
      "[CV] END .....................max_depth=50, n_estimators=160; total time=   4.5s\n",
      "[CV] END .....................max_depth=50, n_estimators=160; total time=   4.5s\n",
      "[CV] END .....................max_depth=50, n_estimators=170; total time=   4.7s\n",
      "[CV] END .....................max_depth=50, n_estimators=170; total time=   4.7s\n",
      "[CV] END .....................max_depth=50, n_estimators=170; total time=   4.7s\n",
      "[CV] END .....................max_depth=50, n_estimators=170; total time=   4.8s\n",
      "[CV] END .....................max_depth=50, n_estimators=170; total time=   4.7s\n",
      "[CV] END .....................max_depth=50, n_estimators=180; total time=   5.0s\n",
      "[CV] END .....................max_depth=50, n_estimators=180; total time=   5.0s\n",
      "[CV] END .....................max_depth=50, n_estimators=180; total time=   5.0s\n",
      "[CV] END .....................max_depth=50, n_estimators=180; total time=   5.1s\n",
      "[CV] END .....................max_depth=50, n_estimators=180; total time=   5.0s\n",
      "[CV] END .....................max_depth=50, n_estimators=190; total time=   5.2s\n",
      "[CV] END .....................max_depth=50, n_estimators=190; total time=   5.3s\n",
      "[CV] END .....................max_depth=50, n_estimators=190; total time=   5.3s\n",
      "[CV] END .....................max_depth=50, n_estimators=190; total time=   5.4s\n",
      "[CV] END .....................max_depth=50, n_estimators=190; total time=   5.3s\n",
      "[CV] END .....................max_depth=50, n_estimators=200; total time=   5.5s\n",
      "[CV] END .....................max_depth=50, n_estimators=200; total time=   5.6s\n",
      "[CV] END .....................max_depth=50, n_estimators=200; total time=   5.6s\n",
      "[CV] END .....................max_depth=50, n_estimators=200; total time=   5.6s\n",
      "[CV] END .....................max_depth=50, n_estimators=200; total time=   5.6s\n",
      "[CV] END ......................max_depth=60, n_estimators=30; total time=   0.9s\n",
      "[CV] END ......................max_depth=60, n_estimators=30; total time=   0.9s\n",
      "[CV] END ......................max_depth=60, n_estimators=30; total time=   0.9s\n",
      "[CV] END ......................max_depth=60, n_estimators=30; total time=   0.9s\n",
      "[CV] END ......................max_depth=60, n_estimators=30; total time=   0.9s\n",
      "[CV] END ......................max_depth=60, n_estimators=40; total time=   1.1s\n",
      "[CV] END ......................max_depth=60, n_estimators=40; total time=   1.1s\n",
      "[CV] END ......................max_depth=60, n_estimators=40; total time=   1.1s\n",
      "[CV] END ......................max_depth=60, n_estimators=40; total time=   1.2s\n",
      "[CV] END ......................max_depth=60, n_estimators=40; total time=   1.2s\n",
      "[CV] END ......................max_depth=60, n_estimators=50; total time=   1.4s\n"
     ]
    },
    {
     "name": "stdout",
     "output_type": "stream",
     "text": [
      "[CV] END ......................max_depth=60, n_estimators=50; total time=   1.4s\n",
      "[CV] END ......................max_depth=60, n_estimators=50; total time=   1.5s\n",
      "[CV] END ......................max_depth=60, n_estimators=50; total time=   1.5s\n",
      "[CV] END ......................max_depth=60, n_estimators=50; total time=   1.5s\n",
      "[CV] END ......................max_depth=60, n_estimators=60; total time=   1.7s\n",
      "[CV] END ......................max_depth=60, n_estimators=60; total time=   1.7s\n",
      "[CV] END ......................max_depth=60, n_estimators=60; total time=   1.7s\n",
      "[CV] END ......................max_depth=60, n_estimators=60; total time=   1.7s\n",
      "[CV] END ......................max_depth=60, n_estimators=60; total time=   1.7s\n",
      "[CV] END ......................max_depth=60, n_estimators=70; total time=   1.9s\n",
      "[CV] END ......................max_depth=60, n_estimators=70; total time=   2.0s\n",
      "[CV] END ......................max_depth=60, n_estimators=70; total time=   1.9s\n",
      "[CV] END ......................max_depth=60, n_estimators=70; total time=   2.0s\n",
      "[CV] END ......................max_depth=60, n_estimators=70; total time=   2.0s\n",
      "[CV] END ......................max_depth=60, n_estimators=80; total time=   2.2s\n",
      "[CV] END ......................max_depth=60, n_estimators=80; total time=   2.3s\n",
      "[CV] END ......................max_depth=60, n_estimators=80; total time=   2.3s\n",
      "[CV] END ......................max_depth=60, n_estimators=80; total time=   2.3s\n",
      "[CV] END ......................max_depth=60, n_estimators=80; total time=   2.3s\n",
      "[CV] END ......................max_depth=60, n_estimators=90; total time=   2.5s\n",
      "[CV] END ......................max_depth=60, n_estimators=90; total time=   2.6s\n",
      "[CV] END ......................max_depth=60, n_estimators=90; total time=   2.6s\n",
      "[CV] END ......................max_depth=60, n_estimators=90; total time=   2.5s\n",
      "[CV] END ......................max_depth=60, n_estimators=90; total time=   2.5s\n",
      "[CV] END .....................max_depth=60, n_estimators=100; total time=   2.8s\n",
      "[CV] END .....................max_depth=60, n_estimators=100; total time=   2.8s\n",
      "[CV] END .....................max_depth=60, n_estimators=100; total time=   2.8s\n",
      "[CV] END .....................max_depth=60, n_estimators=100; total time=   2.8s\n",
      "[CV] END .....................max_depth=60, n_estimators=100; total time=   2.8s\n",
      "[CV] END .....................max_depth=60, n_estimators=110; total time=   3.1s\n",
      "[CV] END .....................max_depth=60, n_estimators=110; total time=   3.0s\n",
      "[CV] END .....................max_depth=60, n_estimators=110; total time=   3.0s\n",
      "[CV] END .....................max_depth=60, n_estimators=110; total time=   3.1s\n",
      "[CV] END .....................max_depth=60, n_estimators=110; total time=   3.1s\n",
      "[CV] END .....................max_depth=60, n_estimators=120; total time=   3.4s\n",
      "[CV] END .....................max_depth=60, n_estimators=120; total time=   3.3s\n",
      "[CV] END .....................max_depth=60, n_estimators=120; total time=   3.4s\n",
      "[CV] END .....................max_depth=60, n_estimators=120; total time=   3.4s\n",
      "[CV] END .....................max_depth=60, n_estimators=120; total time=   3.4s\n",
      "[CV] END .....................max_depth=60, n_estimators=130; total time=   3.6s\n",
      "[CV] END .....................max_depth=60, n_estimators=130; total time=   3.7s\n",
      "[CV] END .....................max_depth=60, n_estimators=130; total time=   3.6s\n",
      "[CV] END .....................max_depth=60, n_estimators=130; total time=   3.7s\n",
      "[CV] END .....................max_depth=60, n_estimators=130; total time=   3.6s\n",
      "[CV] END .....................max_depth=60, n_estimators=140; total time=   3.9s\n",
      "[CV] END .....................max_depth=60, n_estimators=140; total time=   3.9s\n",
      "[CV] END .....................max_depth=60, n_estimators=140; total time=   3.9s\n",
      "[CV] END .....................max_depth=60, n_estimators=140; total time=   3.9s\n",
      "[CV] END .....................max_depth=60, n_estimators=140; total time=   3.9s\n",
      "[CV] END .....................max_depth=60, n_estimators=150; total time=   4.2s\n",
      "[CV] END .....................max_depth=60, n_estimators=150; total time=   4.2s\n",
      "[CV] END .....................max_depth=60, n_estimators=150; total time=   4.1s\n",
      "[CV] END .....................max_depth=60, n_estimators=150; total time=   4.2s\n",
      "[CV] END .....................max_depth=60, n_estimators=150; total time=   4.2s\n",
      "[CV] END .....................max_depth=60, n_estimators=160; total time=   4.5s\n",
      "[CV] END .....................max_depth=60, n_estimators=160; total time=   4.4s\n",
      "[CV] END .....................max_depth=60, n_estimators=160; total time=   4.5s\n",
      "[CV] END .....................max_depth=60, n_estimators=160; total time=   4.4s\n",
      "[CV] END .....................max_depth=60, n_estimators=160; total time=   4.5s\n",
      "[CV] END .....................max_depth=60, n_estimators=170; total time=   4.8s\n",
      "[CV] END .....................max_depth=60, n_estimators=170; total time=   4.7s\n",
      "[CV] END .....................max_depth=60, n_estimators=170; total time=   4.7s\n",
      "[CV] END .....................max_depth=60, n_estimators=170; total time=   4.8s\n",
      "[CV] END .....................max_depth=60, n_estimators=170; total time=   4.7s\n",
      "[CV] END .....................max_depth=60, n_estimators=180; total time=   5.0s\n",
      "[CV] END .....................max_depth=60, n_estimators=180; total time=   5.1s\n",
      "[CV] END .....................max_depth=60, n_estimators=180; total time=   5.0s\n",
      "[CV] END .....................max_depth=60, n_estimators=180; total time=   5.0s\n",
      "[CV] END .....................max_depth=60, n_estimators=180; total time=   5.1s\n",
      "[CV] END .....................max_depth=60, n_estimators=190; total time=   5.3s\n",
      "[CV] END .....................max_depth=60, n_estimators=190; total time=   5.3s\n",
      "[CV] END .....................max_depth=60, n_estimators=190; total time=   5.2s\n",
      "[CV] END .....................max_depth=60, n_estimators=190; total time=   5.3s\n",
      "[CV] END .....................max_depth=60, n_estimators=190; total time=   5.3s\n",
      "[CV] END .....................max_depth=60, n_estimators=200; total time=   5.6s\n",
      "[CV] END .....................max_depth=60, n_estimators=200; total time=   5.6s\n",
      "[CV] END .....................max_depth=60, n_estimators=200; total time=   5.5s\n",
      "[CV] END .....................max_depth=60, n_estimators=200; total time=   5.6s\n",
      "[CV] END .....................max_depth=60, n_estimators=200; total time=   5.5s\n",
      "[CV] END ......................max_depth=70, n_estimators=30; total time=   0.9s\n",
      "[CV] END ......................max_depth=70, n_estimators=30; total time=   0.9s\n",
      "[CV] END ......................max_depth=70, n_estimators=30; total time=   0.9s\n",
      "[CV] END ......................max_depth=70, n_estimators=30; total time=   0.9s\n",
      "[CV] END ......................max_depth=70, n_estimators=30; total time=   0.9s\n",
      "[CV] END ......................max_depth=70, n_estimators=40; total time=   1.2s\n",
      "[CV] END ......................max_depth=70, n_estimators=40; total time=   1.1s\n",
      "[CV] END ......................max_depth=70, n_estimators=40; total time=   1.1s\n",
      "[CV] END ......................max_depth=70, n_estimators=40; total time=   1.2s\n",
      "[CV] END ......................max_depth=70, n_estimators=40; total time=   1.2s\n",
      "[CV] END ......................max_depth=70, n_estimators=50; total time=   1.4s\n",
      "[CV] END ......................max_depth=70, n_estimators=50; total time=   1.4s\n",
      "[CV] END ......................max_depth=70, n_estimators=50; total time=   1.4s\n",
      "[CV] END ......................max_depth=70, n_estimators=50; total time=   1.4s\n",
      "[CV] END ......................max_depth=70, n_estimators=50; total time=   1.4s\n",
      "[CV] END ......................max_depth=70, n_estimators=60; total time=   1.7s\n",
      "[CV] END ......................max_depth=70, n_estimators=60; total time=   1.7s\n",
      "[CV] END ......................max_depth=70, n_estimators=60; total time=   1.7s\n",
      "[CV] END ......................max_depth=70, n_estimators=60; total time=   1.7s\n",
      "[CV] END ......................max_depth=70, n_estimators=60; total time=   1.7s\n",
      "[CV] END ......................max_depth=70, n_estimators=70; total time=   1.9s\n",
      "[CV] END ......................max_depth=70, n_estimators=70; total time=   1.9s\n",
      "[CV] END ......................max_depth=70, n_estimators=70; total time=   2.0s\n"
     ]
    },
    {
     "name": "stdout",
     "output_type": "stream",
     "text": [
      "[CV] END ......................max_depth=70, n_estimators=70; total time=   2.0s\n",
      "[CV] END ......................max_depth=70, n_estimators=70; total time=   2.0s\n",
      "[CV] END ......................max_depth=70, n_estimators=80; total time=   2.3s\n",
      "[CV] END ......................max_depth=70, n_estimators=80; total time=   2.3s\n",
      "[CV] END ......................max_depth=70, n_estimators=80; total time=   2.2s\n",
      "[CV] END ......................max_depth=70, n_estimators=80; total time=   2.3s\n",
      "[CV] END ......................max_depth=70, n_estimators=80; total time=   2.3s\n",
      "[CV] END ......................max_depth=70, n_estimators=90; total time=   2.5s\n",
      "[CV] END ......................max_depth=70, n_estimators=90; total time=   2.5s\n",
      "[CV] END ......................max_depth=70, n_estimators=90; total time=   2.5s\n",
      "[CV] END ......................max_depth=70, n_estimators=90; total time=   2.5s\n",
      "[CV] END ......................max_depth=70, n_estimators=90; total time=   2.5s\n",
      "[CV] END .....................max_depth=70, n_estimators=100; total time=   2.8s\n",
      "[CV] END .....................max_depth=70, n_estimators=100; total time=   2.8s\n",
      "[CV] END .....................max_depth=70, n_estimators=100; total time=   2.8s\n",
      "[CV] END .....................max_depth=70, n_estimators=100; total time=   2.8s\n",
      "[CV] END .....................max_depth=70, n_estimators=100; total time=   2.9s\n",
      "[CV] END .....................max_depth=70, n_estimators=110; total time=   3.1s\n",
      "[CV] END .....................max_depth=70, n_estimators=110; total time=   3.1s\n",
      "[CV] END .....................max_depth=70, n_estimators=110; total time=   3.1s\n",
      "[CV] END .....................max_depth=70, n_estimators=110; total time=   3.1s\n",
      "[CV] END .....................max_depth=70, n_estimators=110; total time=   3.1s\n",
      "[CV] END .....................max_depth=70, n_estimators=120; total time=   3.4s\n",
      "[CV] END .....................max_depth=70, n_estimators=120; total time=   3.4s\n",
      "[CV] END .....................max_depth=70, n_estimators=120; total time=   3.4s\n",
      "[CV] END .....................max_depth=70, n_estimators=120; total time=   3.4s\n",
      "[CV] END .....................max_depth=70, n_estimators=120; total time=   3.4s\n",
      "[CV] END .....................max_depth=70, n_estimators=130; total time=   3.6s\n",
      "[CV] END .....................max_depth=70, n_estimators=130; total time=   3.6s\n",
      "[CV] END .....................max_depth=70, n_estimators=130; total time=   3.6s\n",
      "[CV] END .....................max_depth=70, n_estimators=130; total time=   3.6s\n",
      "[CV] END .....................max_depth=70, n_estimators=130; total time=   3.6s\n",
      "[CV] END .....................max_depth=70, n_estimators=140; total time=   3.9s\n",
      "[CV] END .....................max_depth=70, n_estimators=140; total time=   3.9s\n",
      "[CV] END .....................max_depth=70, n_estimators=140; total time=   3.9s\n",
      "[CV] END .....................max_depth=70, n_estimators=140; total time=   3.9s\n",
      "[CV] END .....................max_depth=70, n_estimators=140; total time=   3.9s\n",
      "[CV] END .....................max_depth=70, n_estimators=150; total time=   4.2s\n",
      "[CV] END .....................max_depth=70, n_estimators=150; total time=   4.2s\n",
      "[CV] END .....................max_depth=70, n_estimators=150; total time=   4.2s\n",
      "[CV] END .....................max_depth=70, n_estimators=150; total time=   4.3s\n",
      "[CV] END .....................max_depth=70, n_estimators=150; total time=   4.2s\n",
      "[CV] END .....................max_depth=70, n_estimators=160; total time=   4.5s\n",
      "[CV] END .....................max_depth=70, n_estimators=160; total time=   4.4s\n",
      "[CV] END .....................max_depth=70, n_estimators=160; total time=   4.5s\n",
      "[CV] END .....................max_depth=70, n_estimators=160; total time=   4.5s\n",
      "[CV] END .....................max_depth=70, n_estimators=160; total time=   4.4s\n",
      "[CV] END .....................max_depth=70, n_estimators=170; total time=   4.7s\n",
      "[CV] END .....................max_depth=70, n_estimators=170; total time=   4.7s\n",
      "[CV] END .....................max_depth=70, n_estimators=170; total time=   4.7s\n",
      "[CV] END .....................max_depth=70, n_estimators=170; total time=   4.7s\n",
      "[CV] END .....................max_depth=70, n_estimators=170; total time=   4.7s\n",
      "[CV] END .....................max_depth=70, n_estimators=180; total time=   5.0s\n",
      "[CV] END .....................max_depth=70, n_estimators=180; total time=   5.1s\n",
      "[CV] END .....................max_depth=70, n_estimators=180; total time=   5.0s\n",
      "[CV] END .....................max_depth=70, n_estimators=180; total time=   5.0s\n",
      "[CV] END .....................max_depth=70, n_estimators=180; total time=   5.1s\n",
      "[CV] END .....................max_depth=70, n_estimators=190; total time=   5.3s\n",
      "[CV] END .....................max_depth=70, n_estimators=190; total time=   5.3s\n",
      "[CV] END .....................max_depth=70, n_estimators=190; total time=   5.3s\n",
      "[CV] END .....................max_depth=70, n_estimators=190; total time=   5.3s\n",
      "[CV] END .....................max_depth=70, n_estimators=190; total time=   5.3s\n",
      "[CV] END .....................max_depth=70, n_estimators=200; total time=   5.6s\n",
      "[CV] END .....................max_depth=70, n_estimators=200; total time=   5.6s\n",
      "[CV] END .....................max_depth=70, n_estimators=200; total time=   5.5s\n",
      "[CV] END .....................max_depth=70, n_estimators=200; total time=   5.6s\n",
      "[CV] END .....................max_depth=70, n_estimators=200; total time=   5.6s\n",
      "[CV] END ......................max_depth=80, n_estimators=30; total time=   0.9s\n",
      "[CV] END ......................max_depth=80, n_estimators=30; total time=   0.9s\n",
      "[CV] END ......................max_depth=80, n_estimators=30; total time=   0.9s\n",
      "[CV] END ......................max_depth=80, n_estimators=30; total time=   0.9s\n",
      "[CV] END ......................max_depth=80, n_estimators=30; total time=   0.9s\n",
      "[CV] END ......................max_depth=80, n_estimators=40; total time=   1.2s\n",
      "[CV] END ......................max_depth=80, n_estimators=40; total time=   1.1s\n",
      "[CV] END ......................max_depth=80, n_estimators=40; total time=   1.1s\n",
      "[CV] END ......................max_depth=80, n_estimators=40; total time=   1.1s\n",
      "[CV] END ......................max_depth=80, n_estimators=40; total time=   1.2s\n",
      "[CV] END ......................max_depth=80, n_estimators=50; total time=   1.4s\n",
      "[CV] END ......................max_depth=80, n_estimators=50; total time=   1.4s\n",
      "[CV] END ......................max_depth=80, n_estimators=50; total time=   1.4s\n",
      "[CV] END ......................max_depth=80, n_estimators=50; total time=   1.4s\n",
      "[CV] END ......................max_depth=80, n_estimators=50; total time=   1.4s\n",
      "[CV] END ......................max_depth=80, n_estimators=60; total time=   1.7s\n",
      "[CV] END ......................max_depth=80, n_estimators=60; total time=   1.7s\n",
      "[CV] END ......................max_depth=80, n_estimators=60; total time=   1.7s\n",
      "[CV] END ......................max_depth=80, n_estimators=60; total time=   1.7s\n",
      "[CV] END ......................max_depth=80, n_estimators=60; total time=   1.7s\n",
      "[CV] END ......................max_depth=80, n_estimators=70; total time=   2.0s\n",
      "[CV] END ......................max_depth=80, n_estimators=70; total time=   2.0s\n",
      "[CV] END ......................max_depth=80, n_estimators=70; total time=   2.0s\n",
      "[CV] END ......................max_depth=80, n_estimators=70; total time=   2.0s\n",
      "[CV] END ......................max_depth=80, n_estimators=70; total time=   2.0s\n",
      "[CV] END ......................max_depth=80, n_estimators=80; total time=   2.3s\n",
      "[CV] END ......................max_depth=80, n_estimators=80; total time=   2.3s\n",
      "[CV] END ......................max_depth=80, n_estimators=80; total time=   2.2s\n",
      "[CV] END ......................max_depth=80, n_estimators=80; total time=   2.2s\n",
      "[CV] END ......................max_depth=80, n_estimators=80; total time=   2.3s\n",
      "[CV] END ......................max_depth=80, n_estimators=90; total time=   2.6s\n",
      "[CV] END ......................max_depth=80, n_estimators=90; total time=   2.5s\n",
      "[CV] END ......................max_depth=80, n_estimators=90; total time=   2.5s\n",
      "[CV] END ......................max_depth=80, n_estimators=90; total time=   2.6s\n",
      "[CV] END ......................max_depth=80, n_estimators=90; total time=   2.5s\n"
     ]
    },
    {
     "name": "stdout",
     "output_type": "stream",
     "text": [
      "[CV] END .....................max_depth=80, n_estimators=100; total time=   2.8s\n",
      "[CV] END .....................max_depth=80, n_estimators=100; total time=   2.8s\n",
      "[CV] END .....................max_depth=80, n_estimators=100; total time=   2.8s\n",
      "[CV] END .....................max_depth=80, n_estimators=100; total time=   2.8s\n",
      "[CV] END .....................max_depth=80, n_estimators=100; total time=   2.8s\n",
      "[CV] END .....................max_depth=80, n_estimators=110; total time=   3.0s\n",
      "[CV] END .....................max_depth=80, n_estimators=110; total time=   3.1s\n",
      "[CV] END .....................max_depth=80, n_estimators=110; total time=   3.1s\n",
      "[CV] END .....................max_depth=80, n_estimators=110; total time=   3.1s\n",
      "[CV] END .....................max_depth=80, n_estimators=110; total time=   3.1s\n",
      "[CV] END .....................max_depth=80, n_estimators=120; total time=   3.3s\n",
      "[CV] END .....................max_depth=80, n_estimators=120; total time=   3.4s\n",
      "[CV] END .....................max_depth=80, n_estimators=120; total time=   3.3s\n",
      "[CV] END .....................max_depth=80, n_estimators=120; total time=   3.4s\n",
      "[CV] END .....................max_depth=80, n_estimators=120; total time=   3.4s\n",
      "[CV] END .....................max_depth=80, n_estimators=130; total time=   3.6s\n",
      "[CV] END .....................max_depth=80, n_estimators=130; total time=   3.6s\n",
      "[CV] END .....................max_depth=80, n_estimators=130; total time=   3.6s\n",
      "[CV] END .....................max_depth=80, n_estimators=130; total time=   3.6s\n",
      "[CV] END .....................max_depth=80, n_estimators=130; total time=   3.6s\n",
      "[CV] END .....................max_depth=80, n_estimators=140; total time=   3.9s\n",
      "[CV] END .....................max_depth=80, n_estimators=140; total time=   3.9s\n",
      "[CV] END .....................max_depth=80, n_estimators=140; total time=   3.9s\n",
      "[CV] END .....................max_depth=80, n_estimators=140; total time=   3.9s\n",
      "[CV] END .....................max_depth=80, n_estimators=140; total time=   3.9s\n",
      "[CV] END .....................max_depth=80, n_estimators=150; total time=   4.2s\n",
      "[CV] END .....................max_depth=80, n_estimators=150; total time=   4.2s\n",
      "[CV] END .....................max_depth=80, n_estimators=150; total time=   4.2s\n",
      "[CV] END .....................max_depth=80, n_estimators=150; total time=   4.3s\n",
      "[CV] END .....................max_depth=80, n_estimators=150; total time=   4.2s\n",
      "[CV] END .....................max_depth=80, n_estimators=160; total time=   4.4s\n",
      "[CV] END .....................max_depth=80, n_estimators=160; total time=   4.4s\n",
      "[CV] END .....................max_depth=80, n_estimators=160; total time=   4.4s\n",
      "[CV] END .....................max_depth=80, n_estimators=160; total time=   4.5s\n",
      "[CV] END .....................max_depth=80, n_estimators=160; total time=   4.5s\n",
      "[CV] END .....................max_depth=80, n_estimators=170; total time=   4.7s\n",
      "[CV] END .....................max_depth=80, n_estimators=170; total time=   4.8s\n",
      "[CV] END .....................max_depth=80, n_estimators=170; total time=   4.7s\n",
      "[CV] END .....................max_depth=80, n_estimators=170; total time=   4.8s\n",
      "[CV] END .....................max_depth=80, n_estimators=170; total time=   4.8s\n",
      "[CV] END .....................max_depth=80, n_estimators=180; total time=   5.0s\n",
      "[CV] END .....................max_depth=80, n_estimators=180; total time=   5.0s\n",
      "[CV] END .....................max_depth=80, n_estimators=180; total time=   5.0s\n",
      "[CV] END .....................max_depth=80, n_estimators=180; total time=   5.0s\n",
      "[CV] END .....................max_depth=80, n_estimators=180; total time=   5.0s\n",
      "[CV] END .....................max_depth=80, n_estimators=190; total time=   5.3s\n",
      "[CV] END .....................max_depth=80, n_estimators=190; total time=   5.3s\n",
      "[CV] END .....................max_depth=80, n_estimators=190; total time=   5.3s\n",
      "[CV] END .....................max_depth=80, n_estimators=190; total time=   5.3s\n",
      "[CV] END .....................max_depth=80, n_estimators=190; total time=   5.3s\n",
      "[CV] END .....................max_depth=80, n_estimators=200; total time=   5.5s\n",
      "[CV] END .....................max_depth=80, n_estimators=200; total time=   5.6s\n",
      "[CV] END .....................max_depth=80, n_estimators=200; total time=   5.6s\n",
      "[CV] END .....................max_depth=80, n_estimators=200; total time=   5.6s\n",
      "[CV] END .....................max_depth=80, n_estimators=200; total time=   5.6s\n",
      "[CV] END ......................max_depth=90, n_estimators=30; total time=   0.9s\n",
      "[CV] END ......................max_depth=90, n_estimators=30; total time=   0.9s\n",
      "[CV] END ......................max_depth=90, n_estimators=30; total time=   0.9s\n",
      "[CV] END ......................max_depth=90, n_estimators=30; total time=   0.9s\n",
      "[CV] END ......................max_depth=90, n_estimators=30; total time=   0.9s\n",
      "[CV] END ......................max_depth=90, n_estimators=40; total time=   1.1s\n",
      "[CV] END ......................max_depth=90, n_estimators=40; total time=   1.2s\n",
      "[CV] END ......................max_depth=90, n_estimators=40; total time=   1.1s\n",
      "[CV] END ......................max_depth=90, n_estimators=40; total time=   1.2s\n",
      "[CV] END ......................max_depth=90, n_estimators=40; total time=   1.1s\n",
      "[CV] END ......................max_depth=90, n_estimators=50; total time=   1.4s\n",
      "[CV] END ......................max_depth=90, n_estimators=50; total time=   1.4s\n",
      "[CV] END ......................max_depth=90, n_estimators=50; total time=   1.4s\n",
      "[CV] END ......................max_depth=90, n_estimators=50; total time=   1.4s\n",
      "[CV] END ......................max_depth=90, n_estimators=50; total time=   1.5s\n",
      "[CV] END ......................max_depth=90, n_estimators=60; total time=   1.7s\n",
      "[CV] END ......................max_depth=90, n_estimators=60; total time=   1.7s\n",
      "[CV] END ......................max_depth=90, n_estimators=60; total time=   1.7s\n",
      "[CV] END ......................max_depth=90, n_estimators=60; total time=   1.7s\n",
      "[CV] END ......................max_depth=90, n_estimators=60; total time=   1.7s\n",
      "[CV] END ......................max_depth=90, n_estimators=70; total time=   2.0s\n",
      "[CV] END ......................max_depth=90, n_estimators=70; total time=   1.9s\n",
      "[CV] END ......................max_depth=90, n_estimators=70; total time=   2.0s\n",
      "[CV] END ......................max_depth=90, n_estimators=70; total time=   2.0s\n",
      "[CV] END ......................max_depth=90, n_estimators=70; total time=   2.0s\n",
      "[CV] END ......................max_depth=90, n_estimators=80; total time=   2.2s\n",
      "[CV] END ......................max_depth=90, n_estimators=80; total time=   2.3s\n",
      "[CV] END ......................max_depth=90, n_estimators=80; total time=   2.2s\n",
      "[CV] END ......................max_depth=90, n_estimators=80; total time=   2.3s\n",
      "[CV] END ......................max_depth=90, n_estimators=80; total time=   2.3s\n",
      "[CV] END ......................max_depth=90, n_estimators=90; total time=   2.5s\n",
      "[CV] END ......................max_depth=90, n_estimators=90; total time=   2.5s\n",
      "[CV] END ......................max_depth=90, n_estimators=90; total time=   2.5s\n",
      "[CV] END ......................max_depth=90, n_estimators=90; total time=   2.5s\n",
      "[CV] END ......................max_depth=90, n_estimators=90; total time=   2.5s\n",
      "[CV] END .....................max_depth=90, n_estimators=100; total time=   2.8s\n",
      "[CV] END .....................max_depth=90, n_estimators=100; total time=   2.8s\n",
      "[CV] END .....................max_depth=90, n_estimators=100; total time=   2.8s\n",
      "[CV] END .....................max_depth=90, n_estimators=100; total time=   2.8s\n",
      "[CV] END .....................max_depth=90, n_estimators=100; total time=   2.8s\n",
      "[CV] END .....................max_depth=90, n_estimators=110; total time=   3.1s\n",
      "[CV] END .....................max_depth=90, n_estimators=110; total time=   3.1s\n",
      "[CV] END .....................max_depth=90, n_estimators=110; total time=   3.1s\n",
      "[CV] END .....................max_depth=90, n_estimators=110; total time=   3.1s\n",
      "[CV] END .....................max_depth=90, n_estimators=110; total time=   3.1s\n",
      "[CV] END .....................max_depth=90, n_estimators=120; total time=   3.4s\n",
      "[CV] END .....................max_depth=90, n_estimators=120; total time=   3.4s\n"
     ]
    },
    {
     "name": "stdout",
     "output_type": "stream",
     "text": [
      "[CV] END .....................max_depth=90, n_estimators=120; total time=   3.3s\n",
      "[CV] END .....................max_depth=90, n_estimators=120; total time=   3.4s\n",
      "[CV] END .....................max_depth=90, n_estimators=120; total time=   3.4s\n",
      "[CV] END .....................max_depth=90, n_estimators=130; total time=   3.6s\n",
      "[CV] END .....................max_depth=90, n_estimators=130; total time=   3.6s\n",
      "[CV] END .....................max_depth=90, n_estimators=130; total time=   3.6s\n",
      "[CV] END .....................max_depth=90, n_estimators=130; total time=   3.7s\n",
      "[CV] END .....................max_depth=90, n_estimators=130; total time=   3.6s\n",
      "[CV] END .....................max_depth=90, n_estimators=140; total time=   3.9s\n",
      "[CV] END .....................max_depth=90, n_estimators=140; total time=   4.0s\n",
      "[CV] END .....................max_depth=90, n_estimators=140; total time=   3.9s\n",
      "[CV] END .....................max_depth=90, n_estimators=140; total time=   3.9s\n",
      "[CV] END .....................max_depth=90, n_estimators=140; total time=   3.8s\n",
      "[CV] END .....................max_depth=90, n_estimators=150; total time=   4.2s\n",
      "[CV] END .....................max_depth=90, n_estimators=150; total time=   4.2s\n",
      "[CV] END .....................max_depth=90, n_estimators=150; total time=   4.1s\n",
      "[CV] END .....................max_depth=90, n_estimators=150; total time=   4.2s\n",
      "[CV] END .....................max_depth=90, n_estimators=150; total time=   4.2s\n",
      "[CV] END .....................max_depth=90, n_estimators=160; total time=   4.4s\n",
      "[CV] END .....................max_depth=90, n_estimators=160; total time=   4.5s\n",
      "[CV] END .....................max_depth=90, n_estimators=160; total time=   4.5s\n",
      "[CV] END .....................max_depth=90, n_estimators=160; total time=   4.5s\n",
      "[CV] END .....................max_depth=90, n_estimators=160; total time=   4.5s\n",
      "[CV] END .....................max_depth=90, n_estimators=170; total time=   4.7s\n",
      "[CV] END .....................max_depth=90, n_estimators=170; total time=   4.7s\n",
      "[CV] END .....................max_depth=90, n_estimators=170; total time=   4.8s\n",
      "[CV] END .....................max_depth=90, n_estimators=170; total time=   4.8s\n",
      "[CV] END .....................max_depth=90, n_estimators=170; total time=   4.8s\n",
      "[CV] END .....................max_depth=90, n_estimators=180; total time=   5.0s\n",
      "[CV] END .....................max_depth=90, n_estimators=180; total time=   5.0s\n",
      "[CV] END .....................max_depth=90, n_estimators=180; total time=   5.0s\n",
      "[CV] END .....................max_depth=90, n_estimators=180; total time=   5.4s\n",
      "[CV] END .....................max_depth=90, n_estimators=180; total time=   5.1s\n",
      "[CV] END .....................max_depth=90, n_estimators=190; total time=   5.3s\n",
      "[CV] END .....................max_depth=90, n_estimators=190; total time=   5.3s\n",
      "[CV] END .....................max_depth=90, n_estimators=190; total time=   5.3s\n",
      "[CV] END .....................max_depth=90, n_estimators=190; total time=   5.4s\n",
      "[CV] END .....................max_depth=90, n_estimators=190; total time=   5.3s\n",
      "[CV] END .....................max_depth=90, n_estimators=200; total time=   5.6s\n",
      "[CV] END .....................max_depth=90, n_estimators=200; total time=   5.6s\n",
      "[CV] END .....................max_depth=90, n_estimators=200; total time=   5.5s\n",
      "[CV] END .....................max_depth=90, n_estimators=200; total time=   5.6s\n",
      "[CV] END .....................max_depth=90, n_estimators=200; total time=   5.6s\n",
      "[CV] END .....................max_depth=100, n_estimators=30; total time=   0.9s\n",
      "[CV] END .....................max_depth=100, n_estimators=30; total time=   0.9s\n",
      "[CV] END .....................max_depth=100, n_estimators=30; total time=   0.9s\n",
      "[CV] END .....................max_depth=100, n_estimators=30; total time=   0.9s\n",
      "[CV] END .....................max_depth=100, n_estimators=30; total time=   0.9s\n",
      "[CV] END .....................max_depth=100, n_estimators=40; total time=   1.1s\n",
      "[CV] END .....................max_depth=100, n_estimators=40; total time=   1.1s\n",
      "[CV] END .....................max_depth=100, n_estimators=40; total time=   1.1s\n",
      "[CV] END .....................max_depth=100, n_estimators=40; total time=   1.1s\n",
      "[CV] END .....................max_depth=100, n_estimators=40; total time=   1.1s\n",
      "[CV] END .....................max_depth=100, n_estimators=50; total time=   1.4s\n",
      "[CV] END .....................max_depth=100, n_estimators=50; total time=   1.4s\n",
      "[CV] END .....................max_depth=100, n_estimators=50; total time=   1.4s\n",
      "[CV] END .....................max_depth=100, n_estimators=50; total time=   1.4s\n",
      "[CV] END .....................max_depth=100, n_estimators=50; total time=   1.4s\n",
      "[CV] END .....................max_depth=100, n_estimators=60; total time=   1.7s\n",
      "[CV] END .....................max_depth=100, n_estimators=60; total time=   1.7s\n",
      "[CV] END .....................max_depth=100, n_estimators=60; total time=   1.7s\n",
      "[CV] END .....................max_depth=100, n_estimators=60; total time=   1.7s\n",
      "[CV] END .....................max_depth=100, n_estimators=60; total time=   1.7s\n",
      "[CV] END .....................max_depth=100, n_estimators=70; total time=   2.0s\n",
      "[CV] END .....................max_depth=100, n_estimators=70; total time=   2.0s\n",
      "[CV] END .....................max_depth=100, n_estimators=70; total time=   2.0s\n",
      "[CV] END .....................max_depth=100, n_estimators=70; total time=   2.0s\n",
      "[CV] END .....................max_depth=100, n_estimators=70; total time=   2.0s\n",
      "[CV] END .....................max_depth=100, n_estimators=80; total time=   2.2s\n",
      "[CV] END .....................max_depth=100, n_estimators=80; total time=   2.2s\n",
      "[CV] END .....................max_depth=100, n_estimators=80; total time=   2.2s\n",
      "[CV] END .....................max_depth=100, n_estimators=80; total time=   2.2s\n",
      "[CV] END .....................max_depth=100, n_estimators=80; total time=   2.3s\n",
      "[CV] END .....................max_depth=100, n_estimators=90; total time=   2.5s\n",
      "[CV] END .....................max_depth=100, n_estimators=90; total time=   2.5s\n",
      "[CV] END .....................max_depth=100, n_estimators=90; total time=   2.5s\n",
      "[CV] END .....................max_depth=100, n_estimators=90; total time=   2.6s\n",
      "[CV] END .....................max_depth=100, n_estimators=90; total time=   2.5s\n",
      "[CV] END ....................max_depth=100, n_estimators=100; total time=   2.8s\n",
      "[CV] END ....................max_depth=100, n_estimators=100; total time=   2.8s\n",
      "[CV] END ....................max_depth=100, n_estimators=100; total time=   2.8s\n",
      "[CV] END ....................max_depth=100, n_estimators=100; total time=   2.8s\n",
      "[CV] END ....................max_depth=100, n_estimators=100; total time=   2.8s\n",
      "[CV] END ....................max_depth=100, n_estimators=110; total time=   3.1s\n",
      "[CV] END ....................max_depth=100, n_estimators=110; total time=   3.1s\n",
      "[CV] END ....................max_depth=100, n_estimators=110; total time=   3.1s\n",
      "[CV] END ....................max_depth=100, n_estimators=110; total time=   3.1s\n",
      "[CV] END ....................max_depth=100, n_estimators=110; total time=   3.1s\n",
      "[CV] END ....................max_depth=100, n_estimators=120; total time=   3.4s\n",
      "[CV] END ....................max_depth=100, n_estimators=120; total time=   3.4s\n",
      "[CV] END ....................max_depth=100, n_estimators=120; total time=   3.4s\n",
      "[CV] END ....................max_depth=100, n_estimators=120; total time=   3.4s\n",
      "[CV] END ....................max_depth=100, n_estimators=120; total time=   3.4s\n",
      "[CV] END ....................max_depth=100, n_estimators=130; total time=   3.6s\n",
      "[CV] END ....................max_depth=100, n_estimators=130; total time=   3.6s\n",
      "[CV] END ....................max_depth=100, n_estimators=130; total time=   3.6s\n",
      "[CV] END ....................max_depth=100, n_estimators=130; total time=   3.7s\n",
      "[CV] END ....................max_depth=100, n_estimators=130; total time=   3.6s\n",
      "[CV] END ....................max_depth=100, n_estimators=140; total time=   3.9s\n",
      "[CV] END ....................max_depth=100, n_estimators=140; total time=   3.9s\n",
      "[CV] END ....................max_depth=100, n_estimators=140; total time=   3.9s\n",
      "[CV] END ....................max_depth=100, n_estimators=140; total time=   3.9s\n"
     ]
    },
    {
     "name": "stdout",
     "output_type": "stream",
     "text": [
      "[CV] END ....................max_depth=100, n_estimators=140; total time=   3.9s\n",
      "[CV] END ....................max_depth=100, n_estimators=150; total time=   4.2s\n",
      "[CV] END ....................max_depth=100, n_estimators=150; total time=   4.2s\n",
      "[CV] END ....................max_depth=100, n_estimators=150; total time=   4.1s\n",
      "[CV] END ....................max_depth=100, n_estimators=150; total time=   4.2s\n",
      "[CV] END ....................max_depth=100, n_estimators=150; total time=   4.2s\n",
      "[CV] END ....................max_depth=100, n_estimators=160; total time=   4.5s\n",
      "[CV] END ....................max_depth=100, n_estimators=160; total time=   4.5s\n",
      "[CV] END ....................max_depth=100, n_estimators=160; total time=   4.5s\n",
      "[CV] END ....................max_depth=100, n_estimators=160; total time=   4.5s\n",
      "[CV] END ....................max_depth=100, n_estimators=160; total time=   4.5s\n",
      "[CV] END ....................max_depth=100, n_estimators=170; total time=   4.8s\n",
      "[CV] END ....................max_depth=100, n_estimators=170; total time=   4.8s\n",
      "[CV] END ....................max_depth=100, n_estimators=170; total time=   4.7s\n",
      "[CV] END ....................max_depth=100, n_estimators=170; total time=   4.8s\n",
      "[CV] END ....................max_depth=100, n_estimators=170; total time=   4.7s\n",
      "[CV] END ....................max_depth=100, n_estimators=180; total time=   5.0s\n",
      "[CV] END ....................max_depth=100, n_estimators=180; total time=   5.1s\n",
      "[CV] END ....................max_depth=100, n_estimators=180; total time=   5.0s\n",
      "[CV] END ....................max_depth=100, n_estimators=180; total time=   5.0s\n",
      "[CV] END ....................max_depth=100, n_estimators=180; total time=   5.0s\n",
      "[CV] END ....................max_depth=100, n_estimators=190; total time=   5.3s\n",
      "[CV] END ....................max_depth=100, n_estimators=190; total time=   5.3s\n",
      "[CV] END ....................max_depth=100, n_estimators=190; total time=   5.3s\n",
      "[CV] END ....................max_depth=100, n_estimators=190; total time=   5.3s\n",
      "[CV] END ....................max_depth=100, n_estimators=190; total time=   5.3s\n",
      "[CV] END ....................max_depth=100, n_estimators=200; total time=   5.6s\n",
      "[CV] END ....................max_depth=100, n_estimators=200; total time=   5.6s\n",
      "[CV] END ....................max_depth=100, n_estimators=200; total time=   5.6s\n",
      "[CV] END ....................max_depth=100, n_estimators=200; total time=   5.5s\n",
      "[CV] END ....................max_depth=100, n_estimators=200; total time=   5.6s\n",
      "[CV] END .....................max_depth=110, n_estimators=30; total time=   0.9s\n",
      "[CV] END .....................max_depth=110, n_estimators=30; total time=   0.9s\n",
      "[CV] END .....................max_depth=110, n_estimators=30; total time=   0.9s\n",
      "[CV] END .....................max_depth=110, n_estimators=30; total time=   0.9s\n",
      "[CV] END .....................max_depth=110, n_estimators=30; total time=   0.9s\n",
      "[CV] END .....................max_depth=110, n_estimators=40; total time=   1.1s\n",
      "[CV] END .....................max_depth=110, n_estimators=40; total time=   1.2s\n",
      "[CV] END .....................max_depth=110, n_estimators=40; total time=   1.1s\n",
      "[CV] END .....................max_depth=110, n_estimators=40; total time=   1.2s\n",
      "[CV] END .....................max_depth=110, n_estimators=40; total time=   1.1s\n",
      "[CV] END .....................max_depth=110, n_estimators=50; total time=   1.4s\n",
      "[CV] END .....................max_depth=110, n_estimators=50; total time=   1.4s\n",
      "[CV] END .....................max_depth=110, n_estimators=50; total time=   1.4s\n",
      "[CV] END .....................max_depth=110, n_estimators=50; total time=   1.4s\n",
      "[CV] END .....................max_depth=110, n_estimators=50; total time=   1.4s\n",
      "[CV] END .....................max_depth=110, n_estimators=60; total time=   1.7s\n",
      "[CV] END .....................max_depth=110, n_estimators=60; total time=   1.7s\n",
      "[CV] END .....................max_depth=110, n_estimators=60; total time=   1.7s\n",
      "[CV] END .....................max_depth=110, n_estimators=60; total time=   1.7s\n",
      "[CV] END .....................max_depth=110, n_estimators=60; total time=   1.7s\n",
      "[CV] END .....................max_depth=110, n_estimators=70; total time=   2.0s\n",
      "[CV] END .....................max_depth=110, n_estimators=70; total time=   2.0s\n",
      "[CV] END .....................max_depth=110, n_estimators=70; total time=   2.0s\n",
      "[CV] END .....................max_depth=110, n_estimators=70; total time=   2.0s\n",
      "[CV] END .....................max_depth=110, n_estimators=70; total time=   2.0s\n",
      "[CV] END .....................max_depth=110, n_estimators=80; total time=   2.2s\n",
      "[CV] END .....................max_depth=110, n_estimators=80; total time=   2.3s\n",
      "[CV] END .....................max_depth=110, n_estimators=80; total time=   2.3s\n",
      "[CV] END .....................max_depth=110, n_estimators=80; total time=   2.2s\n",
      "[CV] END .....................max_depth=110, n_estimators=80; total time=   2.3s\n",
      "[CV] END .....................max_depth=110, n_estimators=90; total time=   2.6s\n",
      "[CV] END .....................max_depth=110, n_estimators=90; total time=   2.5s\n",
      "[CV] END .....................max_depth=110, n_estimators=90; total time=   2.5s\n",
      "[CV] END .....................max_depth=110, n_estimators=90; total time=   2.6s\n",
      "[CV] END .....................max_depth=110, n_estimators=90; total time=   2.6s\n",
      "[CV] END ....................max_depth=110, n_estimators=100; total time=   2.8s\n",
      "[CV] END ....................max_depth=110, n_estimators=100; total time=   2.8s\n",
      "[CV] END ....................max_depth=110, n_estimators=100; total time=   2.8s\n",
      "[CV] END ....................max_depth=110, n_estimators=100; total time=   2.8s\n",
      "[CV] END ....................max_depth=110, n_estimators=100; total time=   2.8s\n",
      "[CV] END ....................max_depth=110, n_estimators=110; total time=   3.1s\n",
      "[CV] END ....................max_depth=110, n_estimators=110; total time=   3.1s\n",
      "[CV] END ....................max_depth=110, n_estimators=110; total time=   3.1s\n",
      "[CV] END ....................max_depth=110, n_estimators=110; total time=   3.1s\n",
      "[CV] END ....................max_depth=110, n_estimators=110; total time=   3.1s\n",
      "[CV] END ....................max_depth=110, n_estimators=120; total time=   3.3s\n",
      "[CV] END ....................max_depth=110, n_estimators=120; total time=   3.4s\n",
      "[CV] END ....................max_depth=110, n_estimators=120; total time=   3.3s\n",
      "[CV] END ....................max_depth=110, n_estimators=120; total time=   3.4s\n",
      "[CV] END ....................max_depth=110, n_estimators=120; total time=   3.4s\n",
      "[CV] END ....................max_depth=110, n_estimators=130; total time=   3.6s\n",
      "[CV] END ....................max_depth=110, n_estimators=130; total time=   3.6s\n",
      "[CV] END ....................max_depth=110, n_estimators=130; total time=   3.6s\n",
      "[CV] END ....................max_depth=110, n_estimators=130; total time=   3.7s\n",
      "[CV] END ....................max_depth=110, n_estimators=130; total time=   3.7s\n",
      "[CV] END ....................max_depth=110, n_estimators=140; total time=   3.9s\n",
      "[CV] END ....................max_depth=110, n_estimators=140; total time=   3.9s\n",
      "[CV] END ....................max_depth=110, n_estimators=140; total time=   3.9s\n",
      "[CV] END ....................max_depth=110, n_estimators=140; total time=   4.0s\n",
      "[CV] END ....................max_depth=110, n_estimators=140; total time=   3.9s\n",
      "[CV] END ....................max_depth=110, n_estimators=150; total time=   4.1s\n",
      "[CV] END ....................max_depth=110, n_estimators=150; total time=   4.2s\n",
      "[CV] END ....................max_depth=110, n_estimators=150; total time=   4.2s\n",
      "[CV] END ....................max_depth=110, n_estimators=150; total time=   4.2s\n",
      "[CV] END ....................max_depth=110, n_estimators=150; total time=   4.2s\n",
      "[CV] END ....................max_depth=110, n_estimators=160; total time=   4.4s\n",
      "[CV] END ....................max_depth=110, n_estimators=160; total time=   4.5s\n",
      "[CV] END ....................max_depth=110, n_estimators=160; total time=   4.5s\n",
      "[CV] END ....................max_depth=110, n_estimators=160; total time=   4.5s\n",
      "[CV] END ....................max_depth=110, n_estimators=160; total time=   4.4s\n",
      "[CV] END ....................max_depth=110, n_estimators=170; total time=   4.8s\n"
     ]
    },
    {
     "name": "stdout",
     "output_type": "stream",
     "text": [
      "[CV] END ....................max_depth=110, n_estimators=170; total time=   4.7s\n",
      "[CV] END ....................max_depth=110, n_estimators=170; total time=   4.8s\n",
      "[CV] END ....................max_depth=110, n_estimators=170; total time=   4.8s\n",
      "[CV] END ....................max_depth=110, n_estimators=170; total time=   4.8s\n",
      "[CV] END ....................max_depth=110, n_estimators=180; total time=   5.1s\n",
      "[CV] END ....................max_depth=110, n_estimators=180; total time=   5.0s\n",
      "[CV] END ....................max_depth=110, n_estimators=180; total time=   5.0s\n",
      "[CV] END ....................max_depth=110, n_estimators=180; total time=   5.0s\n",
      "[CV] END ....................max_depth=110, n_estimators=180; total time=   5.1s\n",
      "[CV] END ....................max_depth=110, n_estimators=190; total time=   5.3s\n",
      "[CV] END ....................max_depth=110, n_estimators=190; total time=   5.3s\n",
      "[CV] END ....................max_depth=110, n_estimators=190; total time=   5.3s\n",
      "[CV] END ....................max_depth=110, n_estimators=190; total time=   5.3s\n",
      "[CV] END ....................max_depth=110, n_estimators=190; total time=   5.3s\n",
      "[CV] END ....................max_depth=110, n_estimators=200; total time=   5.6s\n",
      "[CV] END ....................max_depth=110, n_estimators=200; total time=   5.6s\n",
      "[CV] END ....................max_depth=110, n_estimators=200; total time=   5.6s\n",
      "[CV] END ....................max_depth=110, n_estimators=200; total time=   5.6s\n",
      "[CV] END ....................max_depth=110, n_estimators=200; total time=   5.6s\n",
      "Training best f1 score: 0.93 with parameters {'max_depth': 80, 'n_estimators': 180}\n"
     ]
    }
   ],
   "source": [
    "grid = {'n_estimators': [int(x) for x in np.linspace(start = 30, stop = 200, num = 18)],\n",
    "              'max_depth' : [int(x) for x in np.linspace(50, 110, num = 7)]}\n",
    "run_model(RandomForestClassifier(), \n",
    "          \"RF-smt\", X_smt, y_smt, grid)"
   ]
  },
  {
   "cell_type": "markdown",
   "id": "6bc72852",
   "metadata": {},
   "source": [
    "[Back to top](#s0)"
   ]
  },
  {
   "cell_type": "markdown",
   "id": "1c958707",
   "metadata": {},
   "source": [
    "## 5. Model evaluation<a id='s5'></a>"
   ]
  },
  {
   "cell_type": "code",
   "execution_count": 311,
   "id": "b0b6156d",
   "metadata": {},
   "outputs": [
    {
     "data": {
      "text/html": [
       "<div>\n",
       "<style scoped>\n",
       "    .dataframe tbody tr th:only-of-type {\n",
       "        vertical-align: middle;\n",
       "    }\n",
       "\n",
       "    .dataframe tbody tr th {\n",
       "        vertical-align: top;\n",
       "    }\n",
       "\n",
       "    .dataframe thead th {\n",
       "        text-align: right;\n",
       "    }\n",
       "</style>\n",
       "<table border=\"1\" class=\"dataframe\">\n",
       "  <thead>\n",
       "    <tr style=\"text-align: right;\">\n",
       "      <th></th>\n",
       "      <th>model</th>\n",
       "      <th>precision</th>\n",
       "      <th>recall</th>\n",
       "      <th>f1</th>\n",
       "      <th>f1_train</th>\n",
       "    </tr>\n",
       "  </thead>\n",
       "  <tbody>\n",
       "    <tr>\n",
       "      <th>0</th>\n",
       "      <td>Logistic</td>\n",
       "      <td>0.067810</td>\n",
       "      <td>0.482440</td>\n",
       "      <td>0.118907</td>\n",
       "      <td>0.13</td>\n",
       "    </tr>\n",
       "    <tr>\n",
       "      <th>1</th>\n",
       "      <td>Naive_Bayes</td>\n",
       "      <td>1.000000</td>\n",
       "      <td>0.001848</td>\n",
       "      <td>0.003690</td>\n",
       "      <td>0.01</td>\n",
       "    </tr>\n",
       "    <tr>\n",
       "      <th>2</th>\n",
       "      <td>SVM</td>\n",
       "      <td>0.296998</td>\n",
       "      <td>0.347505</td>\n",
       "      <td>0.320273</td>\n",
       "      <td>0.32</td>\n",
       "    </tr>\n",
       "    <tr>\n",
       "      <th>3</th>\n",
       "      <td>Knn</td>\n",
       "      <td>0.329918</td>\n",
       "      <td>0.297597</td>\n",
       "      <td>0.312925</td>\n",
       "      <td>0.31</td>\n",
       "    </tr>\n",
       "    <tr>\n",
       "      <th>4</th>\n",
       "      <td>RF</td>\n",
       "      <td>0.268841</td>\n",
       "      <td>0.441774</td>\n",
       "      <td>0.334266</td>\n",
       "      <td>0.34</td>\n",
       "    </tr>\n",
       "    <tr>\n",
       "      <th>5</th>\n",
       "      <td>GB</td>\n",
       "      <td>0.496063</td>\n",
       "      <td>0.232902</td>\n",
       "      <td>0.316981</td>\n",
       "      <td>0.32</td>\n",
       "    </tr>\n",
       "    <tr>\n",
       "      <th>6</th>\n",
       "      <td>Knn-smt</td>\n",
       "      <td>0.262774</td>\n",
       "      <td>0.332717</td>\n",
       "      <td>0.293638</td>\n",
       "      <td>0.88</td>\n",
       "    </tr>\n",
       "    <tr>\n",
       "      <th>7</th>\n",
       "      <td>RF-smt</td>\n",
       "      <td>0.284178</td>\n",
       "      <td>0.341959</td>\n",
       "      <td>0.310403</td>\n",
       "      <td>0.93</td>\n",
       "    </tr>\n",
       "  </tbody>\n",
       "</table>\n",
       "</div>"
      ],
      "text/plain": [
       "         model  precision    recall        f1  f1_train\n",
       "0     Logistic   0.067810  0.482440  0.118907      0.13\n",
       "1  Naive_Bayes   1.000000  0.001848  0.003690      0.01\n",
       "2          SVM   0.296998  0.347505  0.320273      0.32\n",
       "3          Knn   0.329918  0.297597  0.312925      0.31\n",
       "4           RF   0.268841  0.441774  0.334266      0.34\n",
       "5           GB   0.496063  0.232902  0.316981      0.32\n",
       "6      Knn-smt   0.262774  0.332717  0.293638      0.88\n",
       "7       RF-smt   0.284178  0.341959  0.310403      0.93"
      ]
     },
     "execution_count": 311,
     "metadata": {},
     "output_type": "execute_result"
    }
   ],
   "source": [
    "results"
   ]
  },
  {
   "cell_type": "markdown",
   "id": "24929124",
   "metadata": {},
   "source": [
    "**Observations**<br>\n",
    "1. Overall performance is not great - the best f1 score is 33%, with precision 27% and recall 44%. Most models give a large number of false positives. In practice this kind of model would depend heavily on some kind of credit record, but the credit records have been specifically excluded because they were used to label the data in the first place.\n",
    "2. Linear models perform particularly badly. The mapping of variable space to decision class is clealy non-linear.\n",
    "3. Non-linear and ensemble models perform better, to a broadly similar standard. This invariance to model suggests that we are probably getting the best out of the existing data. Further refinements to the model are not going to make significant improvements to the performance. Other features (e.g. credit history) would be required to get a better score.\n",
    "4. Resampling produces heavily over-trained models, as evidenced by the huge discrepancy between CV f1 scores and final test set f1 scores. Tested performance is no better than using the original imbalanced data set.<br><br><br>\n",
    "**Transparency**<br>\n",
    "One of the requirements was to attend to the issue of decision transparency, which more easily attained with linear models. The RandomForest model does provide an \"importance\" metric which scores variables on their contribution the the model. Our model highlights three variables: age, length of employment and income. These variables have an importance 10X greater than any other. In fact it suggests that we could build as effective a model using jkust these three."
   ]
  },
  {
   "cell_type": "code",
   "execution_count": 393,
   "id": "0a709835",
   "metadata": {},
   "outputs": [
    {
     "data": {
      "text/html": [
       "<div>\n",
       "<style scoped>\n",
       "    .dataframe tbody tr th:only-of-type {\n",
       "        vertical-align: middle;\n",
       "    }\n",
       "\n",
       "    .dataframe tbody tr th {\n",
       "        vertical-align: top;\n",
       "    }\n",
       "\n",
       "    .dataframe thead th {\n",
       "        text-align: right;\n",
       "    }\n",
       "</style>\n",
       "<table border=\"1\" class=\"dataframe\">\n",
       "  <thead>\n",
       "    <tr style=\"text-align: right;\">\n",
       "      <th></th>\n",
       "      <th>feature</th>\n",
       "      <th>Importance</th>\n",
       "    </tr>\n",
       "  </thead>\n",
       "  <tbody>\n",
       "    <tr>\n",
       "      <th>3</th>\n",
       "      <td>DAYS_BIRTH</td>\n",
       "      <td>0.315765</td>\n",
       "    </tr>\n",
       "    <tr>\n",
       "      <th>4</th>\n",
       "      <td>DAYS_EMPLOYED</td>\n",
       "      <td>0.230434</td>\n",
       "    </tr>\n",
       "    <tr>\n",
       "      <th>2</th>\n",
       "      <td>AMT_INCOME_TOTAL</td>\n",
       "      <td>0.201116</td>\n",
       "    </tr>\n",
       "    <tr>\n",
       "      <th>1</th>\n",
       "      <td>FLAG_OWN_REALTY</td>\n",
       "      <td>0.029021</td>\n",
       "    </tr>\n",
       "    <tr>\n",
       "      <th>9</th>\n",
       "      <td>Higher education</td>\n",
       "      <td>0.025457</td>\n",
       "    </tr>\n",
       "    <tr>\n",
       "      <th>0</th>\n",
       "      <td>CODE_GENDER</td>\n",
       "      <td>0.021478</td>\n",
       "    </tr>\n",
       "    <tr>\n",
       "      <th>12</th>\n",
       "      <td>Single / not married</td>\n",
       "      <td>0.020853</td>\n",
       "    </tr>\n",
       "    <tr>\n",
       "      <th>13</th>\n",
       "      <td>House / apartment</td>\n",
       "      <td>0.018639</td>\n",
       "    </tr>\n",
       "    <tr>\n",
       "      <th>18</th>\n",
       "      <td>Unspecified</td>\n",
       "      <td>0.016130</td>\n",
       "    </tr>\n",
       "    <tr>\n",
       "      <th>10</th>\n",
       "      <td>Civil marriage</td>\n",
       "      <td>0.015802</td>\n",
       "    </tr>\n",
       "  </tbody>\n",
       "</table>\n",
       "</div>"
      ],
      "text/plain": [
       "                 feature  Importance\n",
       "3             DAYS_BIRTH    0.315765\n",
       "4          DAYS_EMPLOYED    0.230434\n",
       "2       AMT_INCOME_TOTAL    0.201116\n",
       "1        FLAG_OWN_REALTY    0.029021\n",
       "9       Higher education    0.025457\n",
       "0            CODE_GENDER    0.021478\n",
       "12  Single / not married    0.020853\n",
       "13     House / apartment    0.018639\n",
       "18           Unspecified    0.016130\n",
       "10        Civil marriage    0.015802"
      ]
     },
     "execution_count": 393,
     "metadata": {},
     "output_type": "execute_result"
    }
   ],
   "source": [
    "importance = pd.DataFrame()\n",
    "importance['feature'] = X_train_scaled.columns\n",
    "importance['Importance'] = models['RF'].best_estimator_.feature_importances_\n",
    "importance.nlargest(10,'Importance')"
   ]
  },
  {
   "cell_type": "markdown",
   "id": "1f249e0e",
   "metadata": {},
   "source": [
    "[Back to top](#s0)"
   ]
  },
  {
   "cell_type": "markdown",
   "id": "ff2a07eb",
   "metadata": {},
   "source": [
    "## 6. Conclusions<a id='s6'></a>"
   ]
  },
  {
   "cell_type": "markdown",
   "id": "19ed4134",
   "metadata": {},
   "source": [
    "Our best model (Random Forest) gives a balanced f1 score of 33%, which is not a convincing basis for making credit application decisions. At this point it does not appear that the existing features provide sufficient information to define the classification adequately. A better model would need to incorporate more discriminating features, such as credit history, other outstanding debts etc."
   ]
  },
  {
   "cell_type": "code",
   "execution_count": null,
   "id": "78d48801",
   "metadata": {},
   "outputs": [],
   "source": []
  }
 ],
 "metadata": {
  "kernelspec": {
   "display_name": "Python 3 (ipykernel)",
   "language": "python",
   "name": "python3"
  },
  "language_info": {
   "codemirror_mode": {
    "name": "ipython",
    "version": 3
   },
   "file_extension": ".py",
   "mimetype": "text/x-python",
   "name": "python",
   "nbconvert_exporter": "python",
   "pygments_lexer": "ipython3",
   "version": "3.9.6"
  }
 },
 "nbformat": 4,
 "nbformat_minor": 5
}
